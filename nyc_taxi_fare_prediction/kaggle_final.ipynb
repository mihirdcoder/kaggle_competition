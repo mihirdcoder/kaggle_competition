{
 "cells": [
  {
   "cell_type": "code",
   "execution_count": 1,
   "metadata": {
    "colab": {},
    "colab_type": "code",
    "id": "yLOrBj_FPCQ4"
   },
   "outputs": [],
   "source": [
    "import pandas as pd\n",
    "import numpy as np\n",
    "import sklearn \n",
    "import matplotlib.pyplot as plt\n",
    "import seaborn as sns\n",
    "import math\n",
    "import scipy as sc\n",
    "import random"
   ]
  },
  {
   "cell_type": "markdown",
   "metadata": {
    "colab_type": "text",
    "id": "G3y_ei8cSN7O"
   },
   "source": []
  },
  {
   "cell_type": "code",
   "execution_count": 2,
   "metadata": {
    "colab": {
     "base_uri": "https://localhost:8080/",
     "height": 34
    },
    "colab_type": "code",
    "id": "taHmbiTJQezf",
    "outputId": "b546229d-2f2e-410f-d73c-db0d9bfaf74d"
   },
   "outputs": [
    {
     "name": "stdout",
     "output_type": "stream",
     "text": [
      "Mounted at /content/gdrive\n"
     ]
    }
   ],
   "source": [
    "from google.colab import drive\n",
    "drive.mount('/content/gdrive')"
   ]
  },
  {
   "cell_type": "code",
   "execution_count": 4,
   "metadata": {
    "colab": {
     "base_uri": "https://localhost:8080/",
     "height": 34
    },
    "colab_type": "code",
    "id": "ndXQEJuOQ5Qe",
    "outputId": "837c6ad1-4990-4046-e40b-cf14e6560439"
   },
   "outputs": [
    {
     "name": "stdout",
     "output_type": "stream",
     "text": [
      "test.csv  train.feather\n"
     ]
    }
   ],
   "source": [
    "!ls \"/content/gdrive/My Drive/datasets\""
   ]
  },
  {
   "cell_type": "code",
   "execution_count": 5,
   "metadata": {
    "colab": {
     "base_uri": "https://localhost:8080/",
     "height": 258
    },
    "colab_type": "code",
    "id": "ZIocAhV5RLe_",
    "outputId": "cac894a7-6084-4492-d603-c208c1b38533"
   },
   "outputs": [
    {
     "name": "stdout",
     "output_type": "stream",
     "text": [
      "Collecting feather-format\n",
      "  Downloading https://files.pythonhosted.org/packages/08/55/940b97cc6f19a19f5dab9efef2f68a0ce43a7632f858b272391f0b851a7e/feather-format-0.4.0.tar.gz\n",
      "Collecting pyarrow>=0.4.0 (from feather-format)\n",
      "\u001b[?25l  Downloading https://files.pythonhosted.org/packages/c9/b8/076ebd968f3c6d4e9b6e5de696f0b19964a3d4b7dc020fd32db4e868ad74/pyarrow-0.10.0-cp36-cp36m-manylinux1_x86_64.whl (11.6MB)\n",
      "\u001b[K    100% |████████████████████████████████| 11.6MB 2.9MB/s \n",
      "\u001b[?25hRequirement already satisfied: six>=1.0.0 in /usr/local/lib/python3.6/dist-packages (from pyarrow>=0.4.0->feather-format) (1.11.0)\n",
      "Requirement already satisfied: numpy>=1.10 in /usr/local/lib/python3.6/dist-packages (from pyarrow>=0.4.0->feather-format) (1.14.5)\n",
      "Building wheels for collected packages: feather-format\n",
      "  Running setup.py bdist_wheel for feather-format ... \u001b[?25l-\b \b\\\b \bdone\n",
      "\u001b[?25h  Stored in directory: /root/.cache/pip/wheels/85/7d/12/2dfa5c0195f921ac935f5e8f27deada74972edc0ae9988a9c1\n",
      "Successfully built feather-format\n",
      "Installing collected packages: pyarrow, feather-format\n",
      "Successfully installed feather-format-0.4.0 pyarrow-0.10.0\n"
     ]
    }
   ],
   "source": [
    "!pip install feather-format"
   ]
  },
  {
   "cell_type": "code",
   "execution_count": 3,
   "metadata": {
    "colab": {
     "base_uri": "https://localhost:8080/",
     "height": 71
    },
    "colab_type": "code",
    "id": "gnuLhs0WRRsx",
    "outputId": "bd02f86e-1b2e-41c7-80fd-7f787a33eb37"
   },
   "outputs": [
    {
     "name": "stderr",
     "output_type": "stream",
     "text": [
      "/usr/local/lib/python3.6/dist-packages/pandas/io/feather_format.py:112: FutureWarning: `nthreads` argument is deprecated, pass `use_threads` instead\n",
      "  return feather.read_dataframe(path, nthreads=nthreads)\n"
     ]
    }
   ],
   "source": [
    "train_df1 = pd.read_feather(\"/content/gdrive/My Drive/datasets/train.feather\")"
   ]
  },
  {
   "cell_type": "code",
   "execution_count": 0,
   "metadata": {
    "colab": {},
    "colab_type": "code",
    "id": "14IHElA-McY4"
   },
   "outputs": [],
   "source": [
    "train_df = pd.read_csv(\"train.csv\", rows = )"
   ]
  },
  {
   "cell_type": "code",
   "execution_count": 0,
   "metadata": {
    "colab": {},
    "colab_type": "code",
    "id": "IEvhE6tdMp7t"
   },
   "outputs": [],
   "source": []
  },
  {
   "cell_type": "code",
   "execution_count": 5,
   "metadata": {
    "colab": {
     "base_uri": "https://localhost:8080/",
     "height": 34
    },
    "colab_type": "code",
    "id": "eeV-35AZNizw",
    "outputId": "aac51182-cb10-45c4-b4c5-98eeaf9c8643"
   },
   "outputs": [
    {
     "data": {
      "text/plain": [
       "(13855964, 7)"
      ]
     },
     "execution_count": 5,
     "metadata": {
      "tags": []
     },
     "output_type": "execute_result"
    }
   ],
   "source": []
  },
  {
   "cell_type": "code",
   "execution_count": 6,
   "metadata": {
    "colab": {
     "base_uri": "https://localhost:8080/",
     "height": 438
    },
    "colab_type": "code",
    "id": "oDrJcnxqNEb0",
    "outputId": "d1812b61-a585-44ee-87e7-684300e9a875"
   },
   "outputs": [
    {
     "ename": "TypeError",
     "evalue": "ignored",
     "output_type": "error",
     "traceback": [
      "\u001b[0;31m---------------------------------------------------------------------------\u001b[0m",
      "\u001b[0;31mTypeError\u001b[0m                                 Traceback (most recent call last)",
      "\u001b[0;32m<ipython-input-6-81675caf13a0>\u001b[0m in \u001b[0;36m<module>\u001b[0;34m()\u001b[0m\n\u001b[0;32m----> 1\u001b[0;31m \u001b[0mtrain_df\u001b[0m \u001b[0;34m=\u001b[0m \u001b[0mpd\u001b[0m\u001b[0;34m.\u001b[0m\u001b[0mconcat\u001b[0m\u001b[0;34m(\u001b[0m\u001b[0mtrain_df\u001b[0m\u001b[0;34m,\u001b[0m\u001b[0mtest_df\u001b[0m\u001b[0;34m)\u001b[0m\u001b[0;34m\u001b[0m\u001b[0m\n\u001b[0m\u001b[1;32m      2\u001b[0m \u001b[0mtrain_df\u001b[0m\u001b[0;34m.\u001b[0m\u001b[0mshape\u001b[0m\u001b[0;34m\u001b[0m\u001b[0m\n",
      "\u001b[0;32m/usr/local/lib/python3.6/dist-packages/pandas/core/reshape/concat.py\u001b[0m in \u001b[0;36mconcat\u001b[0;34m(objs, axis, join, join_axes, ignore_index, keys, levels, names, verify_integrity, copy)\u001b[0m\n\u001b[1;32m    210\u001b[0m                        \u001b[0mkeys\u001b[0m\u001b[0;34m=\u001b[0m\u001b[0mkeys\u001b[0m\u001b[0;34m,\u001b[0m \u001b[0mlevels\u001b[0m\u001b[0;34m=\u001b[0m\u001b[0mlevels\u001b[0m\u001b[0;34m,\u001b[0m \u001b[0mnames\u001b[0m\u001b[0;34m=\u001b[0m\u001b[0mnames\u001b[0m\u001b[0;34m,\u001b[0m\u001b[0;34m\u001b[0m\u001b[0m\n\u001b[1;32m    211\u001b[0m                        \u001b[0mverify_integrity\u001b[0m\u001b[0;34m=\u001b[0m\u001b[0mverify_integrity\u001b[0m\u001b[0;34m,\u001b[0m\u001b[0;34m\u001b[0m\u001b[0m\n\u001b[0;32m--> 212\u001b[0;31m                        copy=copy)\n\u001b[0m\u001b[1;32m    213\u001b[0m     \u001b[0;32mreturn\u001b[0m \u001b[0mop\u001b[0m\u001b[0;34m.\u001b[0m\u001b[0mget_result\u001b[0m\u001b[0;34m(\u001b[0m\u001b[0;34m)\u001b[0m\u001b[0;34m\u001b[0m\u001b[0m\n\u001b[1;32m    214\u001b[0m \u001b[0;34m\u001b[0m\u001b[0m\n",
      "\u001b[0;32m/usr/local/lib/python3.6/dist-packages/pandas/core/reshape/concat.py\u001b[0m in \u001b[0;36m__init__\u001b[0;34m(self, objs, axis, join, join_axes, keys, levels, names, ignore_index, verify_integrity, copy)\u001b[0m\n\u001b[1;32m    225\u001b[0m             raise TypeError('first argument must be an iterable of pandas '\n\u001b[1;32m    226\u001b[0m                             \u001b[0;34m'objects, you passed an object of type '\u001b[0m\u001b[0;34m\u001b[0m\u001b[0m\n\u001b[0;32m--> 227\u001b[0;31m                             '\"{name}\"'.format(name=type(objs).__name__))\n\u001b[0m\u001b[1;32m    228\u001b[0m \u001b[0;34m\u001b[0m\u001b[0m\n\u001b[1;32m    229\u001b[0m         \u001b[0;32mif\u001b[0m \u001b[0mjoin\u001b[0m \u001b[0;34m==\u001b[0m \u001b[0;34m'outer'\u001b[0m\u001b[0;34m:\u001b[0m\u001b[0;34m\u001b[0m\u001b[0m\n",
      "\u001b[0;31mTypeError\u001b[0m: first argument must be an iterable of pandas objects, you passed an object of type \"DataFrame\""
     ]
    }
   ],
   "source": []
  },
  {
   "cell_type": "markdown",
   "metadata": {
    "colab_type": "text",
    "id": "vGHNIJm4b53W"
   },
   "source": [
    "# Data Preprocessing Section and Feature Engineering"
   ]
  },
  {
   "cell_type": "code",
   "execution_count": 0,
   "metadata": {
    "colab": {},
    "colab_type": "code",
    "id": "U2jXs0-kbpsU"
   },
   "outputs": [],
   "source": [
    "train_df = train_df1.sample(frac = 0.25)"
   ]
  },
  {
   "cell_type": "code",
   "execution_count": 5,
   "metadata": {
    "colab": {
     "base_uri": "https://localhost:8080/",
     "height": 34
    },
    "colab_type": "code",
    "id": "7zGOA41hS3MD",
    "outputId": "05b42c3c-be7e-48a5-dce2-90883e0d6cb3"
   },
   "outputs": [
    {
     "data": {
      "text/plain": [
       "(13855964, 7)"
      ]
     },
     "execution_count": 5,
     "metadata": {
      "tags": []
     },
     "output_type": "execute_result"
    }
   ],
   "source": [
    "train_df.shape"
   ]
  },
  {
   "cell_type": "code",
   "execution_count": 0,
   "metadata": {
    "colab": {},
    "colab_type": "code",
    "id": "UtAo6BNjTBNQ"
   },
   "outputs": [],
   "source": [
    "train_df = train_df[(train_df['fare_amount']>0)]\n",
    "train_df = train_df[(train_df['fare_amount']<=50)]"
   ]
  },
  {
   "cell_type": "code",
   "execution_count": 0,
   "metadata": {
    "colab": {},
    "colab_type": "code",
    "id": "dZ8G5wKlTBIp"
   },
   "outputs": [],
   "source": [
    "#train_df = train_df[(train_df['pickup_latitude']>0)]\n",
    "train_df = train_df[(train_df['pickup_latitude']>39)] #-->111 #there are only 20 <39 and 111 greater than 4 so removing them\n",
    "train_df = train_df[(train_df['pickup_latitude']<42)]"
   ]
  },
  {
   "cell_type": "code",
   "execution_count": 0,
   "metadata": {
    "colab": {},
    "colab_type": "code",
    "id": "hyNIHhHOTBEt"
   },
   "outputs": [],
   "source": [
    "train_df = train_df[(train_df['pickup_longitude']>-75)]\n",
    "train_df = train_df[(train_df['pickup_longitude']<-72)]"
   ]
  },
  {
   "cell_type": "code",
   "execution_count": 0,
   "metadata": {
    "colab": {},
    "colab_type": "code",
    "id": "JWkM9RpbTBCP"
   },
   "outputs": [],
   "source": [
    "train_df = train_df[(train_df['dropoff_longitude']>-75)]\n",
    "train_df = train_df[(train_df['dropoff_longitude']<-72)]"
   ]
  },
  {
   "cell_type": "code",
   "execution_count": 0,
   "metadata": {
    "colab": {},
    "colab_type": "code",
    "id": "eUUtY1B2TA-K"
   },
   "outputs": [],
   "source": [
    "train_df = train_df[(train_df['dropoff_latitude']>39)] #-->111 #there are only 20 <39 and 111 greater than 4 so removing them\n",
    "train_df = train_df[(train_df['dropoff_latitude']<42)]"
   ]
  },
  {
   "cell_type": "code",
   "execution_count": 0,
   "metadata": {
    "colab": {},
    "colab_type": "code",
    "id": "hQ0Acdg6TA8K"
   },
   "outputs": [],
   "source": [
    "train_df = train_df[(train_df['passenger_count']>0)]"
   ]
  },
  {
   "cell_type": "code",
   "execution_count": 0,
   "metadata": {
    "colab": {},
    "colab_type": "code",
    "id": "f0NCdKI7Y8hi"
   },
   "outputs": [],
   "source": [
    "#Adding features based on date time parameter"
   ]
  },
  {
   "cell_type": "code",
   "execution_count": 0,
   "metadata": {
    "colab": {},
    "colab_type": "code",
    "id": "lf5a0ZzmYZRT"
   },
   "outputs": [],
   "source": [
    "train_df['pickup_datetime'] = pd.to_datetime(train_df['pickup_datetime'])"
   ]
  },
  {
   "cell_type": "code",
   "execution_count": 0,
   "metadata": {
    "colab": {},
    "colab_type": "code",
    "id": "CgRU7G6oYaVy"
   },
   "outputs": [],
   "source": [
    "train_df['year'] = train_df['pickup_datetime'].dt.year"
   ]
  },
  {
   "cell_type": "code",
   "execution_count": 0,
   "metadata": {
    "colab": {},
    "colab_type": "code",
    "id": "MvaxgRR0Yg8c"
   },
   "outputs": [],
   "source": [
    "train_df['day'] = train_df['pickup_datetime'].dt.weekday"
   ]
  },
  {
   "cell_type": "code",
   "execution_count": 0,
   "metadata": {
    "colab": {},
    "colab_type": "code",
    "id": "uW9YFXMXYrio"
   },
   "outputs": [],
   "source": [
    "\n",
    "train_df[\"hour\"] = pd.Series(train_df[\"pickup_datetime\"].dt.hour.values,index = train_df.index)"
   ]
  },
  {
   "cell_type": "markdown",
   "metadata": {
    "colab_type": "text",
    "id": "qUmv4DaiYiaP"
   },
   "source": [
    "**Spherical, Eucledian, Manhattan distance,location based features**"
   ]
  },
  {
   "cell_type": "code",
   "execution_count": 0,
   "metadata": {
    "colab": {},
    "colab_type": "code",
    "id": "m_LvRhBGYh-3"
   },
   "outputs": [],
   "source": []
  },
  {
   "cell_type": "code",
   "execution_count": 0,
   "metadata": {
    "colab": {},
    "colab_type": "code",
    "id": "RUFuEr-xULNU"
   },
   "outputs": [],
   "source": [
    "def distanceH(pickup1,pickup2,destination1,destination2):   #spherical distance  \n",
    "    lat1, lon1 = pickup1,pickup2\n",
    "    lat2, lon2 = destination1,destination2\n",
    "    radius = 3959 # miles\n",
    "\n",
    "    dlat = np.radians(lat2-lat1)\n",
    "    dlon = np.radians(lon2-lon1)\n",
    "    a = np.sin(dlat/2) * np.sin(dlat/2) + np.cos(np.radians(lat1)) * np.cos(np.radians(lat2)) * np.sin(dlon/2) * np.sin(dlon/2)\n",
    "    c = 2 * np.arctan2(np.sqrt(a), np.sqrt(1-a))\n",
    "    d = radius * c\n",
    "    #d = pd.Series(d,index = train_df.index)\n",
    "\n",
    "    return d"
   ]
  },
  {
   "cell_type": "code",
   "execution_count": 0,
   "metadata": {
    "colab": {},
    "colab_type": "code",
    "id": "QIC2V5U7ULKM"
   },
   "outputs": [],
   "source": [
    "def distanceE(pickup1,pickup2,destination1,destination2):  #Eucledian\n",
    "    a = (destination1 - pickup1)*69\n",
    "    b = (destination2 - pickup2)*69\n",
    "    d = a**2+b**2\n",
    "    c = np.sqrt(d)\n",
    "    #c = pd.Series(c,index = train_df.index)\n",
    "    return c"
   ]
  },
  {
   "cell_type": "code",
   "execution_count": 0,
   "metadata": {
    "colab": {},
    "colab_type": "code",
    "id": "nn2E_XFuhgMo"
   },
   "outputs": [],
   "source": [
    "def distanceM(pickup1,pickup2,destination1,destination2):\n",
    "  c = np.abs((pickup1 - destination1)*69) + np.abs((pickup2 - destination2) * 69)\n",
    " # c = pd.Series(c,index = train_df.index)\n",
    "  return c\n",
    "  \n",
    "  "
   ]
  },
  {
   "cell_type": "code",
   "execution_count": 0,
   "metadata": {
    "colab": {},
    "colab_type": "code",
    "id": "1y6mxWjxULGa"
   },
   "outputs": [],
   "source": [
    "a = train_df['pickup_latitude'].values\n",
    "b = train_df['pickup_longitude'].values\n",
    "c = train_df['dropoff_latitude'].values\n",
    "d = train_df['dropoff_longitude'].values"
   ]
  },
  {
   "cell_type": "code",
   "execution_count": 0,
   "metadata": {
    "colab": {},
    "colab_type": "code",
    "id": "vYYKJ36jULEc"
   },
   "outputs": [],
   "source": [
    "dist = distanceH(train_df['pickup_latitude'].values,train_df['pickup_longitude'].values,train_df['dropoff_latitude'].values,train_df['dropoff_longitude'].values)\n",
    "dist = pd.Series(dist,index = train_df.index)\n",
    "train_df['distance_sp'] = dist"
   ]
  },
  {
   "cell_type": "code",
   "execution_count": 0,
   "metadata": {
    "colab": {},
    "colab_type": "code",
    "id": "XdUR6C8IULAd"
   },
   "outputs": [],
   "source": [
    "dist1 = distanceE(train_df['pickup_latitude'].values,train_df['pickup_longitude'].values,train_df['dropoff_latitude'].values,train_df['dropoff_longitude'].values)\n",
    "dist1 = pd.Series(dist1,index = train_df.index)\n",
    "train_df['distance_eucle'] = dist1\n"
   ]
  },
  {
   "cell_type": "code",
   "execution_count": 0,
   "metadata": {
    "colab": {},
    "colab_type": "code",
    "id": "XciV6Wv7iHZR"
   },
   "outputs": [],
   "source": [
    "dist2 = distanceM(train_df['pickup_latitude'].values,train_df['pickup_longitude'].values,train_df['dropoff_latitude'].values,train_df['dropoff_longitude'].values)\n",
    "dist2 = pd.Series(dist2,index = train_df.index)\n",
    "train_df['distance_manh'] = dist2"
   ]
  },
  {
   "cell_type": "code",
   "execution_count": 0,
   "metadata": {
    "colab": {},
    "colab_type": "code",
    "id": "lCuwS6yTbWXI"
   },
   "outputs": [],
   "source": [
    "train_df = train_df[(train_df['distance_eucle']<60)]"
   ]
  },
  {
   "cell_type": "markdown",
   "metadata": {
    "colab_type": "text",
    "id": "54eP8ZPxfGHD"
   },
   "source": [
    "**Feature Engineering based on Location**\n",
    "\n",
    "Central Park: 40.785091, -73.968285\n",
    "Penn Station: 40.750580, -73.993584\n",
    "Grand central: 40.7527° ,- 73.9772\n",
    "La Gaurdia: 40.7769° ,- 73.8740\n",
    "JFK: 40.6413° , 73.7781° \n",
    "Newark Airport: 40.6895° N, 74.1745° W\n",
    "\n",
    "\n",
    "\n",
    "\n",
    "\n"
   ]
  },
  {
   "cell_type": "code",
   "execution_count": 0,
   "metadata": {
    "colab": {},
    "colab_type": "code",
    "id": "x6JwQpN2fFAu"
   },
   "outputs": [],
   "source": [
    "nyc1 = [40.785091, -73.968285]\n",
    "nyc2 = [40.750580, -73.993584]\n",
    "nyc3 = [40.7527 ,-73.9772]\n",
    "nyc4 = [0.7769 ,-73.8740]\n",
    "nyc5 = [40.6413 ,-73.7781 ]\n",
    "nyc6 = [40.6895,-74.1745]\n"
   ]
  },
  {
   "cell_type": "code",
   "execution_count": 21,
   "metadata": {
    "colab": {
     "base_uri": "https://localhost:8080/",
     "height": 129
    },
    "colab_type": "code",
    "id": "gmwb76qa1kvw",
    "outputId": "591f416f-f53a-4736-ed11-9977df4b1e64"
   },
   "outputs": [
    {
     "ename": "SyntaxError",
     "evalue": "ignored",
     "output_type": "error",
     "traceback": [
      "\u001b[0;36m  File \u001b[0;32m\"<ipython-input-21-79e39b4c8fd3>\"\u001b[0;36m, line \u001b[0;32m1\u001b[0m\n\u001b[0;31m    Central Park: 40.785091, -73.968285\u001b[0m\n\u001b[0m               ^\u001b[0m\n\u001b[0;31mSyntaxError\u001b[0m\u001b[0;31m:\u001b[0m invalid syntax\n"
     ]
    }
   ],
   "source": [
    "Central Park: 40.785091, -73.968285\n",
    "Penn Station: 40.750580, -73.993584\n",
    "Grand central: 40.7527° ,- 73.9772\n",
    "La Gaurdia: 40.7769° ,- 73.8740\n",
    "JFK: 40.6413° , 73.7781° \n",
    "Newark Airport: 40.6895° N, 74.1745° W\n"
   ]
  },
  {
   "cell_type": "code",
   "execution_count": 0,
   "metadata": {
    "colab": {},
    "colab_type": "code",
    "id": "gQIx76utdq1g"
   },
   "outputs": [],
   "source": [
    "train_df[\"cp\"] = distanceE(train_df['pickup_latitude'].values,train_df['pickup_longitude'].values,nyc1[0],nyc1[1])\n",
    "train_df[\"ps\"] = distanceE(train_df['pickup_latitude'].values,train_df['pickup_longitude'].values,nyc2[0],nyc2[1])\n",
    "train_df[\"gc\"] = distanceE(train_df['pickup_latitude'].values,train_df['pickup_longitude'].values,nyc3[0],nyc3[1])\n",
    "train_df[\"lg\"] = distanceE(train_df['pickup_latitude'].values,train_df['pickup_longitude'].values,nyc4[0],nyc4[1])\n",
    "train_df[\"jf\"] = distanceE(train_df['pickup_latitude'].values,train_df['pickup_longitude'].values,nyc5[0],nyc5[1])\n",
    "train_df[\"nw\"] = distanceE(train_df['pickup_latitude'].values,train_df['pickup_longitude'].values,nyc6[0],nyc6[1])\n",
    "train_df[\"cp1\"] = distanceE(train_df['dropoff_latitude'].values,train_df['dropoff_longitude'].values,nyc1[0],nyc1[1])\n",
    "train_df[\"ps1\"] = distanceE(train_df['dropoff_latitude'].values,train_df['dropoff_longitude'].values,nyc2[0],nyc2[1])\n",
    "train_df[\"gc1\"] = distanceE(train_df['dropoff_latitude'].values,train_df['dropoff_longitude'].values,nyc3[0],nyc3[1])\n",
    "train_df[\"lg1\"] = distanceE(train_df['dropoff_latitude'].values,train_df['dropoff_longitude'].values,nyc4[0],nyc4[1])\n",
    "train_df[\"jf1\"] = distanceE(train_df['dropoff_latitude'].values,train_df['dropoff_longitude'].values,nyc5[0],nyc5[1])\n",
    "train_df[\"nw1\"] = distanceE(train_df['dropoff_latitude'].values,train_df['dropoff_longitude'].values,nyc6[0],nyc6[1])"
   ]
  },
  {
   "cell_type": "code",
   "execution_count": 0,
   "metadata": {
    "colab": {},
    "colab_type": "code",
    "id": "OE2pnpkRuelZ"
   },
   "outputs": [],
   "source": [
    "train_df = train_df.drop(\"pickup_datetime\", axis = 1)"
   ]
  },
  {
   "cell_type": "code",
   "execution_count": 27,
   "metadata": {
    "colab": {
     "base_uri": "https://localhost:8080/",
     "height": 1989
    },
    "colab_type": "code",
    "id": "CKayKRUDdqzT",
    "outputId": "3c9f7351-09a2-4cee-fa42-a099b4cdf2df"
   },
   "outputs": [
    {
     "data": {
      "text/html": [
       "<div>\n",
       "<style scoped>\n",
       "    .dataframe tbody tr th:only-of-type {\n",
       "        vertical-align: middle;\n",
       "    }\n",
       "\n",
       "    .dataframe tbody tr th {\n",
       "        vertical-align: top;\n",
       "    }\n",
       "\n",
       "    .dataframe thead th {\n",
       "        text-align: right;\n",
       "    }\n",
       "</style>\n",
       "<table border=\"1\" class=\"dataframe\">\n",
       "  <thead>\n",
       "    <tr style=\"text-align: right;\">\n",
       "      <th></th>\n",
       "      <th>index</th>\n",
       "      <th>fare_amount</th>\n",
       "      <th>pickup_longitude</th>\n",
       "      <th>pickup_latitude</th>\n",
       "      <th>dropoff_longitude</th>\n",
       "      <th>dropoff_latitude</th>\n",
       "      <th>passenger_count</th>\n",
       "      <th>year</th>\n",
       "      <th>day</th>\n",
       "      <th>hour</th>\n",
       "      <th>...</th>\n",
       "      <th>gc</th>\n",
       "      <th>lg</th>\n",
       "      <th>jf</th>\n",
       "      <th>nw</th>\n",
       "      <th>cp1</th>\n",
       "      <th>ps1</th>\n",
       "      <th>gc1</th>\n",
       "      <th>lg1</th>\n",
       "      <th>jf1</th>\n",
       "      <th>nw1</th>\n",
       "    </tr>\n",
       "  </thead>\n",
       "  <tbody>\n",
       "    <tr>\n",
       "      <th>0</th>\n",
       "      <td>0</td>\n",
       "      <td>4.500000</td>\n",
       "      <td>-73.844315</td>\n",
       "      <td>40.721317</td>\n",
       "      <td>-73.841614</td>\n",
       "      <td>40.712276</td>\n",
       "      <td>1</td>\n",
       "      <td>2009</td>\n",
       "      <td>0</td>\n",
       "      <td>17</td>\n",
       "      <td>...</td>\n",
       "      <td>9.421559</td>\n",
       "      <td>2756.165527</td>\n",
       "      <td>7.166450</td>\n",
       "      <td>22.888300</td>\n",
       "      <td>10.081445</td>\n",
       "      <td>10.813866</td>\n",
       "      <td>9.762627</td>\n",
       "      <td>2755.541748</td>\n",
       "      <td>6.571955</td>\n",
       "      <td>23.022823</td>\n",
       "    </tr>\n",
       "    <tr>\n",
       "      <th>1</th>\n",
       "      <td>1</td>\n",
       "      <td>16.900000</td>\n",
       "      <td>-74.016045</td>\n",
       "      <td>40.711304</td>\n",
       "      <td>-73.979271</td>\n",
       "      <td>40.782005</td>\n",
       "      <td>1</td>\n",
       "      <td>2010</td>\n",
       "      <td>1</td>\n",
       "      <td>16</td>\n",
       "      <td>...</td>\n",
       "      <td>3.916844</td>\n",
       "      <td>2755.491455</td>\n",
       "      <td>17.114029</td>\n",
       "      <td>11.036421</td>\n",
       "      <td>0.787397</td>\n",
       "      <td>2.382664</td>\n",
       "      <td>2.027037</td>\n",
       "      <td>2760.361816</td>\n",
       "      <td>16.939192</td>\n",
       "      <td>14.906497</td>\n",
       "    </tr>\n",
       "    <tr>\n",
       "      <th>2</th>\n",
       "      <td>2</td>\n",
       "      <td>5.700000</td>\n",
       "      <td>-73.982735</td>\n",
       "      <td>40.761269</td>\n",
       "      <td>-73.991241</td>\n",
       "      <td>40.750561</td>\n",
       "      <td>2</td>\n",
       "      <td>2011</td>\n",
       "      <td>3</td>\n",
       "      <td>0</td>\n",
       "      <td>...</td>\n",
       "      <td>0.703674</td>\n",
       "      <td>2758.931641</td>\n",
       "      <td>16.367428</td>\n",
       "      <td>14.128100</td>\n",
       "      <td>2.861115</td>\n",
       "      <td>0.161619</td>\n",
       "      <td>0.979819</td>\n",
       "      <td>2758.194580</td>\n",
       "      <td>16.526550</td>\n",
       "      <td>13.328269</td>\n",
       "    </tr>\n",
       "    <tr>\n",
       "      <th>3</th>\n",
       "      <td>3</td>\n",
       "      <td>7.700000</td>\n",
       "      <td>-73.987129</td>\n",
       "      <td>40.733143</td>\n",
       "      <td>-73.991570</td>\n",
       "      <td>40.758091</td>\n",
       "      <td>1</td>\n",
       "      <td>2012</td>\n",
       "      <td>5</td>\n",
       "      <td>4</td>\n",
       "      <td>...</td>\n",
       "      <td>1.513345</td>\n",
       "      <td>2756.991699</td>\n",
       "      <td>15.753877</td>\n",
       "      <td>13.274643</td>\n",
       "      <td>2.460128</td>\n",
       "      <td>0.536579</td>\n",
       "      <td>1.058740</td>\n",
       "      <td>2758.714111</td>\n",
       "      <td>16.789803</td>\n",
       "      <td>13.480322</td>\n",
       "    </tr>\n",
       "    <tr>\n",
       "      <th>4</th>\n",
       "      <td>4</td>\n",
       "      <td>5.300000</td>\n",
       "      <td>-73.968094</td>\n",
       "      <td>40.768009</td>\n",
       "      <td>-73.956657</td>\n",
       "      <td>40.783764</td>\n",
       "      <td>1</td>\n",
       "      <td>2010</td>\n",
       "      <td>1</td>\n",
       "      <td>7</td>\n",
       "      <td>...</td>\n",
       "      <td>1.229148</td>\n",
       "      <td>2759.394043</td>\n",
       "      <td>15.757581</td>\n",
       "      <td>15.237468</td>\n",
       "      <td>0.807489</td>\n",
       "      <td>3.425578</td>\n",
       "      <td>2.569777</td>\n",
       "      <td>2760.479492</td>\n",
       "      <td>15.761477</td>\n",
       "      <td>16.378029</td>\n",
       "    </tr>\n",
       "    <tr>\n",
       "      <th>5</th>\n",
       "      <td>5</td>\n",
       "      <td>12.100000</td>\n",
       "      <td>-74.000961</td>\n",
       "      <td>40.731628</td>\n",
       "      <td>-73.972893</td>\n",
       "      <td>40.758232</td>\n",
       "      <td>1</td>\n",
       "      <td>2011</td>\n",
       "      <td>3</td>\n",
       "      <td>9</td>\n",
       "      <td>...</td>\n",
       "      <td>2.191209</td>\n",
       "      <td>2756.890137</td>\n",
       "      <td>16.592566</td>\n",
       "      <td>12.321941</td>\n",
       "      <td>1.880369</td>\n",
       "      <td>1.522184</td>\n",
       "      <td>0.483870</td>\n",
       "      <td>2758.720459</td>\n",
       "      <td>15.676469</td>\n",
       "      <td>14.697087</td>\n",
       "    </tr>\n",
       "    <tr>\n",
       "      <th>6</th>\n",
       "      <td>6</td>\n",
       "      <td>7.500000</td>\n",
       "      <td>-73.980003</td>\n",
       "      <td>40.751663</td>\n",
       "      <td>-73.973801</td>\n",
       "      <td>40.764843</td>\n",
       "      <td>1</td>\n",
       "      <td>2012</td>\n",
       "      <td>1</td>\n",
       "      <td>20</td>\n",
       "      <td>...</td>\n",
       "      <td>0.206038</td>\n",
       "      <td>2758.268311</td>\n",
       "      <td>15.876800</td>\n",
       "      <td>14.089042</td>\n",
       "      <td>1.448055</td>\n",
       "      <td>1.682816</td>\n",
       "      <td>0.870087</td>\n",
       "      <td>2759.176514</td>\n",
       "      <td>15.968981</td>\n",
       "      <td>14.791894</td>\n",
       "    </tr>\n",
       "    <tr>\n",
       "      <th>7</th>\n",
       "      <td>7</td>\n",
       "      <td>16.500000</td>\n",
       "      <td>-73.951302</td>\n",
       "      <td>40.774139</td>\n",
       "      <td>-73.990097</td>\n",
       "      <td>40.751049</td>\n",
       "      <td>1</td>\n",
       "      <td>2012</td>\n",
       "      <td>2</td>\n",
       "      <td>17</td>\n",
       "      <td>...</td>\n",
       "      <td>2.319998</td>\n",
       "      <td>2759.814453</td>\n",
       "      <td>15.061195</td>\n",
       "      <td>16.470827</td>\n",
       "      <td>2.789738</td>\n",
       "      <td>0.242746</td>\n",
       "      <td>0.896934</td>\n",
       "      <td>2758.227783</td>\n",
       "      <td>16.471783</td>\n",
       "      <td>13.413836</td>\n",
       "    </tr>\n",
       "    <tr>\n",
       "      <th>8</th>\n",
       "      <td>8</td>\n",
       "      <td>9.000000</td>\n",
       "      <td>-74.006462</td>\n",
       "      <td>40.726711</td>\n",
       "      <td>-73.993080</td>\n",
       "      <td>40.731628</td>\n",
       "      <td>1</td>\n",
       "      <td>2012</td>\n",
       "      <td>0</td>\n",
       "      <td>13</td>\n",
       "      <td>...</td>\n",
       "      <td>2.700298</td>\n",
       "      <td>2756.552002</td>\n",
       "      <td>16.823090</td>\n",
       "      <td>11.875486</td>\n",
       "      <td>4.066383</td>\n",
       "      <td>1.308109</td>\n",
       "      <td>1.820498</td>\n",
       "      <td>2756.888428</td>\n",
       "      <td>16.089886</td>\n",
       "      <td>12.851032</td>\n",
       "    </tr>\n",
       "    <tr>\n",
       "      <th>9</th>\n",
       "      <td>9</td>\n",
       "      <td>8.900000</td>\n",
       "      <td>-73.980659</td>\n",
       "      <td>40.733871</td>\n",
       "      <td>-73.991539</td>\n",
       "      <td>40.758137</td>\n",
       "      <td>2</td>\n",
       "      <td>2009</td>\n",
       "      <td>2</td>\n",
       "      <td>1</td>\n",
       "      <td>...</td>\n",
       "      <td>1.320929</td>\n",
       "      <td>2757.040771</td>\n",
       "      <td>15.367056</td>\n",
       "      <td>13.720921</td>\n",
       "      <td>2.456361</td>\n",
       "      <td>0.540177</td>\n",
       "      <td>1.057885</td>\n",
       "      <td>2758.717285</td>\n",
       "      <td>16.789473</td>\n",
       "      <td>13.483402</td>\n",
       "    </tr>\n",
       "    <tr>\n",
       "      <th>10</th>\n",
       "      <td>10</td>\n",
       "      <td>5.300000</td>\n",
       "      <td>-73.996338</td>\n",
       "      <td>40.737141</td>\n",
       "      <td>-73.980721</td>\n",
       "      <td>40.733559</td>\n",
       "      <td>1</td>\n",
       "      <td>2012</td>\n",
       "      <td>6</td>\n",
       "      <td>7</td>\n",
       "      <td>...</td>\n",
       "      <td>1.701725</td>\n",
       "      <td>2757.269531</td>\n",
       "      <td>16.446564</td>\n",
       "      <td>12.725085</td>\n",
       "      <td>3.657830</td>\n",
       "      <td>1.472114</td>\n",
       "      <td>1.342919</td>\n",
       "      <td>2757.019043</td>\n",
       "      <td>15.361929</td>\n",
       "      <td>13.712013</td>\n",
       "    </tr>\n",
       "    <tr>\n",
       "      <th>11</th>\n",
       "      <td>12</td>\n",
       "      <td>4.100000</td>\n",
       "      <td>-73.991600</td>\n",
       "      <td>40.744713</td>\n",
       "      <td>-73.983078</td>\n",
       "      <td>40.744682</td>\n",
       "      <td>2</td>\n",
       "      <td>2009</td>\n",
       "      <td>4</td>\n",
       "      <td>1</td>\n",
       "      <td>...</td>\n",
       "      <td>1.136034</td>\n",
       "      <td>2757.791016</td>\n",
       "      <td>16.368690</td>\n",
       "      <td>13.182575</td>\n",
       "      <td>2.969197</td>\n",
       "      <td>0.831300</td>\n",
       "      <td>0.685874</td>\n",
       "      <td>2757.787109</td>\n",
       "      <td>15.840607</td>\n",
       "      <td>13.745972</td>\n",
       "    </tr>\n",
       "    <tr>\n",
       "      <th>12</th>\n",
       "      <td>13</td>\n",
       "      <td>7.000000</td>\n",
       "      <td>-74.005363</td>\n",
       "      <td>40.728867</td>\n",
       "      <td>-74.008911</td>\n",
       "      <td>40.710907</td>\n",
       "      <td>1</td>\n",
       "      <td>2013</td>\n",
       "      <td>1</td>\n",
       "      <td>19</td>\n",
       "      <td>...</td>\n",
       "      <td>2.545587</td>\n",
       "      <td>2756.700439</td>\n",
       "      <td>16.805004</td>\n",
       "      <td>11.982346</td>\n",
       "      <td>5.836047</td>\n",
       "      <td>2.934623</td>\n",
       "      <td>3.619776</td>\n",
       "      <td>2755.461914</td>\n",
       "      <td>16.634485</td>\n",
       "      <td>11.520690</td>\n",
       "    </tr>\n",
       "    <tr>\n",
       "      <th>13</th>\n",
       "      <td>14</td>\n",
       "      <td>7.700000</td>\n",
       "      <td>-74.001823</td>\n",
       "      <td>40.737549</td>\n",
       "      <td>-73.998062</td>\n",
       "      <td>40.722790</td>\n",
       "      <td>2</td>\n",
       "      <td>2011</td>\n",
       "      <td>1</td>\n",
       "      <td>17</td>\n",
       "      <td>...</td>\n",
       "      <td>1.994720</td>\n",
       "      <td>2757.298828</td>\n",
       "      <td>16.804920</td>\n",
       "      <td>12.367338</td>\n",
       "      <td>4.764596</td>\n",
       "      <td>1.942254</td>\n",
       "      <td>2.516144</td>\n",
       "      <td>2756.279541</td>\n",
       "      <td>16.185509</td>\n",
       "      <td>12.388994</td>\n",
       "    </tr>\n",
       "    <tr>\n",
       "      <th>14</th>\n",
       "      <td>16</td>\n",
       "      <td>12.500000</td>\n",
       "      <td>-73.986427</td>\n",
       "      <td>40.760464</td>\n",
       "      <td>-73.988991</td>\n",
       "      <td>40.737076</td>\n",
       "      <td>1</td>\n",
       "      <td>2014</td>\n",
       "      <td>2</td>\n",
       "      <td>7</td>\n",
       "      <td>...</td>\n",
       "      <td>0.831854</td>\n",
       "      <td>2758.876465</td>\n",
       "      <td>16.560085</td>\n",
       "      <td>13.870057</td>\n",
       "      <td>3.608009</td>\n",
       "      <td>0.984196</td>\n",
       "      <td>1.350504</td>\n",
       "      <td>2757.263428</td>\n",
       "      <td>15.981849</td>\n",
       "      <td>13.214365</td>\n",
       "    </tr>\n",
       "    <tr>\n",
       "      <th>15</th>\n",
       "      <td>17</td>\n",
       "      <td>5.300000</td>\n",
       "      <td>-73.981056</td>\n",
       "      <td>40.737690</td>\n",
       "      <td>-73.994179</td>\n",
       "      <td>40.728413</td>\n",
       "      <td>1</td>\n",
       "      <td>2009</td>\n",
       "      <td>2</td>\n",
       "      <td>16</td>\n",
       "      <td>...</td>\n",
       "      <td>1.069321</td>\n",
       "      <td>2757.304199</td>\n",
       "      <td>15.503149</td>\n",
       "      <td>13.755543</td>\n",
       "      <td>4.299642</td>\n",
       "      <td>1.530088</td>\n",
       "      <td>2.044636</td>\n",
       "      <td>2756.666748</td>\n",
       "      <td>16.075521</td>\n",
       "      <td>12.728555</td>\n",
       "    </tr>\n",
       "    <tr>\n",
       "      <th>16</th>\n",
       "      <td>18</td>\n",
       "      <td>5.300000</td>\n",
       "      <td>-73.969505</td>\n",
       "      <td>40.784843</td>\n",
       "      <td>-73.958733</td>\n",
       "      <td>40.783356</td>\n",
       "      <td>1</td>\n",
       "      <td>2010</td>\n",
       "      <td>2</td>\n",
       "      <td>14</td>\n",
       "      <td>...</td>\n",
       "      <td>2.280562</td>\n",
       "      <td>2760.555908</td>\n",
       "      <td>16.508316</td>\n",
       "      <td>15.599678</td>\n",
       "      <td>0.669881</td>\n",
       "      <td>3.301097</td>\n",
       "      <td>2.469480</td>\n",
       "      <td>2760.451416</td>\n",
       "      <td>15.856231</td>\n",
       "      <td>16.235460</td>\n",
       "    </tr>\n",
       "    <tr>\n",
       "      <th>17</th>\n",
       "      <td>19</td>\n",
       "      <td>4.000000</td>\n",
       "      <td>-73.979813</td>\n",
       "      <td>40.751904</td>\n",
       "      <td>-73.979446</td>\n",
       "      <td>40.755482</td>\n",
       "      <td>1</td>\n",
       "      <td>2014</td>\n",
       "      <td>5</td>\n",
       "      <td>20</td>\n",
       "      <td>...</td>\n",
       "      <td>0.188256</td>\n",
       "      <td>2758.284912</td>\n",
       "      <td>15.873219</td>\n",
       "      <td>14.106631</td>\n",
       "      <td>2.183410</td>\n",
       "      <td>1.032446</td>\n",
       "      <td>0.246521</td>\n",
       "      <td>2758.531494</td>\n",
       "      <td>15.971402</td>\n",
       "      <td>14.207876</td>\n",
       "    </tr>\n",
       "    <tr>\n",
       "      <th>18</th>\n",
       "      <td>20</td>\n",
       "      <td>10.500000</td>\n",
       "      <td>-73.985382</td>\n",
       "      <td>40.747856</td>\n",
       "      <td>-73.978378</td>\n",
       "      <td>40.762070</td>\n",
       "      <td>1</td>\n",
       "      <td>2010</td>\n",
       "      <td>1</td>\n",
       "      <td>13</td>\n",
       "      <td>...</td>\n",
       "      <td>0.655907</td>\n",
       "      <td>2758.006592</td>\n",
       "      <td>16.081652</td>\n",
       "      <td>13.656243</td>\n",
       "      <td>1.734470</td>\n",
       "      <td>1.315026</td>\n",
       "      <td>0.651517</td>\n",
       "      <td>2758.985840</td>\n",
       "      <td>16.137306</td>\n",
       "      <td>14.429095</td>\n",
       "    </tr>\n",
       "    <tr>\n",
       "      <th>19</th>\n",
       "      <td>21</td>\n",
       "      <td>11.500000</td>\n",
       "      <td>-73.957954</td>\n",
       "      <td>40.779251</td>\n",
       "      <td>-73.961250</td>\n",
       "      <td>40.758785</td>\n",
       "      <td>1</td>\n",
       "      <td>2013</td>\n",
       "      <td>1</td>\n",
       "      <td>12</td>\n",
       "      <td>...</td>\n",
       "      <td>2.262780</td>\n",
       "      <td>2760.168213</td>\n",
       "      <td>15.640094</td>\n",
       "      <td>16.174170</td>\n",
       "      <td>1.878898</td>\n",
       "      <td>2.301722</td>\n",
       "      <td>1.178104</td>\n",
       "      <td>2758.756592</td>\n",
       "      <td>15.013981</td>\n",
       "      <td>15.471367</td>\n",
       "    </tr>\n",
       "    <tr>\n",
       "      <th>20</th>\n",
       "      <td>22</td>\n",
       "      <td>4.500000</td>\n",
       "      <td>-73.991707</td>\n",
       "      <td>40.770504</td>\n",
       "      <td>-73.985458</td>\n",
       "      <td>40.763672</td>\n",
       "      <td>1</td>\n",
       "      <td>2009</td>\n",
       "      <td>3</td>\n",
       "      <td>18</td>\n",
       "      <td>...</td>\n",
       "      <td>1.584455</td>\n",
       "      <td>2759.570557</td>\n",
       "      <td>17.225405</td>\n",
       "      <td>13.795684</td>\n",
       "      <td>1.894341</td>\n",
       "      <td>1.063187</td>\n",
       "      <td>0.947361</td>\n",
       "      <td>2759.097900</td>\n",
       "      <td>16.613491</td>\n",
       "      <td>14.011959</td>\n",
       "    </tr>\n",
       "    <tr>\n",
       "      <th>21</th>\n",
       "      <td>23</td>\n",
       "      <td>4.900000</td>\n",
       "      <td>-74.000633</td>\n",
       "      <td>40.747475</td>\n",
       "      <td>-73.986671</td>\n",
       "      <td>40.740578</td>\n",
       "      <td>1</td>\n",
       "      <td>2010</td>\n",
       "      <td>0</td>\n",
       "      <td>12</td>\n",
       "      <td>...</td>\n",
       "      <td>1.656390</td>\n",
       "      <td>2757.983398</td>\n",
       "      <td>17.013010</td>\n",
       "      <td>12.646153</td>\n",
       "      <td>3.323154</td>\n",
       "      <td>0.838915</td>\n",
       "      <td>1.061377</td>\n",
       "      <td>2757.504639</td>\n",
       "      <td>15.938622</td>\n",
       "      <td>13.430815</td>\n",
       "    </tr>\n",
       "    <tr>\n",
       "      <th>22</th>\n",
       "      <td>24</td>\n",
       "      <td>6.100000</td>\n",
       "      <td>-73.969620</td>\n",
       "      <td>40.756973</td>\n",
       "      <td>-73.981155</td>\n",
       "      <td>40.759712</td>\n",
       "      <td>1</td>\n",
       "      <td>2009</td>\n",
       "      <td>3</td>\n",
       "      <td>15</td>\n",
       "      <td>...</td>\n",
       "      <td>0.600598</td>\n",
       "      <td>2758.632812</td>\n",
       "      <td>15.438190</td>\n",
       "      <td>14.883622</td>\n",
       "      <td>1.963484</td>\n",
       "      <td>1.064173</td>\n",
       "      <td>0.555347</td>\n",
       "      <td>2758.823730</td>\n",
       "      <td>16.219152</td>\n",
       "      <td>14.193193</td>\n",
       "    </tr>\n",
       "    <tr>\n",
       "      <th>23</th>\n",
       "      <td>25</td>\n",
       "      <td>7.300000</td>\n",
       "      <td>-73.991875</td>\n",
       "      <td>40.754436</td>\n",
       "      <td>-73.977226</td>\n",
       "      <td>40.774323</td>\n",
       "      <td>3</td>\n",
       "      <td>2011</td>\n",
       "      <td>1</td>\n",
       "      <td>16</td>\n",
       "      <td>...</td>\n",
       "      <td>1.019381</td>\n",
       "      <td>2758.461914</td>\n",
       "      <td>16.688852</td>\n",
       "      <td>13.374029</td>\n",
       "      <td>0.965808</td>\n",
       "      <td>1.989403</td>\n",
       "      <td>1.491898</td>\n",
       "      <td>2759.831055</td>\n",
       "      <td>16.523529</td>\n",
       "      <td>14.816821</td>\n",
       "    </tr>\n",
       "    <tr>\n",
       "      <th>24</th>\n",
       "      <td>27</td>\n",
       "      <td>4.500000</td>\n",
       "      <td>-73.988892</td>\n",
       "      <td>40.760159</td>\n",
       "      <td>-73.986443</td>\n",
       "      <td>40.757858</td>\n",
       "      <td>3</td>\n",
       "      <td>2011</td>\n",
       "      <td>1</td>\n",
       "      <td>19</td>\n",
       "      <td>...</td>\n",
       "      <td>0.956671</td>\n",
       "      <td>2758.856201</td>\n",
       "      <td>16.697544</td>\n",
       "      <td>13.703595</td>\n",
       "      <td>2.258477</td>\n",
       "      <td>0.703567</td>\n",
       "      <td>0.730104</td>\n",
       "      <td>2758.696777</td>\n",
       "      <td>16.472485</td>\n",
       "      <td>13.806625</td>\n",
       "    </tr>\n",
       "    <tr>\n",
       "      <th>25</th>\n",
       "      <td>28</td>\n",
       "      <td>9.300000</td>\n",
       "      <td>-73.989258</td>\n",
       "      <td>40.690834</td>\n",
       "      <td>-74.004135</td>\n",
       "      <td>40.725689</td>\n",
       "      <td>1</td>\n",
       "      <td>2012</td>\n",
       "      <td>4</td>\n",
       "      <td>6</td>\n",
       "      <td>...</td>\n",
       "      <td>4.349083</td>\n",
       "      <td>2754.072754</td>\n",
       "      <td>14.965466</td>\n",
       "      <td>12.782009</td>\n",
       "      <td>4.787384</td>\n",
       "      <td>1.865414</td>\n",
       "      <td>2.631933</td>\n",
       "      <td>2756.480957</td>\n",
       "      <td>16.647995</td>\n",
       "      <td>12.017443</td>\n",
       "    </tr>\n",
       "    <tr>\n",
       "      <th>26</th>\n",
       "      <td>29</td>\n",
       "      <td>4.500000</td>\n",
       "      <td>-73.981018</td>\n",
       "      <td>40.737759</td>\n",
       "      <td>-73.980667</td>\n",
       "      <td>40.730495</td>\n",
       "      <td>2</td>\n",
       "      <td>2013</td>\n",
       "      <td>6</td>\n",
       "      <td>0</td>\n",
       "      <td>...</td>\n",
       "      <td>1.064078</td>\n",
       "      <td>2757.308838</td>\n",
       "      <td>15.502805</td>\n",
       "      <td>13.759242</td>\n",
       "      <td>3.862795</td>\n",
       "      <td>1.647670</td>\n",
       "      <td>1.550698</td>\n",
       "      <td>2756.807861</td>\n",
       "      <td>15.272182</td>\n",
       "      <td>13.670311</td>\n",
       "    </tr>\n",
       "    <tr>\n",
       "      <th>27</th>\n",
       "      <td>30</td>\n",
       "      <td>5.500000</td>\n",
       "      <td>-73.976074</td>\n",
       "      <td>40.752422</td>\n",
       "      <td>-73.981079</td>\n",
       "      <td>40.759285</td>\n",
       "      <td>1</td>\n",
       "      <td>2014</td>\n",
       "      <td>2</td>\n",
       "      <td>16</td>\n",
       "      <td>...</td>\n",
       "      <td>0.080246</td>\n",
       "      <td>2758.320068</td>\n",
       "      <td>15.665020</td>\n",
       "      <td>14.363267</td>\n",
       "      <td>1.987476</td>\n",
       "      <td>1.051303</td>\n",
       "      <td>0.527173</td>\n",
       "      <td>2758.794189</td>\n",
       "      <td>16.199770</td>\n",
       "      <td>14.188109</td>\n",
       "    </tr>\n",
       "    <tr>\n",
       "      <th>28</th>\n",
       "      <td>31</td>\n",
       "      <td>22.540001</td>\n",
       "      <td>-74.010483</td>\n",
       "      <td>40.717667</td>\n",
       "      <td>-73.985771</td>\n",
       "      <td>40.660366</td>\n",
       "      <td>1</td>\n",
       "      <td>2015</td>\n",
       "      <td>6</td>\n",
       "      <td>21</td>\n",
       "      <td>...</td>\n",
       "      <td>3.334145</td>\n",
       "      <td>2755.928955</td>\n",
       "      <td>16.878086</td>\n",
       "      <td>11.482833</td>\n",
       "      <td>8.690218</td>\n",
       "      <td>6.248048</td>\n",
       "      <td>6.398467</td>\n",
       "      <td>2751.969727</td>\n",
       "      <td>14.389638</td>\n",
       "      <td>13.176490</td>\n",
       "    </tr>\n",
       "    <tr>\n",
       "      <th>29</th>\n",
       "      <td>32</td>\n",
       "      <td>31.900000</td>\n",
       "      <td>-73.873024</td>\n",
       "      <td>40.773884</td>\n",
       "      <td>-73.984543</td>\n",
       "      <td>40.769547</td>\n",
       "      <td>3</td>\n",
       "      <td>2009</td>\n",
       "      <td>4</td>\n",
       "      <td>16</td>\n",
       "      <td>...</td>\n",
       "      <td>7.335470</td>\n",
       "      <td>2759.791748</td>\n",
       "      <td>11.251266</td>\n",
       "      <td>21.601332</td>\n",
       "      <td>1.552077</td>\n",
       "      <td>1.449774</td>\n",
       "      <td>1.267884</td>\n",
       "      <td>2759.502930</td>\n",
       "      <td>16.769436</td>\n",
       "      <td>14.223234</td>\n",
       "    </tr>\n",
       "    <tr>\n",
       "      <th>...</th>\n",
       "      <td>...</td>\n",
       "      <td>...</td>\n",
       "      <td>...</td>\n",
       "      <td>...</td>\n",
       "      <td>...</td>\n",
       "      <td>...</td>\n",
       "      <td>...</td>\n",
       "      <td>...</td>\n",
       "      <td>...</td>\n",
       "      <td>...</td>\n",
       "      <td>...</td>\n",
       "      <td>...</td>\n",
       "      <td>...</td>\n",
       "      <td>...</td>\n",
       "      <td>...</td>\n",
       "      <td>...</td>\n",
       "      <td>...</td>\n",
       "      <td>...</td>\n",
       "      <td>...</td>\n",
       "      <td>...</td>\n",
       "      <td>...</td>\n",
       "    </tr>\n",
       "    <tr>\n",
       "      <th>481584</th>\n",
       "      <td>499970</td>\n",
       "      <td>29.299999</td>\n",
       "      <td>-73.988716</td>\n",
       "      <td>40.763657</td>\n",
       "      <td>-73.986397</td>\n",
       "      <td>40.762077</td>\n",
       "      <td>2</td>\n",
       "      <td>2011</td>\n",
       "      <td>1</td>\n",
       "      <td>17</td>\n",
       "      <td>...</td>\n",
       "      <td>1.096586</td>\n",
       "      <td>2759.097412</td>\n",
       "      <td>16.806938</td>\n",
       "      <td>13.802559</td>\n",
       "      <td>2.020768</td>\n",
       "      <td>0.935564</td>\n",
       "      <td>0.906079</td>\n",
       "      <td>2758.988037</td>\n",
       "      <td>16.613827</td>\n",
       "      <td>13.911718</td>\n",
       "    </tr>\n",
       "    <tr>\n",
       "      <th>481585</th>\n",
       "      <td>499971</td>\n",
       "      <td>40.500000</td>\n",
       "      <td>-73.789864</td>\n",
       "      <td>40.643284</td>\n",
       "      <td>-73.967651</td>\n",
       "      <td>40.697342</td>\n",
       "      <td>1</td>\n",
       "      <td>2012</td>\n",
       "      <td>0</td>\n",
       "      <td>13</td>\n",
       "      <td>...</td>\n",
       "      <td>14.969703</td>\n",
       "      <td>2750.786621</td>\n",
       "      <td>0.823211</td>\n",
       "      <td>26.730766</td>\n",
       "      <td>6.054872</td>\n",
       "      <td>4.086036</td>\n",
       "      <td>3.876208</td>\n",
       "      <td>2754.518066</td>\n",
       "      <td>13.638762</td>\n",
       "      <td>14.282778</td>\n",
       "    </tr>\n",
       "    <tr>\n",
       "      <th>481586</th>\n",
       "      <td>499972</td>\n",
       "      <td>12.000000</td>\n",
       "      <td>-73.978386</td>\n",
       "      <td>40.752071</td>\n",
       "      <td>-74.003494</td>\n",
       "      <td>40.724159</td>\n",
       "      <td>1</td>\n",
       "      <td>2013</td>\n",
       "      <td>4</td>\n",
       "      <td>14</td>\n",
       "      <td>...</td>\n",
       "      <td>0.092435</td>\n",
       "      <td>2758.296143</td>\n",
       "      <td>15.792573</td>\n",
       "      <td>14.203923</td>\n",
       "      <td>4.855781</td>\n",
       "      <td>1.947057</td>\n",
       "      <td>2.677549</td>\n",
       "      <td>2756.375244</td>\n",
       "      <td>16.569860</td>\n",
       "      <td>12.039290</td>\n",
       "    </tr>\n",
       "    <tr>\n",
       "      <th>481587</th>\n",
       "      <td>499973</td>\n",
       "      <td>3.000000</td>\n",
       "      <td>-73.995613</td>\n",
       "      <td>40.748943</td>\n",
       "      <td>-73.994858</td>\n",
       "      <td>40.750164</td>\n",
       "      <td>1</td>\n",
       "      <td>2014</td>\n",
       "      <td>0</td>\n",
       "      <td>2</td>\n",
       "      <td>...</td>\n",
       "      <td>1.296460</td>\n",
       "      <td>2758.083496</td>\n",
       "      <td>16.745747</td>\n",
       "      <td>13.006819</td>\n",
       "      <td>3.028192</td>\n",
       "      <td>0.092477</td>\n",
       "      <td>1.230666</td>\n",
       "      <td>2758.167480</td>\n",
       "      <td>16.736687</td>\n",
       "      <td>13.082992</td>\n",
       "    </tr>\n",
       "    <tr>\n",
       "      <th>481588</th>\n",
       "      <td>499974</td>\n",
       "      <td>9.500000</td>\n",
       "      <td>-73.971092</td>\n",
       "      <td>40.751331</td>\n",
       "      <td>-73.990593</td>\n",
       "      <td>40.751339</td>\n",
       "      <td>3</td>\n",
       "      <td>2014</td>\n",
       "      <td>5</td>\n",
       "      <td>11</td>\n",
       "      <td>...</td>\n",
       "      <td>0.432127</td>\n",
       "      <td>2758.243652</td>\n",
       "      <td>15.328753</td>\n",
       "      <td>14.669240</td>\n",
       "      <td>2.791636</td>\n",
       "      <td>0.212904</td>\n",
       "      <td>0.928648</td>\n",
       "      <td>2758.247803</td>\n",
       "      <td>16.511368</td>\n",
       "      <td>13.387745</td>\n",
       "    </tr>\n",
       "    <tr>\n",
       "      <th>481589</th>\n",
       "      <td>499975</td>\n",
       "      <td>6.900000</td>\n",
       "      <td>-73.986015</td>\n",
       "      <td>40.734806</td>\n",
       "      <td>-73.978462</td>\n",
       "      <td>40.750591</td>\n",
       "      <td>1</td>\n",
       "      <td>2009</td>\n",
       "      <td>4</td>\n",
       "      <td>9</td>\n",
       "      <td>...</td>\n",
       "      <td>1.376325</td>\n",
       "      <td>2757.106201</td>\n",
       "      <td>15.730263</td>\n",
       "      <td>13.375865</td>\n",
       "      <td>2.481931</td>\n",
       "      <td>1.043381</td>\n",
       "      <td>0.169504</td>\n",
       "      <td>2758.194092</td>\n",
       "      <td>15.748021</td>\n",
       "      <td>14.168188</td>\n",
       "    </tr>\n",
       "    <tr>\n",
       "      <th>481590</th>\n",
       "      <td>499976</td>\n",
       "      <td>9.700000</td>\n",
       "      <td>-73.993813</td>\n",
       "      <td>40.732777</td>\n",
       "      <td>-73.977821</td>\n",
       "      <td>40.754650</td>\n",
       "      <td>1</td>\n",
       "      <td>2011</td>\n",
       "      <td>1</td>\n",
       "      <td>15</td>\n",
       "      <td>...</td>\n",
       "      <td>1.789799</td>\n",
       "      <td>2756.967773</td>\n",
       "      <td>16.167253</td>\n",
       "      <td>12.820032</td>\n",
       "      <td>2.201112</td>\n",
       "      <td>1.123277</td>\n",
       "      <td>0.141100</td>\n",
       "      <td>2758.473877</td>\n",
       "      <td>15.845560</td>\n",
       "      <td>14.295991</td>\n",
       "    </tr>\n",
       "    <tr>\n",
       "      <th>481591</th>\n",
       "      <td>499977</td>\n",
       "      <td>49.570000</td>\n",
       "      <td>-73.955070</td>\n",
       "      <td>40.804985</td>\n",
       "      <td>-73.776230</td>\n",
       "      <td>40.645798</td>\n",
       "      <td>1</td>\n",
       "      <td>2010</td>\n",
       "      <td>2</td>\n",
       "      <td>5</td>\n",
       "      <td>...</td>\n",
       "      <td>3.917539</td>\n",
       "      <td>2761.943359</td>\n",
       "      <td>16.633383</td>\n",
       "      <td>17.109516</td>\n",
       "      <td>16.370277</td>\n",
       "      <td>16.649168</td>\n",
       "      <td>15.706955</td>\n",
       "      <td>2750.962158</td>\n",
       "      <td>0.336064</td>\n",
       "      <td>27.645546</td>\n",
       "    </tr>\n",
       "    <tr>\n",
       "      <th>481592</th>\n",
       "      <td>499978</td>\n",
       "      <td>4.100000</td>\n",
       "      <td>-73.991234</td>\n",
       "      <td>40.685562</td>\n",
       "      <td>-73.977135</td>\n",
       "      <td>40.681286</td>\n",
       "      <td>1</td>\n",
       "      <td>2011</td>\n",
       "      <td>5</td>\n",
       "      <td>21</td>\n",
       "      <td>...</td>\n",
       "      <td>4.732643</td>\n",
       "      <td>2753.709473</td>\n",
       "      <td>15.020073</td>\n",
       "      <td>12.648250</td>\n",
       "      <td>7.188566</td>\n",
       "      <td>4.914149</td>\n",
       "      <td>4.927634</td>\n",
       "      <td>2753.411865</td>\n",
       "      <td>14.007856</td>\n",
       "      <td>13.629958</td>\n",
       "    </tr>\n",
       "    <tr>\n",
       "      <th>481593</th>\n",
       "      <td>499979</td>\n",
       "      <td>49.799999</td>\n",
       "      <td>-73.872879</td>\n",
       "      <td>40.773926</td>\n",
       "      <td>-74.014847</td>\n",
       "      <td>40.714321</td>\n",
       "      <td>1</td>\n",
       "      <td>2012</td>\n",
       "      <td>0</td>\n",
       "      <td>14</td>\n",
       "      <td>...</td>\n",
       "      <td>7.345849</td>\n",
       "      <td>2759.794678</td>\n",
       "      <td>11.247802</td>\n",
       "      <td>21.611744</td>\n",
       "      <td>5.845269</td>\n",
       "      <td>2.900310</td>\n",
       "      <td>3.709369</td>\n",
       "      <td>2755.698975</td>\n",
       "      <td>17.094957</td>\n",
       "      <td>11.148387</td>\n",
       "    </tr>\n",
       "    <tr>\n",
       "      <th>481594</th>\n",
       "      <td>499980</td>\n",
       "      <td>18.100000</td>\n",
       "      <td>-73.965805</td>\n",
       "      <td>40.758606</td>\n",
       "      <td>-73.871490</td>\n",
       "      <td>40.774361</td>\n",
       "      <td>1</td>\n",
       "      <td>2009</td>\n",
       "      <td>4</td>\n",
       "      <td>13</td>\n",
       "      <td>...</td>\n",
       "      <td>0.885763</td>\n",
       "      <td>2758.744873</td>\n",
       "      <td>15.272894</td>\n",
       "      <td>15.168887</td>\n",
       "      <td>6.719712</td>\n",
       "      <td>8.582746</td>\n",
       "      <td>7.445725</td>\n",
       "      <td>2759.824707</td>\n",
       "      <td>11.216913</td>\n",
       "      <td>21.712097</td>\n",
       "    </tr>\n",
       "    <tr>\n",
       "      <th>481595</th>\n",
       "      <td>499981</td>\n",
       "      <td>8.100000</td>\n",
       "      <td>-73.993462</td>\n",
       "      <td>40.682316</td>\n",
       "      <td>-73.977463</td>\n",
       "      <td>40.666637</td>\n",
       "      <td>5</td>\n",
       "      <td>2009</td>\n",
       "      <td>6</td>\n",
       "      <td>22</td>\n",
       "      <td>...</td>\n",
       "      <td>4.984445</td>\n",
       "      <td>2753.486084</td>\n",
       "      <td>15.127109</td>\n",
       "      <td>12.501444</td>\n",
       "      <td>8.197823</td>\n",
       "      <td>5.897871</td>\n",
       "      <td>5.938401</td>\n",
       "      <td>2752.401123</td>\n",
       "      <td>13.866745</td>\n",
       "      <td>13.686742</td>\n",
       "    </tr>\n",
       "    <tr>\n",
       "      <th>481596</th>\n",
       "      <td>499982</td>\n",
       "      <td>6.000000</td>\n",
       "      <td>-74.007149</td>\n",
       "      <td>40.741657</td>\n",
       "      <td>-74.009262</td>\n",
       "      <td>40.729645</td>\n",
       "      <td>2</td>\n",
       "      <td>2014</td>\n",
       "      <td>2</td>\n",
       "      <td>0</td>\n",
       "      <td>...</td>\n",
       "      <td>2.202263</td>\n",
       "      <td>2757.583496</td>\n",
       "      <td>17.254871</td>\n",
       "      <td>12.095048</td>\n",
       "      <td>4.757239</td>\n",
       "      <td>1.804702</td>\n",
       "      <td>2.724707</td>\n",
       "      <td>2756.755127</td>\n",
       "      <td>17.075390</td>\n",
       "      <td>11.733064</td>\n",
       "    </tr>\n",
       "    <tr>\n",
       "      <th>481597</th>\n",
       "      <td>499983</td>\n",
       "      <td>10.000000</td>\n",
       "      <td>-73.983521</td>\n",
       "      <td>40.754631</td>\n",
       "      <td>-73.976036</td>\n",
       "      <td>40.748707</td>\n",
       "      <td>1</td>\n",
       "      <td>2015</td>\n",
       "      <td>4</td>\n",
       "      <td>23</td>\n",
       "      <td>...</td>\n",
       "      <td>0.455776</td>\n",
       "      <td>2758.473633</td>\n",
       "      <td>16.188089</td>\n",
       "      <td>13.922821</td>\n",
       "      <td>2.566877</td>\n",
       "      <td>1.217663</td>\n",
       "      <td>0.287114</td>\n",
       "      <td>2758.063721</td>\n",
       "      <td>15.538831</td>\n",
       "      <td>14.290383</td>\n",
       "    </tr>\n",
       "    <tr>\n",
       "      <th>481598</th>\n",
       "      <td>499984</td>\n",
       "      <td>10.000000</td>\n",
       "      <td>-73.986458</td>\n",
       "      <td>40.752872</td>\n",
       "      <td>-73.970482</td>\n",
       "      <td>40.759792</td>\n",
       "      <td>1</td>\n",
       "      <td>2014</td>\n",
       "      <td>0</td>\n",
       "      <td>14</td>\n",
       "      <td>...</td>\n",
       "      <td>0.638667</td>\n",
       "      <td>2758.353027</td>\n",
       "      <td>16.308212</td>\n",
       "      <td>13.691916</td>\n",
       "      <td>1.752207</td>\n",
       "      <td>1.716095</td>\n",
       "      <td>0.674184</td>\n",
       "      <td>2758.827637</td>\n",
       "      <td>15.590264</td>\n",
       "      <td>14.889357</td>\n",
       "    </tr>\n",
       "    <tr>\n",
       "      <th>481599</th>\n",
       "      <td>499985</td>\n",
       "      <td>10.900000</td>\n",
       "      <td>-73.966507</td>\n",
       "      <td>40.764599</td>\n",
       "      <td>-73.966507</td>\n",
       "      <td>40.764599</td>\n",
       "      <td>1</td>\n",
       "      <td>2011</td>\n",
       "      <td>3</td>\n",
       "      <td>15</td>\n",
       "      <td>...</td>\n",
       "      <td>1.103949</td>\n",
       "      <td>2759.158447</td>\n",
       "      <td>15.536510</td>\n",
       "      <td>15.258348</td>\n",
       "      <td>1.419296</td>\n",
       "      <td>2.103857</td>\n",
       "      <td>1.103949</td>\n",
       "      <td>2759.158447</td>\n",
       "      <td>15.536510</td>\n",
       "      <td>15.258348</td>\n",
       "    </tr>\n",
       "    <tr>\n",
       "      <th>481600</th>\n",
       "      <td>499986</td>\n",
       "      <td>7.000000</td>\n",
       "      <td>-73.973152</td>\n",
       "      <td>40.755207</td>\n",
       "      <td>-73.977631</td>\n",
       "      <td>40.766411</td>\n",
       "      <td>1</td>\n",
       "      <td>2013</td>\n",
       "      <td>4</td>\n",
       "      <td>20</td>\n",
       "      <td>...</td>\n",
       "      <td>0.328701</td>\n",
       "      <td>2758.511719</td>\n",
       "      <td>15.585523</td>\n",
       "      <td>14.614050</td>\n",
       "      <td>1.441277</td>\n",
       "      <td>1.550767</td>\n",
       "      <td>0.946451</td>\n",
       "      <td>2759.285400</td>\n",
       "      <td>16.250271</td>\n",
       "      <td>14.583800</td>\n",
       "    </tr>\n",
       "    <tr>\n",
       "      <th>481601</th>\n",
       "      <td>499987</td>\n",
       "      <td>6.500000</td>\n",
       "      <td>-73.989449</td>\n",
       "      <td>40.762783</td>\n",
       "      <td>-74.004211</td>\n",
       "      <td>40.742661</td>\n",
       "      <td>3</td>\n",
       "      <td>2012</td>\n",
       "      <td>4</td>\n",
       "      <td>22</td>\n",
       "      <td>...</td>\n",
       "      <td>1.094463</td>\n",
       "      <td>2759.037354</td>\n",
       "      <td>16.820538</td>\n",
       "      <td>13.733327</td>\n",
       "      <td>3.836248</td>\n",
       "      <td>0.914515</td>\n",
       "      <td>1.988161</td>\n",
       "      <td>2757.652100</td>\n",
       "      <td>17.097626</td>\n",
       "      <td>12.309142</td>\n",
       "    </tr>\n",
       "    <tr>\n",
       "      <th>481602</th>\n",
       "      <td>499988</td>\n",
       "      <td>5.000000</td>\n",
       "      <td>-73.964714</td>\n",
       "      <td>40.755501</td>\n",
       "      <td>-73.977905</td>\n",
       "      <td>40.761581</td>\n",
       "      <td>1</td>\n",
       "      <td>2015</td>\n",
       "      <td>3</td>\n",
       "      <td>6</td>\n",
       "      <td>...</td>\n",
       "      <td>0.883154</td>\n",
       "      <td>2758.530518</td>\n",
       "      <td>15.096173</td>\n",
       "      <td>15.174697</td>\n",
       "      <td>1.752758</td>\n",
       "      <td>1.321575</td>\n",
       "      <td>0.614673</td>\n",
       "      <td>2758.952148</td>\n",
       "      <td>16.091961</td>\n",
       "      <td>14.448076</td>\n",
       "    </tr>\n",
       "    <tr>\n",
       "      <th>481603</th>\n",
       "      <td>499989</td>\n",
       "      <td>15.700000</td>\n",
       "      <td>-73.949982</td>\n",
       "      <td>40.780197</td>\n",
       "      <td>-73.992836</td>\n",
       "      <td>40.749615</td>\n",
       "      <td>1</td>\n",
       "      <td>2009</td>\n",
       "      <td>3</td>\n",
       "      <td>8</td>\n",
       "      <td>...</td>\n",
       "      <td>2.669746</td>\n",
       "      <td>2760.232422</td>\n",
       "      <td>15.248219</td>\n",
       "      <td>16.708036</td>\n",
       "      <td>2.976905</td>\n",
       "      <td>0.084239</td>\n",
       "      <td>1.099469</td>\n",
       "      <td>2758.129395</td>\n",
       "      <td>16.595036</td>\n",
       "      <td>13.203279</td>\n",
       "    </tr>\n",
       "    <tr>\n",
       "      <th>481604</th>\n",
       "      <td>499990</td>\n",
       "      <td>9.300000</td>\n",
       "      <td>-73.990761</td>\n",
       "      <td>40.755875</td>\n",
       "      <td>-73.983238</td>\n",
       "      <td>40.769180</td>\n",
       "      <td>5</td>\n",
       "      <td>2010</td>\n",
       "      <td>0</td>\n",
       "      <td>16</td>\n",
       "      <td>...</td>\n",
       "      <td>0.960755</td>\n",
       "      <td>2758.560791</td>\n",
       "      <td>16.667795</td>\n",
       "      <td>13.479861</td>\n",
       "      <td>1.506625</td>\n",
       "      <td>1.468591</td>\n",
       "      <td>1.210932</td>\n",
       "      <td>2759.477539</td>\n",
       "      <td>16.679655</td>\n",
       "      <td>14.296494</td>\n",
       "    </tr>\n",
       "    <tr>\n",
       "      <th>481605</th>\n",
       "      <td>499991</td>\n",
       "      <td>6.000000</td>\n",
       "      <td>-73.984154</td>\n",
       "      <td>40.737392</td>\n",
       "      <td>-73.988914</td>\n",
       "      <td>40.748123</td>\n",
       "      <td>1</td>\n",
       "      <td>2014</td>\n",
       "      <td>3</td>\n",
       "      <td>0</td>\n",
       "      <td>...</td>\n",
       "      <td>1.160050</td>\n",
       "      <td>2757.284424</td>\n",
       "      <td>15.687791</td>\n",
       "      <td>13.543225</td>\n",
       "      <td>2.921107</td>\n",
       "      <td>0.364046</td>\n",
       "      <td>0.867605</td>\n",
       "      <td>2758.025879</td>\n",
       "      <td>16.307123</td>\n",
       "      <td>13.429074</td>\n",
       "    </tr>\n",
       "    <tr>\n",
       "      <th>481606</th>\n",
       "      <td>499992</td>\n",
       "      <td>16.100000</td>\n",
       "      <td>-74.004440</td>\n",
       "      <td>40.742237</td>\n",
       "      <td>-73.963860</td>\n",
       "      <td>40.683804</td>\n",
       "      <td>1</td>\n",
       "      <td>2009</td>\n",
       "      <td>5</td>\n",
       "      <td>1</td>\n",
       "      <td>...</td>\n",
       "      <td>2.013264</td>\n",
       "      <td>2757.622803</td>\n",
       "      <td>17.100119</td>\n",
       "      <td>12.285381</td>\n",
       "      <td>6.995527</td>\n",
       "      <td>5.043421</td>\n",
       "      <td>4.842251</td>\n",
       "      <td>2753.583008</td>\n",
       "      <td>13.148709</td>\n",
       "      <td>14.539469</td>\n",
       "    </tr>\n",
       "    <tr>\n",
       "      <th>481607</th>\n",
       "      <td>499993</td>\n",
       "      <td>19.500000</td>\n",
       "      <td>-73.948730</td>\n",
       "      <td>40.782021</td>\n",
       "      <td>-73.881287</td>\n",
       "      <td>40.737873</td>\n",
       "      <td>1</td>\n",
       "      <td>2013</td>\n",
       "      <td>0</td>\n",
       "      <td>2</td>\n",
       "      <td>...</td>\n",
       "      <td>2.820028</td>\n",
       "      <td>2760.358154</td>\n",
       "      <td>15.260906</td>\n",
       "      <td>16.835423</td>\n",
       "      <td>6.830031</td>\n",
       "      <td>7.797944</td>\n",
       "      <td>6.696870</td>\n",
       "      <td>2757.307129</td>\n",
       "      <td>9.751727</td>\n",
       "      <td>20.505177</td>\n",
       "    </tr>\n",
       "    <tr>\n",
       "      <th>481608</th>\n",
       "      <td>499994</td>\n",
       "      <td>13.000000</td>\n",
       "      <td>-73.988174</td>\n",
       "      <td>40.748348</td>\n",
       "      <td>-73.987244</td>\n",
       "      <td>40.738884</td>\n",
       "      <td>5</td>\n",
       "      <td>2015</td>\n",
       "      <td>5</td>\n",
       "      <td>22</td>\n",
       "      <td>...</td>\n",
       "      <td>0.814402</td>\n",
       "      <td>2758.041016</td>\n",
       "      <td>16.268635</td>\n",
       "      <td>13.482445</td>\n",
       "      <td>3.446253</td>\n",
       "      <td>0.917957</td>\n",
       "      <td>1.178491</td>\n",
       "      <td>2757.387695</td>\n",
       "      <td>15.924515</td>\n",
       "      <td>13.362441</td>\n",
       "    </tr>\n",
       "    <tr>\n",
       "      <th>481609</th>\n",
       "      <td>499995</td>\n",
       "      <td>7.000000</td>\n",
       "      <td>-73.978775</td>\n",
       "      <td>40.766724</td>\n",
       "      <td>-73.966072</td>\n",
       "      <td>40.758537</td>\n",
       "      <td>1</td>\n",
       "      <td>2015</td>\n",
       "      <td>3</td>\n",
       "      <td>18</td>\n",
       "      <td>...</td>\n",
       "      <td>0.973633</td>\n",
       "      <td>2759.307373</td>\n",
       "      <td>16.328653</td>\n",
       "      <td>14.518186</td>\n",
       "      <td>1.838583</td>\n",
       "      <td>1.976111</td>\n",
       "      <td>0.867235</td>\n",
       "      <td>2758.740234</td>\n",
       "      <td>15.286015</td>\n",
       "      <td>15.149907</td>\n",
       "    </tr>\n",
       "    <tr>\n",
       "      <th>481610</th>\n",
       "      <td>499996</td>\n",
       "      <td>13.700000</td>\n",
       "      <td>-74.002930</td>\n",
       "      <td>40.718407</td>\n",
       "      <td>-74.009445</td>\n",
       "      <td>40.710953</td>\n",
       "      <td>1</td>\n",
       "      <td>2010</td>\n",
       "      <td>0</td>\n",
       "      <td>12</td>\n",
       "      <td>...</td>\n",
       "      <td>2.958106</td>\n",
       "      <td>2755.978271</td>\n",
       "      <td>16.400274</td>\n",
       "      <td>12.005179</td>\n",
       "      <td>5.851075</td>\n",
       "      <td>2.945171</td>\n",
       "      <td>3.639666</td>\n",
       "      <td>2755.465332</td>\n",
       "      <td>16.670679</td>\n",
       "      <td>11.484551</td>\n",
       "    </tr>\n",
       "    <tr>\n",
       "      <th>481611</th>\n",
       "      <td>499997</td>\n",
       "      <td>25.000000</td>\n",
       "      <td>-73.983887</td>\n",
       "      <td>40.725613</td>\n",
       "      <td>-73.896484</td>\n",
       "      <td>40.700981</td>\n",
       "      <td>1</td>\n",
       "      <td>2014</td>\n",
       "      <td>0</td>\n",
       "      <td>0</td>\n",
       "      <td>...</td>\n",
       "      <td>1.925132</td>\n",
       "      <td>2756.471680</td>\n",
       "      <td>15.344884</td>\n",
       "      <td>13.386256</td>\n",
       "      <td>7.630604</td>\n",
       "      <td>7.523312</td>\n",
       "      <td>6.614822</td>\n",
       "      <td>2754.761963</td>\n",
       "      <td>9.147875</td>\n",
       "      <td>19.199398</td>\n",
       "    </tr>\n",
       "    <tr>\n",
       "      <th>481612</th>\n",
       "      <td>499998</td>\n",
       "      <td>6.500000</td>\n",
       "      <td>-73.974617</td>\n",
       "      <td>40.756512</td>\n",
       "      <td>-73.970184</td>\n",
       "      <td>40.764801</td>\n",
       "      <td>6</td>\n",
       "      <td>2015</td>\n",
       "      <td>0</td>\n",
       "      <td>12</td>\n",
       "      <td>...</td>\n",
       "      <td>0.317791</td>\n",
       "      <td>2758.601807</td>\n",
       "      <td>15.718223</td>\n",
       "      <td>14.546360</td>\n",
       "      <td>1.406159</td>\n",
       "      <td>1.889356</td>\n",
       "      <td>0.965217</td>\n",
       "      <td>2759.173096</td>\n",
       "      <td>15.756978</td>\n",
       "      <td>15.024756</td>\n",
       "    </tr>\n",
       "    <tr>\n",
       "      <th>481613</th>\n",
       "      <td>499999</td>\n",
       "      <td>4.900000</td>\n",
       "      <td>-73.986740</td>\n",
       "      <td>40.722187</td>\n",
       "      <td>-73.982765</td>\n",
       "      <td>40.713329</td>\n",
       "      <td>1</td>\n",
       "      <td>2010</td>\n",
       "      <td>0</td>\n",
       "      <td>23</td>\n",
       "      <td>...</td>\n",
       "      <td>2.205885</td>\n",
       "      <td>2756.235596</td>\n",
       "      <td>15.440247</td>\n",
       "      <td>13.150268</td>\n",
       "      <td>5.051386</td>\n",
       "      <td>2.676489</td>\n",
       "      <td>2.743605</td>\n",
       "      <td>2755.623779</td>\n",
       "      <td>14.971000</td>\n",
       "      <td>13.331460</td>\n",
       "    </tr>\n",
       "  </tbody>\n",
       "</table>\n",
       "<p>481614 rows × 25 columns</p>\n",
       "</div>"
      ],
      "text/plain": [
       "         index  fare_amount  pickup_longitude  pickup_latitude  \\\n",
       "0            0     4.500000        -73.844315        40.721317   \n",
       "1            1    16.900000        -74.016045        40.711304   \n",
       "2            2     5.700000        -73.982735        40.761269   \n",
       "3            3     7.700000        -73.987129        40.733143   \n",
       "4            4     5.300000        -73.968094        40.768009   \n",
       "5            5    12.100000        -74.000961        40.731628   \n",
       "6            6     7.500000        -73.980003        40.751663   \n",
       "7            7    16.500000        -73.951302        40.774139   \n",
       "8            8     9.000000        -74.006462        40.726711   \n",
       "9            9     8.900000        -73.980659        40.733871   \n",
       "10          10     5.300000        -73.996338        40.737141   \n",
       "11          12     4.100000        -73.991600        40.744713   \n",
       "12          13     7.000000        -74.005363        40.728867   \n",
       "13          14     7.700000        -74.001823        40.737549   \n",
       "14          16    12.500000        -73.986427        40.760464   \n",
       "15          17     5.300000        -73.981056        40.737690   \n",
       "16          18     5.300000        -73.969505        40.784843   \n",
       "17          19     4.000000        -73.979813        40.751904   \n",
       "18          20    10.500000        -73.985382        40.747856   \n",
       "19          21    11.500000        -73.957954        40.779251   \n",
       "20          22     4.500000        -73.991707        40.770504   \n",
       "21          23     4.900000        -74.000633        40.747475   \n",
       "22          24     6.100000        -73.969620        40.756973   \n",
       "23          25     7.300000        -73.991875        40.754436   \n",
       "24          27     4.500000        -73.988892        40.760159   \n",
       "25          28     9.300000        -73.989258        40.690834   \n",
       "26          29     4.500000        -73.981018        40.737759   \n",
       "27          30     5.500000        -73.976074        40.752422   \n",
       "28          31    22.540001        -74.010483        40.717667   \n",
       "29          32    31.900000        -73.873024        40.773884   \n",
       "...        ...          ...               ...              ...   \n",
       "481584  499970    29.299999        -73.988716        40.763657   \n",
       "481585  499971    40.500000        -73.789864        40.643284   \n",
       "481586  499972    12.000000        -73.978386        40.752071   \n",
       "481587  499973     3.000000        -73.995613        40.748943   \n",
       "481588  499974     9.500000        -73.971092        40.751331   \n",
       "481589  499975     6.900000        -73.986015        40.734806   \n",
       "481590  499976     9.700000        -73.993813        40.732777   \n",
       "481591  499977    49.570000        -73.955070        40.804985   \n",
       "481592  499978     4.100000        -73.991234        40.685562   \n",
       "481593  499979    49.799999        -73.872879        40.773926   \n",
       "481594  499980    18.100000        -73.965805        40.758606   \n",
       "481595  499981     8.100000        -73.993462        40.682316   \n",
       "481596  499982     6.000000        -74.007149        40.741657   \n",
       "481597  499983    10.000000        -73.983521        40.754631   \n",
       "481598  499984    10.000000        -73.986458        40.752872   \n",
       "481599  499985    10.900000        -73.966507        40.764599   \n",
       "481600  499986     7.000000        -73.973152        40.755207   \n",
       "481601  499987     6.500000        -73.989449        40.762783   \n",
       "481602  499988     5.000000        -73.964714        40.755501   \n",
       "481603  499989    15.700000        -73.949982        40.780197   \n",
       "481604  499990     9.300000        -73.990761        40.755875   \n",
       "481605  499991     6.000000        -73.984154        40.737392   \n",
       "481606  499992    16.100000        -74.004440        40.742237   \n",
       "481607  499993    19.500000        -73.948730        40.782021   \n",
       "481608  499994    13.000000        -73.988174        40.748348   \n",
       "481609  499995     7.000000        -73.978775        40.766724   \n",
       "481610  499996    13.700000        -74.002930        40.718407   \n",
       "481611  499997    25.000000        -73.983887        40.725613   \n",
       "481612  499998     6.500000        -73.974617        40.756512   \n",
       "481613  499999     4.900000        -73.986740        40.722187   \n",
       "\n",
       "        dropoff_longitude  dropoff_latitude  passenger_count  year  day  hour  \\\n",
       "0              -73.841614         40.712276                1  2009    0    17   \n",
       "1              -73.979271         40.782005                1  2010    1    16   \n",
       "2              -73.991241         40.750561                2  2011    3     0   \n",
       "3              -73.991570         40.758091                1  2012    5     4   \n",
       "4              -73.956657         40.783764                1  2010    1     7   \n",
       "5              -73.972893         40.758232                1  2011    3     9   \n",
       "6              -73.973801         40.764843                1  2012    1    20   \n",
       "7              -73.990097         40.751049                1  2012    2    17   \n",
       "8              -73.993080         40.731628                1  2012    0    13   \n",
       "9              -73.991539         40.758137                2  2009    2     1   \n",
       "10             -73.980721         40.733559                1  2012    6     7   \n",
       "11             -73.983078         40.744682                2  2009    4     1   \n",
       "12             -74.008911         40.710907                1  2013    1    19   \n",
       "13             -73.998062         40.722790                2  2011    1    17   \n",
       "14             -73.988991         40.737076                1  2014    2     7   \n",
       "15             -73.994179         40.728413                1  2009    2    16   \n",
       "16             -73.958733         40.783356                1  2010    2    14   \n",
       "17             -73.979446         40.755482                1  2014    5    20   \n",
       "18             -73.978378         40.762070                1  2010    1    13   \n",
       "19             -73.961250         40.758785                1  2013    1    12   \n",
       "20             -73.985458         40.763672                1  2009    3    18   \n",
       "21             -73.986671         40.740578                1  2010    0    12   \n",
       "22             -73.981155         40.759712                1  2009    3    15   \n",
       "23             -73.977226         40.774323                3  2011    1    16   \n",
       "24             -73.986443         40.757858                3  2011    1    19   \n",
       "25             -74.004135         40.725689                1  2012    4     6   \n",
       "26             -73.980667         40.730495                2  2013    6     0   \n",
       "27             -73.981079         40.759285                1  2014    2    16   \n",
       "28             -73.985771         40.660366                1  2015    6    21   \n",
       "29             -73.984543         40.769547                3  2009    4    16   \n",
       "...                   ...               ...              ...   ...  ...   ...   \n",
       "481584         -73.986397         40.762077                2  2011    1    17   \n",
       "481585         -73.967651         40.697342                1  2012    0    13   \n",
       "481586         -74.003494         40.724159                1  2013    4    14   \n",
       "481587         -73.994858         40.750164                1  2014    0     2   \n",
       "481588         -73.990593         40.751339                3  2014    5    11   \n",
       "481589         -73.978462         40.750591                1  2009    4     9   \n",
       "481590         -73.977821         40.754650                1  2011    1    15   \n",
       "481591         -73.776230         40.645798                1  2010    2     5   \n",
       "481592         -73.977135         40.681286                1  2011    5    21   \n",
       "481593         -74.014847         40.714321                1  2012    0    14   \n",
       "481594         -73.871490         40.774361                1  2009    4    13   \n",
       "481595         -73.977463         40.666637                5  2009    6    22   \n",
       "481596         -74.009262         40.729645                2  2014    2     0   \n",
       "481597         -73.976036         40.748707                1  2015    4    23   \n",
       "481598         -73.970482         40.759792                1  2014    0    14   \n",
       "481599         -73.966507         40.764599                1  2011    3    15   \n",
       "481600         -73.977631         40.766411                1  2013    4    20   \n",
       "481601         -74.004211         40.742661                3  2012    4    22   \n",
       "481602         -73.977905         40.761581                1  2015    3     6   \n",
       "481603         -73.992836         40.749615                1  2009    3     8   \n",
       "481604         -73.983238         40.769180                5  2010    0    16   \n",
       "481605         -73.988914         40.748123                1  2014    3     0   \n",
       "481606         -73.963860         40.683804                1  2009    5     1   \n",
       "481607         -73.881287         40.737873                1  2013    0     2   \n",
       "481608         -73.987244         40.738884                5  2015    5    22   \n",
       "481609         -73.966072         40.758537                1  2015    3    18   \n",
       "481610         -74.009445         40.710953                1  2010    0    12   \n",
       "481611         -73.896484         40.700981                1  2014    0     0   \n",
       "481612         -73.970184         40.764801                6  2015    0    12   \n",
       "481613         -73.982765         40.713329                1  2010    0    23   \n",
       "\n",
       "          ...             gc           lg         jf         nw        cp1  \\\n",
       "0         ...       9.421559  2756.165527   7.166450  22.888300  10.081445   \n",
       "1         ...       3.916844  2755.491455  17.114029  11.036421   0.787397   \n",
       "2         ...       0.703674  2758.931641  16.367428  14.128100   2.861115   \n",
       "3         ...       1.513345  2756.991699  15.753877  13.274643   2.460128   \n",
       "4         ...       1.229148  2759.394043  15.757581  15.237468   0.807489   \n",
       "5         ...       2.191209  2756.890137  16.592566  12.321941   1.880369   \n",
       "6         ...       0.206038  2758.268311  15.876800  14.089042   1.448055   \n",
       "7         ...       2.319998  2759.814453  15.061195  16.470827   2.789738   \n",
       "8         ...       2.700298  2756.552002  16.823090  11.875486   4.066383   \n",
       "9         ...       1.320929  2757.040771  15.367056  13.720921   2.456361   \n",
       "10        ...       1.701725  2757.269531  16.446564  12.725085   3.657830   \n",
       "11        ...       1.136034  2757.791016  16.368690  13.182575   2.969197   \n",
       "12        ...       2.545587  2756.700439  16.805004  11.982346   5.836047   \n",
       "13        ...       1.994720  2757.298828  16.804920  12.367338   4.764596   \n",
       "14        ...       0.831854  2758.876465  16.560085  13.870057   3.608009   \n",
       "15        ...       1.069321  2757.304199  15.503149  13.755543   4.299642   \n",
       "16        ...       2.280562  2760.555908  16.508316  15.599678   0.669881   \n",
       "17        ...       0.188256  2758.284912  15.873219  14.106631   2.183410   \n",
       "18        ...       0.655907  2758.006592  16.081652  13.656243   1.734470   \n",
       "19        ...       2.262780  2760.168213  15.640094  16.174170   1.878898   \n",
       "20        ...       1.584455  2759.570557  17.225405  13.795684   1.894341   \n",
       "21        ...       1.656390  2757.983398  17.013010  12.646153   3.323154   \n",
       "22        ...       0.600598  2758.632812  15.438190  14.883622   1.963484   \n",
       "23        ...       1.019381  2758.461914  16.688852  13.374029   0.965808   \n",
       "24        ...       0.956671  2758.856201  16.697544  13.703595   2.258477   \n",
       "25        ...       4.349083  2754.072754  14.965466  12.782009   4.787384   \n",
       "26        ...       1.064078  2757.308838  15.502805  13.759242   3.862795   \n",
       "27        ...       0.080246  2758.320068  15.665020  14.363267   1.987476   \n",
       "28        ...       3.334145  2755.928955  16.878086  11.482833   8.690218   \n",
       "29        ...       7.335470  2759.791748  11.251266  21.601332   1.552077   \n",
       "...       ...            ...          ...        ...        ...        ...   \n",
       "481584    ...       1.096586  2759.097412  16.806938  13.802559   2.020768   \n",
       "481585    ...      14.969703  2750.786621   0.823211  26.730766   6.054872   \n",
       "481586    ...       0.092435  2758.296143  15.792573  14.203923   4.855781   \n",
       "481587    ...       1.296460  2758.083496  16.745747  13.006819   3.028192   \n",
       "481588    ...       0.432127  2758.243652  15.328753  14.669240   2.791636   \n",
       "481589    ...       1.376325  2757.106201  15.730263  13.375865   2.481931   \n",
       "481590    ...       1.789799  2756.967773  16.167253  12.820032   2.201112   \n",
       "481591    ...       3.917539  2761.943359  16.633383  17.109516  16.370277   \n",
       "481592    ...       4.732643  2753.709473  15.020073  12.648250   7.188566   \n",
       "481593    ...       7.345849  2759.794678  11.247802  21.611744   5.845269   \n",
       "481594    ...       0.885763  2758.744873  15.272894  15.168887   6.719712   \n",
       "481595    ...       4.984445  2753.486084  15.127109  12.501444   8.197823   \n",
       "481596    ...       2.202263  2757.583496  17.254871  12.095048   4.757239   \n",
       "481597    ...       0.455776  2758.473633  16.188089  13.922821   2.566877   \n",
       "481598    ...       0.638667  2758.353027  16.308212  13.691916   1.752207   \n",
       "481599    ...       1.103949  2759.158447  15.536510  15.258348   1.419296   \n",
       "481600    ...       0.328701  2758.511719  15.585523  14.614050   1.441277   \n",
       "481601    ...       1.094463  2759.037354  16.820538  13.733327   3.836248   \n",
       "481602    ...       0.883154  2758.530518  15.096173  15.174697   1.752758   \n",
       "481603    ...       2.669746  2760.232422  15.248219  16.708036   2.976905   \n",
       "481604    ...       0.960755  2758.560791  16.667795  13.479861   1.506625   \n",
       "481605    ...       1.160050  2757.284424  15.687791  13.543225   2.921107   \n",
       "481606    ...       2.013264  2757.622803  17.100119  12.285381   6.995527   \n",
       "481607    ...       2.820028  2760.358154  15.260906  16.835423   6.830031   \n",
       "481608    ...       0.814402  2758.041016  16.268635  13.482445   3.446253   \n",
       "481609    ...       0.973633  2759.307373  16.328653  14.518186   1.838583   \n",
       "481610    ...       2.958106  2755.978271  16.400274  12.005179   5.851075   \n",
       "481611    ...       1.925132  2756.471680  15.344884  13.386256   7.630604   \n",
       "481612    ...       0.317791  2758.601807  15.718223  14.546360   1.406159   \n",
       "481613    ...       2.205885  2756.235596  15.440247  13.150268   5.051386   \n",
       "\n",
       "              ps1        gc1          lg1        jf1        nw1  \n",
       "0       10.813866   9.762627  2755.541748   6.571955  23.022823  \n",
       "1        2.382664   2.027037  2760.361816  16.939192  14.906497  \n",
       "2        0.161619   0.979819  2758.194580  16.526550  13.328269  \n",
       "3        0.536579   1.058740  2758.714111  16.789803  13.480322  \n",
       "4        3.425578   2.569777  2760.479492  15.761477  16.378029  \n",
       "5        1.522184   0.483870  2758.720459  15.676469  14.697087  \n",
       "6        1.682816   0.870087  2759.176514  15.968981  14.791894  \n",
       "7        0.242746   0.896934  2758.227783  16.471783  13.413836  \n",
       "8        1.308109   1.820498  2756.888428  16.089886  12.851032  \n",
       "9        0.540177   1.057885  2758.717285  16.789473  13.483402  \n",
       "10       1.472114   1.342919  2757.019043  15.361929  13.712013  \n",
       "11       0.831300   0.685874  2757.787109  15.840607  13.745972  \n",
       "12       2.934623   3.619776  2755.461914  16.634485  11.520690  \n",
       "13       1.942254   2.516144  2756.279541  16.185509  12.388994  \n",
       "14       0.984196   1.350504  2757.263428  15.981849  13.214365  \n",
       "15       1.530088   2.044636  2756.666748  16.075521  12.728555  \n",
       "16       3.301097   2.469480  2760.451416  15.856231  16.235460  \n",
       "17       1.032446   0.246521  2758.531494  15.971402  14.207876  \n",
       "18       1.315026   0.651517  2758.985840  16.137306  14.429095  \n",
       "19       2.301722   1.178104  2758.756592  15.013981  15.471367  \n",
       "20       1.063187   0.947361  2759.097900  16.613491  14.011959  \n",
       "21       0.838915   1.061377  2757.504639  15.938622  13.430815  \n",
       "22       1.064173   0.555347  2758.823730  16.219152  14.193193  \n",
       "23       1.989403   1.491898  2759.831055  16.523529  14.816821  \n",
       "24       0.703567   0.730104  2758.696777  16.472485  13.806625  \n",
       "25       1.865414   2.631933  2756.480957  16.647995  12.017443  \n",
       "26       1.647670   1.550698  2756.807861  15.272182  13.670311  \n",
       "27       1.051303   0.527173  2758.794189  16.199770  14.188109  \n",
       "28       6.248048   6.398467  2751.969727  14.389638  13.176490  \n",
       "29       1.449774   1.267884  2759.502930  16.769436  14.223234  \n",
       "...           ...        ...          ...        ...        ...  \n",
       "481584   0.935564   0.906079  2758.988037  16.613827  13.911718  \n",
       "481585   4.086036   3.876208  2754.518066  13.638762  14.282778  \n",
       "481586   1.947057   2.677549  2756.375244  16.569860  12.039290  \n",
       "481587   0.092477   1.230666  2758.167480  16.736687  13.082992  \n",
       "481588   0.212904   0.928648  2758.247803  16.511368  13.387745  \n",
       "481589   1.043381   0.169504  2758.194092  15.748021  14.168188  \n",
       "481590   1.123277   0.141100  2758.473877  15.845560  14.295991  \n",
       "481591  16.649168  15.706955  2750.962158   0.336064  27.645546  \n",
       "481592   4.914149   4.927634  2753.411865  14.007856  13.629958  \n",
       "481593   2.900310   3.709369  2755.698975  17.094957  11.148387  \n",
       "481594   8.582746   7.445725  2759.824707  11.216913  21.712097  \n",
       "481595   5.897871   5.938401  2752.401123  13.866745  13.686742  \n",
       "481596   1.804702   2.724707  2756.755127  17.075390  11.733064  \n",
       "481597   1.217663   0.287114  2758.063721  15.538831  14.290383  \n",
       "481598   1.716095   0.674184  2758.827637  15.590264  14.889357  \n",
       "481599   2.103857   1.103949  2759.158447  15.536510  15.258348  \n",
       "481600   1.550767   0.946451  2759.285400  16.250271  14.583800  \n",
       "481601   0.914515   1.988161  2757.652100  17.097626  12.309142  \n",
       "481602   1.321575   0.614673  2758.952148  16.091961  14.448076  \n",
       "481603   0.084239   1.099469  2758.129395  16.595036  13.203279  \n",
       "481604   1.468591   1.210932  2759.477539  16.679655  14.296494  \n",
       "481605   0.364046   0.867605  2758.025879  16.307123  13.429074  \n",
       "481606   5.043421   4.842251  2753.583008  13.148709  14.539469  \n",
       "481607   7.797944   6.696870  2757.307129   9.751727  20.505177  \n",
       "481608   0.917957   1.178491  2757.387695  15.924515  13.362441  \n",
       "481609   1.976111   0.867235  2758.740234  15.286015  15.149907  \n",
       "481610   2.945171   3.639666  2755.465332  16.670679  11.484551  \n",
       "481611   7.523312   6.614822  2754.761963   9.147875  19.199398  \n",
       "481612   1.889356   0.965217  2759.173096  15.756978  15.024756  \n",
       "481613   2.676489   2.743605  2755.623779  14.971000  13.331460  \n",
       "\n",
       "[481614 rows x 25 columns]"
      ]
     },
     "execution_count": 27,
     "metadata": {
      "tags": []
     },
     "output_type": "execute_result"
    }
   ],
   "source": [
    "train_df.reset_index()"
   ]
  },
  {
   "cell_type": "code",
   "execution_count": 0,
   "metadata": {
    "colab": {},
    "colab_type": "code",
    "id": "DeHC_OsHqV11"
   },
   "outputs": [],
   "source": []
  },
  {
   "cell_type": "code",
   "execution_count": 0,
   "metadata": {
    "colab": {},
    "colab_type": "code",
    "id": "V2Ru6hgxdqvo"
   },
   "outputs": [],
   "source": [
    "train_df.describe()"
   ]
  },
  {
   "cell_type": "code",
   "execution_count": 0,
   "metadata": {
    "colab": {},
    "colab_type": "code",
    "id": "oR-BGyQZdqtl"
   },
   "outputs": [],
   "source": []
  },
  {
   "cell_type": "code",
   "execution_count": 0,
   "metadata": {
    "colab": {},
    "colab_type": "code",
    "id": "l3LkKeRvdqpn"
   },
   "outputs": [],
   "source": []
  },
  {
   "cell_type": "code",
   "execution_count": 0,
   "metadata": {
    "colab": {},
    "colab_type": "code",
    "id": "0Ydz3ai9dqnT"
   },
   "outputs": [],
   "source": []
  },
  {
   "cell_type": "code",
   "execution_count": 0,
   "metadata": {
    "colab": {},
    "colab_type": "code",
    "id": "LusHNOz9dqjp"
   },
   "outputs": [],
   "source": []
  },
  {
   "cell_type": "code",
   "execution_count": 27,
   "metadata": {
    "colab": {
     "base_uri": "https://localhost:8080/",
     "height": 317
    },
    "colab_type": "code",
    "id": "E7Hgs-dgfmcG",
    "outputId": "59a644b8-3120-454c-b9a9-466ccac447ca"
   },
   "outputs": [
    {
     "data": {
      "text/html": [
       "<div>\n",
       "<style scoped>\n",
       "    .dataframe tbody tr th:only-of-type {\n",
       "        vertical-align: middle;\n",
       "    }\n",
       "\n",
       "    .dataframe tbody tr th {\n",
       "        vertical-align: top;\n",
       "    }\n",
       "\n",
       "    .dataframe thead th {\n",
       "        text-align: right;\n",
       "    }\n",
       "</style>\n",
       "<table border=\"1\" class=\"dataframe\">\n",
       "  <thead>\n",
       "    <tr style=\"text-align: right;\">\n",
       "      <th></th>\n",
       "      <th>fare_amount</th>\n",
       "      <th>pickup_longitude</th>\n",
       "      <th>pickup_latitude</th>\n",
       "      <th>dropoff_longitude</th>\n",
       "      <th>dropoff_latitude</th>\n",
       "      <th>passenger_count</th>\n",
       "      <th>distance_sp</th>\n",
       "      <th>distance_eucle</th>\n",
       "      <th>distance_manh</th>\n",
       "    </tr>\n",
       "  </thead>\n",
       "  <tbody>\n",
       "    <tr>\n",
       "      <th>count</th>\n",
       "      <td>5.337549e+07</td>\n",
       "      <td>5.337549e+07</td>\n",
       "      <td>5.337549e+07</td>\n",
       "      <td>5.337549e+07</td>\n",
       "      <td>5.337549e+07</td>\n",
       "      <td>5.337549e+07</td>\n",
       "      <td>5.337549e+07</td>\n",
       "      <td>5.337549e+07</td>\n",
       "      <td>5.337549e+07</td>\n",
       "    </tr>\n",
       "    <tr>\n",
       "      <th>mean</th>\n",
       "      <td>1.069499e+01</td>\n",
       "      <td>-7.397183e+01</td>\n",
       "      <td>4.075023e+01</td>\n",
       "      <td>-7.397065e+01</td>\n",
       "      <td>4.075037e+01</td>\n",
       "      <td>1.690683e+00</td>\n",
       "      <td>1.946789e+00</td>\n",
       "      <td>2.204092e+00</td>\n",
       "      <td>4.125143e-02</td>\n",
       "    </tr>\n",
       "    <tr>\n",
       "      <th>std</th>\n",
       "      <td>7.715761e+00</td>\n",
       "      <td>3.526749e-02</td>\n",
       "      <td>2.920402e-02</td>\n",
       "      <td>3.492744e-02</td>\n",
       "      <td>3.281778e-02</td>\n",
       "      <td>1.313596e+00</td>\n",
       "      <td>1.949486e+00</td>\n",
       "      <td>2.299361e+00</td>\n",
       "      <td>4.305605e-02</td>\n",
       "    </tr>\n",
       "    <tr>\n",
       "      <th>min</th>\n",
       "      <td>1.000000e-02</td>\n",
       "      <td>-7.499804e+01</td>\n",
       "      <td>3.903129e+01</td>\n",
       "      <td>-7.499828e+01</td>\n",
       "      <td>3.901662e+01</td>\n",
       "      <td>1.000000e+00</td>\n",
       "      <td>0.000000e+00</td>\n",
       "      <td>0.000000e+00</td>\n",
       "      <td>0.000000e+00</td>\n",
       "    </tr>\n",
       "    <tr>\n",
       "      <th>25%</th>\n",
       "      <td>6.000000e+00</td>\n",
       "      <td>-7.399233e+01</td>\n",
       "      <td>4.073690e+01</td>\n",
       "      <td>-7.399156e+01</td>\n",
       "      <td>4.073606e+01</td>\n",
       "      <td>1.000000e+00</td>\n",
       "      <td>7.746398e-01</td>\n",
       "      <td>8.786609e-01</td>\n",
       "      <td>1.626587e-02</td>\n",
       "    </tr>\n",
       "    <tr>\n",
       "      <th>50%</th>\n",
       "      <td>8.500000e+00</td>\n",
       "      <td>-7.398216e+01</td>\n",
       "      <td>4.075356e+01</td>\n",
       "      <td>-7.398064e+01</td>\n",
       "      <td>4.075404e+01</td>\n",
       "      <td>1.000000e+00</td>\n",
       "      <td>1.323486e+00</td>\n",
       "      <td>1.487754e+00</td>\n",
       "      <td>2.779770e-02</td>\n",
       "    </tr>\n",
       "    <tr>\n",
       "      <th>75%</th>\n",
       "      <td>1.250000e+01</td>\n",
       "      <td>-7.396863e+01</td>\n",
       "      <td>4.076767e+01</td>\n",
       "      <td>-7.396562e+01</td>\n",
       "      <td>4.076846e+01</td>\n",
       "      <td>2.000000e+00</td>\n",
       "      <td>2.371383e+00</td>\n",
       "      <td>2.605871e+00</td>\n",
       "      <td>4.954910e-02</td>\n",
       "    </tr>\n",
       "    <tr>\n",
       "      <th>max</th>\n",
       "      <td>5.000000e+01</td>\n",
       "      <td>-7.204471e+01</td>\n",
       "      <td>4.199717e+01</td>\n",
       "      <td>-7.201388e+01</td>\n",
       "      <td>4.199665e+01</td>\n",
       "      <td>2.080000e+02</td>\n",
       "      <td>6.005273e+01</td>\n",
       "      <td>5.998876e+01</td>\n",
       "      <td>1.227604e+00</td>\n",
       "    </tr>\n",
       "  </tbody>\n",
       "</table>\n",
       "</div>"
      ],
      "text/plain": [
       "        fare_amount  pickup_longitude  pickup_latitude  dropoff_longitude  \\\n",
       "count  5.337549e+07      5.337549e+07     5.337549e+07       5.337549e+07   \n",
       "mean   1.069499e+01     -7.397183e+01     4.075023e+01      -7.397065e+01   \n",
       "std    7.715761e+00      3.526749e-02     2.920402e-02       3.492744e-02   \n",
       "min    1.000000e-02     -7.499804e+01     3.903129e+01      -7.499828e+01   \n",
       "25%    6.000000e+00     -7.399233e+01     4.073690e+01      -7.399156e+01   \n",
       "50%    8.500000e+00     -7.398216e+01     4.075356e+01      -7.398064e+01   \n",
       "75%    1.250000e+01     -7.396863e+01     4.076767e+01      -7.396562e+01   \n",
       "max    5.000000e+01     -7.204471e+01     4.199717e+01      -7.201388e+01   \n",
       "\n",
       "       dropoff_latitude  passenger_count   distance_sp  distance_eucle  \\\n",
       "count      5.337549e+07     5.337549e+07  5.337549e+07    5.337549e+07   \n",
       "mean       4.075037e+01     1.690683e+00  1.946789e+00    2.204092e+00   \n",
       "std        3.281778e-02     1.313596e+00  1.949486e+00    2.299361e+00   \n",
       "min        3.901662e+01     1.000000e+00  0.000000e+00    0.000000e+00   \n",
       "25%        4.073606e+01     1.000000e+00  7.746398e-01    8.786609e-01   \n",
       "50%        4.075404e+01     1.000000e+00  1.323486e+00    1.487754e+00   \n",
       "75%        4.076846e+01     2.000000e+00  2.371383e+00    2.605871e+00   \n",
       "max        4.199665e+01     2.080000e+02  6.005273e+01    5.998876e+01   \n",
       "\n",
       "       distance_manh  \n",
       "count   5.337549e+07  \n",
       "mean    4.125143e-02  \n",
       "std     4.305605e-02  \n",
       "min     0.000000e+00  \n",
       "25%     1.626587e-02  \n",
       "50%     2.779770e-02  \n",
       "75%     4.954910e-02  \n",
       "max     1.227604e+00  "
      ]
     },
     "execution_count": 27,
     "metadata": {
      "tags": []
     },
     "output_type": "execute_result"
    }
   ],
   "source": []
  },
  {
   "cell_type": "code",
   "execution_count": 0,
   "metadata": {
    "colab": {},
    "colab_type": "code",
    "id": "0WqrJJFoc_6L"
   },
   "outputs": [],
   "source": []
  },
  {
   "cell_type": "markdown",
   "metadata": {
    "colab_type": "text",
    "id": "v9t19BRsbjQ4"
   },
   "source": [
    "# Pearson Coefficent"
   ]
  },
  {
   "cell_type": "code",
   "execution_count": 0,
   "metadata": {
    "colab": {},
    "colab_type": "code",
    "id": "zhjKhKlubigX"
   },
   "outputs": [],
   "source": []
  },
  {
   "cell_type": "code",
   "execution_count": 0,
   "metadata": {
    "colab": {},
    "colab_type": "code",
    "id": "xVe9ZzIWcGc9"
   },
   "outputs": [],
   "source": [
    "train_df_small = train_df.iloc[0:300000,]"
   ]
  },
  {
   "cell_type": "code",
   "execution_count": 29,
   "metadata": {
    "colab": {
     "base_uri": "https://localhost:8080/",
     "height": 317
    },
    "colab_type": "code",
    "id": "PDUtGvt8cPRX",
    "outputId": "877a08ae-bf5a-462c-b48d-5fa1a52f66a4"
   },
   "outputs": [
    {
     "data": {
      "text/html": [
       "<div>\n",
       "<style scoped>\n",
       "    .dataframe tbody tr th:only-of-type {\n",
       "        vertical-align: middle;\n",
       "    }\n",
       "\n",
       "    .dataframe tbody tr th {\n",
       "        vertical-align: top;\n",
       "    }\n",
       "\n",
       "    .dataframe thead th {\n",
       "        text-align: right;\n",
       "    }\n",
       "</style>\n",
       "<table border=\"1\" class=\"dataframe\">\n",
       "  <thead>\n",
       "    <tr style=\"text-align: right;\">\n",
       "      <th></th>\n",
       "      <th>fare_amount</th>\n",
       "      <th>pickup_longitude</th>\n",
       "      <th>pickup_latitude</th>\n",
       "      <th>dropoff_longitude</th>\n",
       "      <th>dropoff_latitude</th>\n",
       "      <th>passenger_count</th>\n",
       "      <th>distance_sp</th>\n",
       "      <th>distance_eucle</th>\n",
       "      <th>distance_manh</th>\n",
       "    </tr>\n",
       "  </thead>\n",
       "  <tbody>\n",
       "    <tr>\n",
       "      <th>count</th>\n",
       "      <td>300000.000000</td>\n",
       "      <td>300000.000000</td>\n",
       "      <td>300000.000000</td>\n",
       "      <td>300000.000000</td>\n",
       "      <td>300000.000000</td>\n",
       "      <td>300000.000000</td>\n",
       "      <td>300000.000000</td>\n",
       "      <td>300000.000000</td>\n",
       "      <td>300000.000000</td>\n",
       "    </tr>\n",
       "    <tr>\n",
       "      <th>mean</th>\n",
       "      <td>10.714894</td>\n",
       "      <td>-73.976303</td>\n",
       "      <td>40.751472</td>\n",
       "      <td>-73.974617</td>\n",
       "      <td>40.751759</td>\n",
       "      <td>1.690723</td>\n",
       "      <td>1.951299</td>\n",
       "      <td>2.210012</td>\n",
       "      <td>0.041353</td>\n",
       "    </tr>\n",
       "    <tr>\n",
       "      <th>std</th>\n",
       "      <td>7.738379</td>\n",
       "      <td>0.035167</td>\n",
       "      <td>0.029479</td>\n",
       "      <td>0.035101</td>\n",
       "      <td>0.033186</td>\n",
       "      <td>1.307768</td>\n",
       "      <td>1.949647</td>\n",
       "      <td>2.299893</td>\n",
       "      <td>0.043002</td>\n",
       "    </tr>\n",
       "    <tr>\n",
       "      <th>min</th>\n",
       "      <td>0.010000</td>\n",
       "      <td>-74.968140</td>\n",
       "      <td>39.449402</td>\n",
       "      <td>-74.960022</td>\n",
       "      <td>39.449402</td>\n",
       "      <td>1.000000</td>\n",
       "      <td>0.000000</td>\n",
       "      <td>0.000000</td>\n",
       "      <td>0.000000</td>\n",
       "    </tr>\n",
       "    <tr>\n",
       "      <th>25%</th>\n",
       "      <td>6.000000</td>\n",
       "      <td>-73.992317</td>\n",
       "      <td>40.736938</td>\n",
       "      <td>-73.991508</td>\n",
       "      <td>40.736069</td>\n",
       "      <td>1.000000</td>\n",
       "      <td>0.776348</td>\n",
       "      <td>0.880396</td>\n",
       "      <td>0.016304</td>\n",
       "    </tr>\n",
       "    <tr>\n",
       "      <th>50%</th>\n",
       "      <td>8.500000</td>\n",
       "      <td>-73.982117</td>\n",
       "      <td>40.753662</td>\n",
       "      <td>-73.980598</td>\n",
       "      <td>40.754074</td>\n",
       "      <td>1.000000</td>\n",
       "      <td>1.325815</td>\n",
       "      <td>1.492152</td>\n",
       "      <td>0.027882</td>\n",
       "    </tr>\n",
       "    <tr>\n",
       "      <th>75%</th>\n",
       "      <td>12.500000</td>\n",
       "      <td>-73.968651</td>\n",
       "      <td>40.767632</td>\n",
       "      <td>-73.965515</td>\n",
       "      <td>40.768444</td>\n",
       "      <td>2.000000</td>\n",
       "      <td>2.379210</td>\n",
       "      <td>2.614583</td>\n",
       "      <td>0.049703</td>\n",
       "    </tr>\n",
       "    <tr>\n",
       "      <th>max</th>\n",
       "      <td>50.000000</td>\n",
       "      <td>-72.702873</td>\n",
       "      <td>41.800251</td>\n",
       "      <td>-72.694839</td>\n",
       "      <td>41.923820</td>\n",
       "      <td>6.000000</td>\n",
       "      <td>60.052727</td>\n",
       "      <td>59.974251</td>\n",
       "      <td>1.049328</td>\n",
       "    </tr>\n",
       "  </tbody>\n",
       "</table>\n",
       "</div>"
      ],
      "text/plain": [
       "         fare_amount  pickup_longitude  pickup_latitude  dropoff_longitude  \\\n",
       "count  300000.000000     300000.000000    300000.000000      300000.000000   \n",
       "mean       10.714894        -73.976303        40.751472         -73.974617   \n",
       "std         7.738379          0.035167         0.029479           0.035101   \n",
       "min         0.010000        -74.968140        39.449402         -74.960022   \n",
       "25%         6.000000        -73.992317        40.736938         -73.991508   \n",
       "50%         8.500000        -73.982117        40.753662         -73.980598   \n",
       "75%        12.500000        -73.968651        40.767632         -73.965515   \n",
       "max        50.000000        -72.702873        41.800251         -72.694839   \n",
       "\n",
       "       dropoff_latitude  passenger_count    distance_sp  distance_eucle  \\\n",
       "count     300000.000000    300000.000000  300000.000000   300000.000000   \n",
       "mean          40.751759         1.690723       1.951299        2.210012   \n",
       "std            0.033186         1.307768       1.949647        2.299893   \n",
       "min           39.449402         1.000000       0.000000        0.000000   \n",
       "25%           40.736069         1.000000       0.776348        0.880396   \n",
       "50%           40.754074         1.000000       1.325815        1.492152   \n",
       "75%           40.768444         2.000000       2.379210        2.614583   \n",
       "max           41.923820         6.000000      60.052727       59.974251   \n",
       "\n",
       "       distance_manh  \n",
       "count  300000.000000  \n",
       "mean        0.041353  \n",
       "std         0.043002  \n",
       "min         0.000000  \n",
       "25%         0.016304  \n",
       "50%         0.027882  \n",
       "75%         0.049703  \n",
       "max         1.049328  "
      ]
     },
     "execution_count": 29,
     "metadata": {
      "tags": []
     },
     "output_type": "execute_result"
    }
   ],
   "source": [
    "#ana\n",
    "train_df_small.describe()"
   ]
  },
  {
   "cell_type": "code",
   "execution_count": 56,
   "metadata": {
    "colab": {
     "base_uri": "https://localhost:8080/",
     "height": 187
    },
    "colab_type": "code",
    "id": "jvA2JWnOcieA",
    "outputId": "cfce703f-78b5-4263-91eb-86c9d6617779"
   },
   "outputs": [
    {
     "data": {
      "text/plain": [
       "fare_amount          666\n",
       "pickup_datetime      666\n",
       "pickup_longitude     666\n",
       "pickup_latitude      666\n",
       "dropoff_longitude    666\n",
       "dropoff_latitude     666\n",
       "passenger_count      666\n",
       "distance_sp          666\n",
       "distance_eucle       666\n",
       "dtype: int64"
      ]
     },
     "execution_count": 56,
     "metadata": {
      "tags": []
     },
     "output_type": "execute_result"
    }
   ],
   "source": [
    "#ana\n",
    "train_df_small[train_df_small[\"fare_amount\"]>60].count()"
   ]
  },
  {
   "cell_type": "code",
   "execution_count": 0,
   "metadata": {
    "colab": {},
    "colab_type": "code",
    "id": "cVmH-EgScHeq"
   },
   "outputs": [],
   "source": [
    "#2 and 3"
   ]
  },
  {
   "cell_type": "code",
   "execution_count": 22,
   "metadata": {
    "colab": {
     "base_uri": "https://localhost:8080/",
     "height": 34
    },
    "colab_type": "code",
    "id": "MhepxiKnWnWO",
    "outputId": "c3334049-a81b-44e6-8856-709eb7c6eba5"
   },
   "outputs": [
    {
     "data": {
      "text/plain": [
       "(0.87588155, 0.0)"
      ]
     },
     "execution_count": 22,
     "metadata": {
      "tags": []
     },
     "output_type": "execute_result"
    }
   ],
   "source": [
    "#Eucledian distance vs fare amount\n",
    "p_coef = sc.stats.pearsonr(train_df[\"distance_eucle\"].values,train_df[\"fare_amount\"].values)\n",
    "p_coef"
   ]
  },
  {
   "cell_type": "code",
   "execution_count": 23,
   "metadata": {
    "colab": {
     "base_uri": "https://localhost:8080/",
     "height": 364
    },
    "colab_type": "code",
    "id": "ar2gumEQZO50",
    "outputId": "44f2ac3f-a779-4d14-d65d-4d2bca21fcde"
   },
   "outputs": [
    {
     "data": {
      "text/plain": [
       "<matplotlib.collections.PathCollection at 0x7f76ef75f3c8>"
      ]
     },
     "execution_count": 23,
     "metadata": {
      "tags": []
     },
     "output_type": "execute_result"
    },
    {
     "data": {
      "image/png": "[encoded data removed]",
      "text/plain": [
       "<matplotlib.figure.Figure at 0x7f76ef7ce470>"
      ]
     },
     "metadata": {
      "tags": []
     },
     "output_type": "display_data"
    }
   ],
   "source": [
    "plt.scatter(train_df_small[\"fare_amount\"].values, train_df_small[\"distance_eucle\"].values )"
   ]
  },
  {
   "cell_type": "markdown",
   "metadata": {
    "colab_type": "text",
    "id": "719X9WDggWCt"
   },
   "source": [
    "From this we can observe though pearson coeffiecnt is quite high that there are still few outliers in our data for example for eucldian distance of 60 fare is less than 10 and for in many cases eucldian distance of 10 fare is 50, so though it shows some strong relationship eucledian distance is not a great parameter. One thing I will try to dind out is as NYC has grid road system we should only find out distance between lattitude and logitude and not the eucledian distance."
   ]
  },
  {
   "cell_type": "code",
   "execution_count": 31,
   "metadata": {
    "colab": {
     "base_uri": "https://localhost:8080/",
     "height": 34
    },
    "colab_type": "code",
    "id": "t8fUePA9gN4y",
    "outputId": "285258d4-e035-4d3f-a979-b5f37d853fbd"
   },
   "outputs": [
    {
     "data": {
      "text/plain": [
       "(0.8584743, 0.0)"
      ]
     },
     "execution_count": 31,
     "metadata": {
      "tags": []
     },
     "output_type": "execute_result"
    }
   ],
   "source": [
    "#Manhattan Distance to fare_amount\n",
    "p_coef = sc.stats.pearsonr(train_df[\"distance_manh\"].values,train_df[\"fare_amount\"].values)\n",
    "p_coef"
   ]
  },
  {
   "cell_type": "code",
   "execution_count": 32,
   "metadata": {
    "colab": {
     "base_uri": "https://localhost:8080/",
     "height": 364
    },
    "colab_type": "code",
    "id": "jhqvVTKkjOnx",
    "outputId": "b2563680-04b5-48eb-b82d-612ba5643a37"
   },
   "outputs": [
    {
     "data": {
      "text/plain": [
       "<matplotlib.collections.PathCollection at 0x7f76ecd257b8>"
      ]
     },
     "execution_count": 32,
     "metadata": {
      "tags": []
     },
     "output_type": "execute_result"
    },
    {
     "data": {
      "image/png": "[encoded data removed]",
      "text/plain": [
       "<matplotlib.figure.Figure at 0x7f76ecee3dd8>"
      ]
     },
     "metadata": {
      "tags": []
     },
     "output_type": "display_data"
    }
   ],
   "source": [
    "plt.scatter(train_df_small[\"fare_amount\"].values, train_df_small[\"distance_manh\"].values )"
   ]
  },
  {
   "cell_type": "markdown",
   "metadata": {
    "colab_type": "text",
    "id": "eVtGks91jaBe"
   },
   "source": [
    "This at least shows some similarity but somehow pearson coefficent is less! moving on I hust realised why manhattan distance is called Manhattan Distance."
   ]
  },
  {
   "cell_type": "code",
   "execution_count": 37,
   "metadata": {
    "colab": {
     "base_uri": "https://localhost:8080/",
     "height": 34
    },
    "colab_type": "code",
    "id": "3Siak22nWtkF",
    "outputId": "9b23c165-6651-435a-ee2b-f0226570059f"
   },
   "outputs": [
    {
     "data": {
      "text/plain": [
       "(0.8684897, 0.0)"
      ]
     },
     "execution_count": 37,
     "metadata": {
      "tags": []
     },
     "output_type": "execute_result"
    }
   ],
   "source": [
    "#Spherical distance vs fare amount\n",
    "p_coef = sc.stats.pearsonr(train_df[\"distance_sp\"].values,train_df[\"fare_amount\"].values)\n",
    "p_coef"
   ]
  },
  {
   "cell_type": "code",
   "execution_count": 42,
   "metadata": {
    "colab": {
     "base_uri": "https://localhost:8080/",
     "height": 34
    },
    "colab_type": "code",
    "id": "QhCUugzGUK-i",
    "outputId": "394e007d-6d0f-42bb-cc64-fca8471288ac"
   },
   "outputs": [
    {
     "data": {
      "text/plain": [
       "(-0.017511104531376453, 0.0)"
      ]
     },
     "execution_count": 42,
     "metadata": {
      "tags": []
     },
     "output_type": "execute_result"
    }
   ],
   "source": [
    "#time of day vs taxi fare\n",
    "p_coef = sc.stats.pearsonr(train_df[\"pickup_datetime\"].dt.hour.values,train_df[\"fare_amount\"].values)\n",
    "p_coef"
   ]
  },
  {
   "cell_type": "code",
   "execution_count": 36,
   "metadata": {
    "colab": {
     "base_uri": "https://localhost:8080/",
     "height": 418
    },
    "colab_type": "code",
    "id": "ESy5GMukjuZy",
    "outputId": "297fd64f-0dbc-449e-fcb8-9a03dded1ae7"
   },
   "outputs": [
    {
     "name": "stderr",
     "output_type": "stream",
     "text": [
      "/usr/local/lib/python3.6/dist-packages/seaborn/categorical.py:1428: FutureWarning: remove_na is deprecated and is a private function. Do not use.\n",
      "  stat_data = remove_na(group_data)\n"
     ]
    },
    {
     "data": {
      "text/plain": [
       "<matplotlib.axes._subplots.AxesSubplot at 0x7f76ecba3a58>"
      ]
     },
     "execution_count": 36,
     "metadata": {
      "tags": []
     },
     "output_type": "execute_result"
    },
    {
     "data": {
      "image/png": "[encoded data removed]",
      "text/plain": [
       "<matplotlib.figure.Figure at 0x7f76ecbdf320>"
      ]
     },
     "metadata": {
      "tags": []
     },
     "output_type": "display_data"
    }
   ],
   "source": [
    "sns.barplot(x=train_df_small[\"pickup_datetime\"].dt.hour.values,y=train_df_small[\"fare_amount\"].values)"
   ]
  },
  {
   "cell_type": "code",
   "execution_count": 41,
   "metadata": {
    "colab": {
     "base_uri": "https://localhost:8080/",
     "height": 34
    },
    "colab_type": "code",
    "id": "Psm4BCo0VKv4",
    "outputId": "8a22cefe-c0b9-4a5e-bdab-0e6e89b73d70"
   },
   "outputs": [
    {
     "data": {
      "text/plain": [
       "(-0.02661902126030445, 0.0)"
      ]
     },
     "execution_count": 41,
     "metadata": {
      "tags": []
     },
     "output_type": "execute_result"
    }
   ],
   "source": [
    "#pickup datetime vs distance\n",
    "p_coef1 = sc.stats.pearsonr(train_df[\"pickup_datetime\"].dt.hour.values,train_df[\"distance_eucle\"].values)\n",
    "p_coef1"
   ]
  },
  {
   "cell_type": "code",
   "execution_count": 40,
   "metadata": {
    "colab": {
     "base_uri": "https://localhost:8080/",
     "height": 418
    },
    "colab_type": "code",
    "id": "DA46LImDkbeu",
    "outputId": "cb89da1a-6800-4ece-cf34-e3097c891eb6"
   },
   "outputs": [
    {
     "name": "stderr",
     "output_type": "stream",
     "text": [
      "/usr/local/lib/python3.6/dist-packages/seaborn/categorical.py:1428: FutureWarning: remove_na is deprecated and is a private function. Do not use.\n",
      "  stat_data = remove_na(group_data)\n"
     ]
    },
    {
     "data": {
      "text/plain": [
       "<matplotlib.axes._subplots.AxesSubplot at 0x7f76ecaa60f0>"
      ]
     },
     "execution_count": 40,
     "metadata": {
      "tags": []
     },
     "output_type": "execute_result"
    },
    {
     "data": {
      "image/png": "[encoded data removed]",
      "text/plain": [
       "<matplotlib.figure.Figure at 0x7f76eca51a90>"
      ]
     },
     "metadata": {
      "tags": []
     },
     "output_type": "display_data"
    }
   ],
   "source": [
    "sns.barplot(x=train_df_small[\"pickup_datetime\"].dt.hour.values,y=train_df_small[\"distance_eucle\"].values)"
   ]
  },
  {
   "cell_type": "code",
   "execution_count": 59,
   "metadata": {
    "colab": {
     "base_uri": "https://localhost:8080/",
     "height": 364
    },
    "colab_type": "code",
    "id": "697pWvDkSvzJ",
    "outputId": "491452d6-3535-4c93-f225-7249df4095da"
   },
   "outputs": [
    {
     "data": {
      "text/plain": [
       "<matplotlib.axes._subplots.AxesSubplot at 0x7fafec6a6080>"
      ]
     },
     "execution_count": 59,
     "metadata": {
      "tags": []
     },
     "output_type": "execute_result"
    },
    {
     "data": {
      "image/png": "[encoded data removed]",
      "text/plain": [
       "<matplotlib.figure.Figure at 0x7fafeca50d68>"
      ]
     },
     "metadata": {
      "tags": []
     },
     "output_type": "display_data"
    }
   ],
   "source": [
    "day_impact = train_df.pivot_table(index='day', values='fare_amount')\n",
    "sns.heatmap(data = day_impact)"
   ]
  },
  {
   "cell_type": "markdown",
   "metadata": {
    "colab_type": "text",
    "id": "UGFI_uKJU8iV"
   },
   "source": [
    "**Transforming Test Data**"
   ]
  },
  {
   "cell_type": "code",
   "execution_count": 0,
   "metadata": {
    "colab": {},
    "colab_type": "code",
    "id": "mDerYp89VKsx"
   },
   "outputs": [],
   "source": []
  },
  {
   "cell_type": "code",
   "execution_count": 0,
   "metadata": {
    "colab": {},
    "colab_type": "code",
    "id": "mZTzMp22WDfn"
   },
   "outputs": [],
   "source": [
    "test_df = pd.read_csv(\"/content/gdrive/My Drive/datasets/test.csv\")"
   ]
  },
  {
   "cell_type": "code",
   "execution_count": 0,
   "metadata": {
    "colab": {},
    "colab_type": "code",
    "id": "DSpsYWwJplZT"
   },
   "outputs": [],
   "source": [
    "test_df['pickup_datetime'] = pd.to_datetime(test_df['pickup_datetime'])"
   ]
  },
  {
   "cell_type": "code",
   "execution_count": 0,
   "metadata": {
    "colab": {},
    "colab_type": "code",
    "id": "IkS-rV5uPqDs"
   },
   "outputs": [],
   "source": [
    "test_df['year'] = test_df['pickup_datetime'].dt.year\n",
    "test_df[\"hour\"] = pd.Series(test_df[\"pickup_datetime\"].dt.hour.values,index = test_df.index)\n",
    "test_df['day'] = test_df['pickup_datetime'].dt.weekday"
   ]
  },
  {
   "cell_type": "code",
   "execution_count": 0,
   "metadata": {
    "colab": {},
    "colab_type": "code",
    "id": "7GGxcCu8J7jF"
   },
   "outputs": [],
   "source": [
    "test_df[\"cp\"] = distanceE(test_df['pickup_latitude'].values,test_df['pickup_longitude'].values,nyc1[0],nyc1[1])\n",
    "test_df[\"ps\"] = distanceE(test_df['pickup_latitude'].values,test_df['pickup_longitude'].values,nyc2[0],nyc2[1])\n",
    "test_df[\"gc\"] = distanceE(test_df['pickup_latitude'].values,test_df['pickup_longitude'].values,nyc3[0],nyc3[1])\n",
    "test_df[\"lg\"] = distanceE(test_df['pickup_latitude'].values,test_df['pickup_longitude'].values,nyc4[0],nyc4[1])\n",
    "test_df[\"jf\"] = distanceE(test_df['pickup_latitude'].values,test_df['pickup_longitude'].values,nyc5[0],nyc5[1])\n",
    "test_df[\"nw\"] = distanceE(test_df['pickup_latitude'].values,test_df['pickup_longitude'].values,nyc6[0],nyc6[1])\n",
    "test_df[\"cp1\"] = distanceE(test_df['dropoff_latitude'].values,test_df['dropoff_longitude'].values,nyc1[0],nyc1[1])\n",
    "test_df[\"ps1\"] = distanceE(test_df['dropoff_latitude'].values,test_df['dropoff_longitude'].values,nyc2[0],nyc2[1])\n",
    "test_df[\"gc1\"] = distanceE(test_df['dropoff_latitude'].values,test_df['dropoff_longitude'].values,nyc3[0],nyc3[1])\n",
    "test_df[\"lg1\"] = distanceE(test_df['dropoff_latitude'].values,test_df['dropoff_longitude'].values,nyc4[0],nyc4[1])\n",
    "test_df[\"jf1\"] = distanceE(test_df['dropoff_latitude'].values,test_df['dropoff_longitude'].values,nyc5[0],nyc5[1])\n",
    "test_df[\"nw1\"] = distanceE(test_df['dropoff_latitude'].values,test_df['dropoff_longitude'].values,nyc6[0],nyc6[1])"
   ]
  },
  {
   "cell_type": "code",
   "execution_count": 0,
   "metadata": {
    "colab": {},
    "colab_type": "code",
    "id": "yb-2B0vJqCsl"
   },
   "outputs": [],
   "source": [
    "dist2 = distanceM(test_df['pickup_latitude'].values,test_df['pickup_longitude'].values,test_df['dropoff_latitude'].values,test_df['dropoff_longitude'].values)\n",
    "dist2 = pd.Series(dist2,index = test_df.index)\n",
    "test_df['distance_manh'] = dist2"
   ]
  },
  {
   "cell_type": "code",
   "execution_count": 0,
   "metadata": {
    "colab": {},
    "colab_type": "code",
    "id": "kG9Gr5h2qCpe"
   },
   "outputs": [],
   "source": [
    "dist1 = distanceE(test_df['pickup_latitude'].values,test_df['pickup_longitude'].values,test_df['dropoff_latitude'].values,test_df['dropoff_longitude'].values)\n",
    "dist1 = pd.Series(dist1,index = test_df.index)\n",
    "test_df['distance_eucle'] = dist1"
   ]
  },
  {
   "cell_type": "code",
   "execution_count": 62,
   "metadata": {
    "colab": {
     "base_uri": "https://localhost:8080/",
     "height": 238
    },
    "colab_type": "code",
    "id": "e7AJpm47VLbi",
    "outputId": "1f174443-9c19-47b4-9baf-f11af148e623"
   },
   "outputs": [
    {
     "data": {
      "text/plain": [
       "key                          object\n",
       "pickup_datetime      datetime64[ns]\n",
       "pickup_longitude            float64\n",
       "pickup_latitude             float64\n",
       "dropoff_longitude           float64\n",
       "dropoff_latitude            float64\n",
       "passenger_count               int64\n",
       "year                          int64\n",
       "hour                          int64\n",
       "day                           int64\n",
       "distance_eucle              float64\n",
       "distance_manh               float64\n",
       "dtype: object"
      ]
     },
     "execution_count": 62,
     "metadata": {
      "tags": []
     },
     "output_type": "execute_result"
    }
   ],
   "source": [
    "test_df.dtypes"
   ]
  },
  {
   "cell_type": "markdown",
   "metadata": {
    "colab_type": "text",
    "id": "y4b1LlzHVFPy"
   },
   "source": [
    "# Machine Learning Section"
   ]
  },
  {
   "cell_type": "markdown",
   "metadata": {
    "colab_type": "text",
    "id": "mlkkZ_qoV-Og"
   },
   "source": [
    "**Linear Regression**"
   ]
  },
  {
   "cell_type": "code",
   "execution_count": 0,
   "metadata": {
    "colab": {},
    "colab_type": "code",
    "id": "nUwIIzI7FHvy"
   },
   "outputs": [],
   "source": [
    "from sklearn.linear_model import LinearRegression\n",
    "from sklearn.model_selection import train_test_split\n",
    "from sklearn.metrics import mean_squared_error\n",
    "from sklearn.preprocessing import MinMaxScaler\n",
    "from sklearn.ensemble import RandomForestRegressor\n",
    "from xgboost import XGBRegressor\n"
   ]
  },
  {
   "cell_type": "code",
   "execution_count": 0,
   "metadata": {
    "colab": {},
    "colab_type": "code",
    "id": "ys0rSap4UIdF"
   },
   "outputs": [],
   "source": [
    "model=LinearRegression()\n"
   ]
  },
  {
   "cell_type": "code",
   "execution_count": 0,
   "metadata": {
    "colab": {},
    "colab_type": "code",
    "id": "vygfZlJjXBsD"
   },
   "outputs": [],
   "source": [
    "param = ['distance_eucle','distance_manh','day','hour','year']"
   ]
  },
  {
   "cell_type": "code",
   "execution_count": 0,
   "metadata": {
    "colab": {},
    "colab_type": "code",
    "id": "SrGCasyQFcAc"
   },
   "outputs": [],
   "source": [
    "X_train, X_valid, y_train, y_valid = train_test_split(train_df[param], train_df['fare_amount'],test_size=0.2)\n",
    "                                                     \n"
   ]
  },
  {
   "cell_type": "code",
   "execution_count": 0,
   "metadata": {
    "colab": {},
    "colab_type": "code",
    "id": "G98Gq12tUUxd"
   },
   "outputs": [],
   "source": [
    "model.fit(X_train,y_train)"
   ]
  },
  {
   "cell_type": "code",
   "execution_count": 0,
   "metadata": {
    "colab": {},
    "colab_type": "code",
    "id": "E2FTp2FHWNNz"
   },
   "outputs": [],
   "source": [
    "val_pred = model.predict(X_valid)"
   ]
  },
  {
   "cell_type": "code",
   "execution_count": 0,
   "metadata": {
    "colab": {},
    "colab_type": "code",
    "id": "6C51XGfNURyE"
   },
   "outputs": [],
   "source": [
    "loss = np.sqrt(mean_squared_error(y_valid,val_pred))\n",
    "loss"
   ]
  },
  {
   "cell_type": "code",
   "execution_count": 0,
   "metadata": {
    "colab": {},
    "colab_type": "code",
    "id": "5oTSn77-PzKn"
   },
   "outputs": [],
   "source": [
    "importances = model.coef_\n",
    "importances"
   ]
  },
  {
   "cell_type": "code",
   "execution_count": 0,
   "metadata": {
    "colab": {},
    "colab_type": "code",
    "id": "EHj9ggY1WDZk"
   },
   "outputs": [],
   "source": [
    "pred = model.predict(test_df[param])"
   ]
  },
  {
   "cell_type": "code",
   "execution_count": 0,
   "metadata": {
    "colab": {},
    "colab_type": "code",
    "id": "ALMw3ypXUfQB"
   },
   "outputs": [],
   "source": []
  },
  {
   "cell_type": "code",
   "execution_count": 0,
   "metadata": {
    "colab": {},
    "colab_type": "code",
    "id": "lp1DihxxUk6p"
   },
   "outputs": [],
   "source": [
    "param = ['hour','distance_eucle','year','day','distance_manh']"
   ]
  },
  {
   "cell_type": "markdown",
   "metadata": {
    "colab_type": "text",
    "id": "6xPuB4O2Wnbi"
   },
   "source": [
    "1072 5.24"
   ]
  },
  {
   "cell_type": "markdown",
   "metadata": {
    "colab_type": "text",
    "id": "LA2ZTLONT3yY"
   },
   "source": [
    "**Random Forest**"
   ]
  },
  {
   "cell_type": "code",
   "execution_count": 0,
   "metadata": {
    "colab": {},
    "colab_type": "code",
    "id": "V4_9QejDT2Tq"
   },
   "outputs": [],
   "source": [
    "rand_forest_regressor = RandomForestRegressor()\n"
   ]
  },
  {
   "cell_type": "code",
   "execution_count": 0,
   "metadata": {
    "colab": {},
    "colab_type": "code",
    "id": "bi6DkmIMT2OP"
   },
   "outputs": [],
   "source": [
    "rand_forest_regressor.fit(X_train, y_train)"
   ]
  },
  {
   "cell_type": "code",
   "execution_count": 0,
   "metadata": {
    "colab": {},
    "colab_type": "code",
    "id": "2C8z-9eHT2LW"
   },
   "outputs": [],
   "source": [
    "val_pred = random_forest_regressor.predict(X_valid)"
   ]
  },
  {
   "cell_type": "code",
   "execution_count": 0,
   "metadata": {
    "colab": {},
    "colab_type": "code",
    "id": "5DwD1tHiXuHB"
   },
   "outputs": [],
   "source": [
    "loss = np.sqrt(mean_squared_error(y_valid,val_pred))\n",
    "loss"
   ]
  },
  {
   "cell_type": "code",
   "execution_count": 0,
   "metadata": {
    "colab": {},
    "colab_type": "code",
    "id": "9LworUWZXwfa"
   },
   "outputs": [],
   "source": []
  },
  {
   "cell_type": "markdown",
   "metadata": {
    "colab_type": "text",
    "id": "czDQcP0HX-vg"
   },
   "source": [
    "**XGB boost**"
   ]
  },
  {
   "cell_type": "code",
   "execution_count": 0,
   "metadata": {
    "colab": {},
    "colab_type": "code",
    "id": "s29qhQg6YJ8L"
   },
   "outputs": [],
   "source": [
    "XGB_model = XGBRegressor(learning_rate=0.3, max_depth=6, n_estimators=500)\n",
    "XGB_model.fit(X_train, y_train)\n",
    "y_XGB_predict = XGB_model.predict(X_test)\n",
    "loss = np.sqrt(mean_squared_error(y_valid,y_XGB_predict))\n",
    "loss\n"
   ]
  },
  {
   "cell_type": "markdown",
   "metadata": {
    "colab_type": "text",
    "id": "Ym8UDRRkWX08"
   },
   "source": [
    "# Convert to CSV"
   ]
  },
  {
   "cell_type": "code",
   "execution_count": 0,
   "metadata": {
    "colab": {},
    "colab_type": "code",
    "id": "dR8nT-7EsPWe"
   },
   "outputs": [],
   "source": [
    "sub = pd.DataFrame()"
   ]
  },
  {
   "cell_type": "code",
   "execution_count": 0,
   "metadata": {
    "colab": {},
    "colab_type": "code",
    "id": "C_vdxzB9RSbn"
   },
   "outputs": [],
   "source": [
    "sub['key'] = test_df['key']"
   ]
  },
  {
   "cell_type": "code",
   "execution_count": 0,
   "metadata": {
    "colab": {},
    "colab_type": "code",
    "id": "tZW5cPuYRX_8"
   },
   "outputs": [],
   "source": [
    "sub['fare_amount'] = pred"
   ]
  },
  {
   "cell_type": "code",
   "execution_count": 55,
   "metadata": {
    "colab": {
     "base_uri": "https://localhost:8080/",
     "height": 204
    },
    "colab_type": "code",
    "id": "RdMWa89dRej0",
    "outputId": "d3f504a0-f361-4911-a0c3-2c3728b7f696"
   },
   "outputs": [
    {
     "data": {
      "text/html": [
       "<div>\n",
       "<style scoped>\n",
       "    .dataframe tbody tr th:only-of-type {\n",
       "        vertical-align: middle;\n",
       "    }\n",
       "\n",
       "    .dataframe tbody tr th {\n",
       "        vertical-align: top;\n",
       "    }\n",
       "\n",
       "    .dataframe thead th {\n",
       "        text-align: right;\n",
       "    }\n",
       "</style>\n",
       "<table border=\"1\" class=\"dataframe\">\n",
       "  <thead>\n",
       "    <tr style=\"text-align: right;\">\n",
       "      <th></th>\n",
       "      <th>key</th>\n",
       "      <th>fare_amount</th>\n",
       "    </tr>\n",
       "  </thead>\n",
       "  <tbody>\n",
       "    <tr>\n",
       "      <th>9909</th>\n",
       "      <td>2015-05-10 12:37:51.0000002</td>\n",
       "      <td>9.477259</td>\n",
       "    </tr>\n",
       "    <tr>\n",
       "      <th>9910</th>\n",
       "      <td>2015-01-12 17:05:51.0000001</td>\n",
       "      <td>11.844451</td>\n",
       "    </tr>\n",
       "    <tr>\n",
       "      <th>9911</th>\n",
       "      <td>2015-04-19 20:44:15.0000001</td>\n",
       "      <td>49.370930</td>\n",
       "    </tr>\n",
       "    <tr>\n",
       "      <th>9912</th>\n",
       "      <td>2015-01-31 01:05:19.0000005</td>\n",
       "      <td>20.862108</td>\n",
       "    </tr>\n",
       "    <tr>\n",
       "      <th>9913</th>\n",
       "      <td>2015-01-18 14:06:23.0000006</td>\n",
       "      <td>8.219004</td>\n",
       "    </tr>\n",
       "  </tbody>\n",
       "</table>\n",
       "</div>"
      ],
      "text/plain": [
       "                              key  fare_amount\n",
       "9909  2015-05-10 12:37:51.0000002     9.477259\n",
       "9910  2015-01-12 17:05:51.0000001    11.844451\n",
       "9911  2015-04-19 20:44:15.0000001    49.370930\n",
       "9912  2015-01-31 01:05:19.0000005    20.862108\n",
       "9913  2015-01-18 14:06:23.0000006     8.219004"
      ]
     },
     "execution_count": 55,
     "metadata": {
      "tags": []
     },
     "output_type": "execute_result"
    }
   ],
   "source": [
    "sub.tail()"
   ]
  },
  {
   "cell_type": "code",
   "execution_count": 0,
   "metadata": {
    "colab": {},
    "colab_type": "code",
    "id": "nMI2BsHlw8b4"
   },
   "outputs": [],
   "source": []
  }
 ],
 "metadata": {
  "accelerator": "GPU",
  "colab": {
   "collapsed_sections": [],
   "name": "Untitled0.ipynb",
   "provenance": [],
   "toc_visible": true,
   "version": "0.3.2"
  },
  "kernelspec": {
   "display_name": "Python 3",
   "language": "python",
   "name": "python3"
  },
  "language_info": {
   "codemirror_mode": {
    "name": "ipython",
    "version": 3
   },
   "file_extension": ".py",
   "mimetype": "text/x-python",
   "name": "python",
   "nbconvert_exporter": "python",
   "pygments_lexer": "ipython3",
   "version": "3.5.2"
  }
 },
 "nbformat": 4,
 "nbformat_minor": 1
}

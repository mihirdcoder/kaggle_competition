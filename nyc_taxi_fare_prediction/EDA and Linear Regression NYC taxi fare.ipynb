{
 "cells": [
  {
   "cell_type": "code",
   "execution_count": 1,
   "metadata": {
    "colab": {
     "base_uri": "https://localhost:8080/",
     "height": 34
    },
    "colab_type": "code",
    "id": "taHmbiTJQezf",
    "outputId": "96a2df5f-eaa3-4b16-e743-70ce715861a3"
   },
   "outputs": [
    {
     "name": "stdout",
     "output_type": "stream",
     "text": [
      "Mounted at /content/gdrive\n"
     ]
    }
   ],
   "source": [
    "from google.colab import drive\n",
    "drive.mount('/content/gdrive')"
   ]
  },
  {
   "cell_type": "code",
   "execution_count": 0,
   "metadata": {
    "colab": {},
    "colab_type": "code",
    "id": "telNLn68u4wJ"
   },
   "outputs": [],
   "source": [
    "import pandas as pd\n",
    "import numpy as np\n",
    "import sklearn \n",
    "import matplotlib.pyplot as plt\n",
    "import seaborn as sns\n",
    "import math\n",
    "import scipy as sc\n",
    "import random"
   ]
  },
  {
   "cell_type": "code",
   "execution_count": 3,
   "metadata": {
    "colab": {
     "base_uri": "https://localhost:8080/",
     "height": 34
    },
    "colab_type": "code",
    "id": "ndXQEJuOQ5Qe",
    "outputId": "59ee6d0f-b325-4d4e-80e0-a7065c4f6f68"
   },
   "outputs": [
    {
     "name": "stdout",
     "output_type": "stream",
     "text": [
      "test.csv  train.feather\n"
     ]
    }
   ],
   "source": [
    "!ls \"/content/gdrive/My Drive/datasets\""
   ]
  },
  {
   "cell_type": "code",
   "execution_count": 5,
   "metadata": {
    "colab": {
     "base_uri": "https://localhost:8080/",
     "height": 258
    },
    "colab_type": "code",
    "id": "ZIocAhV5RLe_",
    "outputId": "406b54d0-f4c2-4309-e648-7cdf8b5701d8"
   },
   "outputs": [
    {
     "name": "stdout",
     "output_type": "stream",
     "text": [
      "Collecting feather-format\n",
      "  Downloading https://files.pythonhosted.org/packages/08/55/940b97cc6f19a19f5dab9efef2f68a0ce43a7632f858b272391f0b851a7e/feather-format-0.4.0.tar.gz\n",
      "Collecting pyarrow>=0.4.0 (from feather-format)\n",
      "\u001b[?25l  Downloading https://files.pythonhosted.org/packages/c9/b8/076ebd968f3c6d4e9b6e5de696f0b19964a3d4b7dc020fd32db4e868ad74/pyarrow-0.10.0-cp36-cp36m-manylinux1_x86_64.whl (11.6MB)\n",
      "\u001b[K    100% |████████████████████████████████| 11.6MB 1.9MB/s \n",
      "\u001b[?25hRequirement already satisfied: numpy>=1.10 in /usr/local/lib/python3.6/dist-packages (from pyarrow>=0.4.0->feather-format) (1.14.5)\n",
      "Requirement already satisfied: six>=1.0.0 in /usr/local/lib/python3.6/dist-packages (from pyarrow>=0.4.0->feather-format) (1.11.0)\n",
      "Building wheels for collected packages: feather-format\n",
      "  Running setup.py bdist_wheel for feather-format ... \u001b[?25l-\b \b\\\b \bdone\n",
      "\u001b[?25h  Stored in directory: /root/.cache/pip/wheels/85/7d/12/2dfa5c0195f921ac935f5e8f27deada74972edc0ae9988a9c1\n",
      "Successfully built feather-format\n",
      "Installing collected packages: pyarrow, feather-format\n",
      "Successfully installed feather-format-0.4.0 pyarrow-0.10.0\n"
     ]
    }
   ],
   "source": [
    "!pip install feather-format"
   ]
  },
  {
   "cell_type": "code",
   "execution_count": 3,
   "metadata": {
    "colab": {
     "base_uri": "https://localhost:8080/",
     "height": 71
    },
    "colab_type": "code",
    "id": "gnuLhs0WRRsx",
    "outputId": "440761ff-52e5-4781-bc2d-f8d00f6a8929"
   },
   "outputs": [
    {
     "name": "stderr",
     "output_type": "stream",
     "text": [
      "/usr/local/lib/python3.6/dist-packages/pandas/io/feather_format.py:112: FutureWarning: `nthreads` argument is deprecated, pass `use_threads` instead\n",
      "  return feather.read_dataframe(path, nthreads=nthreads)\n"
     ]
    }
   ],
   "source": [
    "train_df1 = pd.read_feather(\"/content/gdrive/My Drive/datasets/train.feather\")"
   ]
  },
  {
   "cell_type": "markdown",
   "metadata": {
    "colab_type": "text",
    "id": "vGHNIJm4b53W"
   },
   "source": [
    "# Data Preprocessing Section and Feature Engineering"
   ]
  },
  {
   "cell_type": "code",
   "execution_count": 0,
   "metadata": {
    "colab": {},
    "colab_type": "code",
    "id": "U2jXs0-kbpsU"
   },
   "outputs": [],
   "source": [
    "train_df = train_df1.sample(frac = 0.05)"
   ]
  },
  {
   "cell_type": "code",
   "execution_count": 5,
   "metadata": {
    "colab": {
     "base_uri": "https://localhost:8080/",
     "height": 34
    },
    "colab_type": "code",
    "id": "7zGOA41hS3MD",
    "outputId": "23a2d16b-4e6c-4a22-9861-f62998147d60"
   },
   "outputs": [
    {
     "data": {
      "text/plain": [
       "(2771193, 7)"
      ]
     },
     "execution_count": 5,
     "metadata": {
      "tags": []
     },
     "output_type": "execute_result"
    }
   ],
   "source": [
    "train_df.shape"
   ]
  },
  {
   "cell_type": "code",
   "execution_count": 0,
   "metadata": {
    "colab": {},
    "colab_type": "code",
    "id": "UtAo6BNjTBNQ"
   },
   "outputs": [],
   "source": [
    "train_df = train_df[(train_df['fare_amount']>0)]\n",
    "train_df = train_df[(train_df['fare_amount']<=50)]"
   ]
  },
  {
   "cell_type": "code",
   "execution_count": 0,
   "metadata": {
    "colab": {},
    "colab_type": "code",
    "id": "dZ8G5wKlTBIp"
   },
   "outputs": [],
   "source": [
    "#train_df = train_df[(train_df['pickup_latitude']>0)]\n",
    "train_df = train_df[(train_df['pickup_latitude']>39)] #-->111 #there are only 20 <39 and 111 greater than 4 so removing them\n",
    "train_df = train_df[(train_df['pickup_latitude']<42)]"
   ]
  },
  {
   "cell_type": "code",
   "execution_count": 0,
   "metadata": {
    "colab": {},
    "colab_type": "code",
    "id": "hyNIHhHOTBEt"
   },
   "outputs": [],
   "source": [
    "train_df = train_df[(train_df['pickup_longitude']>-75)]\n",
    "train_df = train_df[(train_df['pickup_longitude']<-72)]"
   ]
  },
  {
   "cell_type": "code",
   "execution_count": 0,
   "metadata": {
    "colab": {},
    "colab_type": "code",
    "id": "JWkM9RpbTBCP"
   },
   "outputs": [],
   "source": [
    "train_df = train_df[(train_df['dropoff_longitude']>-75)]\n",
    "train_df = train_df[(train_df['dropoff_longitude']<-72)]"
   ]
  },
  {
   "cell_type": "code",
   "execution_count": 0,
   "metadata": {
    "colab": {},
    "colab_type": "code",
    "id": "eUUtY1B2TA-K"
   },
   "outputs": [],
   "source": [
    "train_df = train_df[(train_df['dropoff_latitude']>39)] #-->111 #there are only 20 <39 and 111 greater than 4 so removing them\n",
    "train_df = train_df[(train_df['dropoff_latitude']<42)]"
   ]
  },
  {
   "cell_type": "code",
   "execution_count": 0,
   "metadata": {
    "colab": {},
    "colab_type": "code",
    "id": "hQ0Acdg6TA8K"
   },
   "outputs": [],
   "source": [
    "train_df = train_df[(train_df['passenger_count']>0)]"
   ]
  },
  {
   "cell_type": "code",
   "execution_count": 0,
   "metadata": {
    "colab": {},
    "colab_type": "code",
    "id": "f0NCdKI7Y8hi"
   },
   "outputs": [],
   "source": [
    "#Adding features based on date time parameter"
   ]
  },
  {
   "cell_type": "code",
   "execution_count": 0,
   "metadata": {
    "colab": {},
    "colab_type": "code",
    "id": "lf5a0ZzmYZRT"
   },
   "outputs": [],
   "source": [
    "train_df['pickup_datetime'] = pd.to_datetime(train_df['pickup_datetime'])"
   ]
  },
  {
   "cell_type": "code",
   "execution_count": 0,
   "metadata": {
    "colab": {},
    "colab_type": "code",
    "id": "CgRU7G6oYaVy"
   },
   "outputs": [],
   "source": [
    "train_df['year'] = train_df['pickup_datetime'].dt.year"
   ]
  },
  {
   "cell_type": "code",
   "execution_count": 0,
   "metadata": {
    "colab": {},
    "colab_type": "code",
    "id": "MvaxgRR0Yg8c"
   },
   "outputs": [],
   "source": [
    "train_df['day'] = train_df['pickup_datetime'].dt.weekday"
   ]
  },
  {
   "cell_type": "code",
   "execution_count": 0,
   "metadata": {
    "colab": {},
    "colab_type": "code",
    "id": "uW9YFXMXYrio"
   },
   "outputs": [],
   "source": [
    "\n",
    "train_df[\"hour\"] = pd.Series(train_df[\"pickup_datetime\"].dt.hour.values,index = train_df.index)"
   ]
  },
  {
   "cell_type": "code",
   "execution_count": 0,
   "metadata": {
    "colab": {},
    "colab_type": "code",
    "id": "YbK1iFiadU7B"
   },
   "outputs": [],
   "source": [
    "train_df[\"time\"] = train_df['pickup_datetime'].dt.time"
   ]
  },
  {
   "cell_type": "code",
   "execution_count": 0,
   "metadata": {
    "colab": {},
    "colab_type": "code",
    "id": "SZ3fsYjefhu1"
   },
   "outputs": [],
   "source": [
    "train_df[\"month\"] = train_df['pickup_datetime'].dt.month"
   ]
  },
  {
   "cell_type": "code",
   "execution_count": 0,
   "metadata": {
    "colab": {},
    "colab_type": "code",
    "id": "GHq-K7Qidb2y"
   },
   "outputs": [],
   "source": [
    "train_df['minutes'] = train_df['pickup_datetime'].dt.minute + 60*train_df['pickup_datetime'].dt.hour"
   ]
  },
  {
   "cell_type": "markdown",
   "metadata": {
    "colab_type": "text",
    "id": "qUmv4DaiYiaP"
   },
   "source": [
    "**Spherical, Eucledian, Manhattan distance,location based features**"
   ]
  },
  {
   "cell_type": "code",
   "execution_count": 0,
   "metadata": {
    "colab": {},
    "colab_type": "code",
    "id": "m_LvRhBGYh-3"
   },
   "outputs": [],
   "source": []
  },
  {
   "cell_type": "code",
   "execution_count": 0,
   "metadata": {
    "colab": {},
    "colab_type": "code",
    "id": "RUFuEr-xULNU"
   },
   "outputs": [],
   "source": [
    "def distanceH(pickup1,pickup2,destination1,destination2):   #spherical distance  \n",
    "    lat1, lon1 = pickup1,pickup2\n",
    "    lat2, lon2 = destination1,destination2\n",
    "    radius = 3959 # miles\n",
    "\n",
    "    dlat = np.radians(lat2-lat1)\n",
    "    dlon = np.radians(lon2-lon1)\n",
    "    a = np.sin(dlat/2) * np.sin(dlat/2) + np.cos(np.radians(lat1)) * np.cos(np.radians(lat2)) * np.sin(dlon/2) * np.sin(dlon/2)\n",
    "    c = 2 * np.arctan2(np.sqrt(a), np.sqrt(1-a))\n",
    "    d = radius * c\n",
    "    #d = pd.Series(d,index = train_df.index)\n",
    "\n",
    "    return d"
   ]
  },
  {
   "cell_type": "code",
   "execution_count": 0,
   "metadata": {
    "colab": {},
    "colab_type": "code",
    "id": "QIC2V5U7ULKM"
   },
   "outputs": [],
   "source": [
    "def distanceE(pickup1,pickup2,destination1,destination2):  #Eucledian\n",
    "    a = (destination1 - pickup1)*69\n",
    "    b = (destination2 - pickup2)*69\n",
    "    d = a**2+b**2\n",
    "    c = np.sqrt(d)\n",
    "    #c = pd.Series(c,index = train_df.index)\n",
    "    return c"
   ]
  },
  {
   "cell_type": "code",
   "execution_count": 0,
   "metadata": {
    "colab": {},
    "colab_type": "code",
    "id": "nn2E_XFuhgMo"
   },
   "outputs": [],
   "source": [
    "def distanceM(pickup1,pickup2,destination1,destination2):\n",
    "  c = np.abs((pickup1 - destination1)*69) + np.abs((pickup2 - destination2) * 69)\n",
    " # c = pd.Series(c,index = train_df.index)\n",
    "  return c\n",
    "  \n",
    "  "
   ]
  },
  {
   "cell_type": "code",
   "execution_count": 0,
   "metadata": {
    "colab": {},
    "colab_type": "code",
    "id": "1y6mxWjxULGa"
   },
   "outputs": [],
   "source": [
    "a = train_df['pickup_latitude'].values\n",
    "b = train_df['pickup_longitude'].values\n",
    "c = train_df['dropoff_latitude'].values\n",
    "d = train_df['dropoff_longitude'].values"
   ]
  },
  {
   "cell_type": "code",
   "execution_count": 0,
   "metadata": {
    "colab": {},
    "colab_type": "code",
    "id": "vYYKJ36jULEc"
   },
   "outputs": [],
   "source": [
    "dist = distanceH(train_df['pickup_latitude'].values,train_df['pickup_longitude'].values,train_df['dropoff_latitude'].values,train_df['dropoff_longitude'].values)\n",
    "dist = pd.Series(dist,index = train_df.index)\n",
    "train_df['distance_sp'] = dist"
   ]
  },
  {
   "cell_type": "code",
   "execution_count": 0,
   "metadata": {
    "colab": {},
    "colab_type": "code",
    "id": "XdUR6C8IULAd"
   },
   "outputs": [],
   "source": [
    "dist1 = distanceE(train_df['pickup_latitude'].values,train_df['pickup_longitude'].values,train_df['dropoff_latitude'].values,train_df['dropoff_longitude'].values)\n",
    "dist1 = pd.Series(dist1,index = train_df.index)\n",
    "train_df['distance_eucle'] = dist1\n"
   ]
  },
  {
   "cell_type": "code",
   "execution_count": 0,
   "metadata": {
    "colab": {},
    "colab_type": "code",
    "id": "XciV6Wv7iHZR"
   },
   "outputs": [],
   "source": [
    "dist2 = distanceM(train_df['pickup_latitude'].values,train_df['pickup_longitude'].values,train_df['dropoff_latitude'].values,train_df['dropoff_longitude'].values)\n",
    "dist2 = pd.Series(dist2,index = train_df.index)\n",
    "train_df['distance_manh'] = dist2"
   ]
  },
  {
   "cell_type": "code",
   "execution_count": 0,
   "metadata": {
    "colab": {},
    "colab_type": "code",
    "id": "lCuwS6yTbWXI"
   },
   "outputs": [],
   "source": [
    "train_df = train_df[(train_df['distance_eucle']<60)]"
   ]
  },
  {
   "cell_type": "code",
   "execution_count": 0,
   "metadata": {
    "colab": {},
    "colab_type": "code",
    "id": "uSRVnHiihMKI"
   },
   "outputs": [],
   "source": [
    "train_df[\"fare_per_mile\"] = train_df.fare_amount / train_df.distance_manh"
   ]
  },
  {
   "cell_type": "markdown",
   "metadata": {
    "colab_type": "text",
    "id": "54eP8ZPxfGHD"
   },
   "source": [
    "**Feature Engineering based on Location**\n",
    "\n",
    "Central Park: 40.785091, -73.968285\n",
    "Penn Station: 40.750580, -73.993584\n",
    "Grand central: 40.7527° ,- 73.9772\n",
    "La Gaurdia: 40.7769° ,- 73.8740\n",
    "JFK: 40.6413° , 73.7781° \n",
    "Newark Airport: 40.6895° N, 74.1745° W\n",
    "\n",
    "\n",
    "\n",
    "\n",
    "\n"
   ]
  },
  {
   "cell_type": "code",
   "execution_count": 0,
   "metadata": {
    "colab": {},
    "colab_type": "code",
    "id": "x6JwQpN2fFAu"
   },
   "outputs": [],
   "source": [
    "nyc1 = [40.785091, -73.968285]\n",
    "nyc2 = [40.750580, -73.993584]\n",
    "nyc3 = [40.7527 ,-73.9772]\n",
    "nyc4 = [0.7769 ,-73.8740]\n",
    "nyc5 = [40.6413 ,-73.7781 ]\n",
    "nyc6 = [40.6895,-74.1745]\n"
   ]
  },
  {
   "cell_type": "code",
   "execution_count": 21,
   "metadata": {
    "colab": {
     "base_uri": "https://localhost:8080/",
     "height": 129
    },
    "colab_type": "code",
    "id": "gmwb76qa1kvw",
    "outputId": "591f416f-f53a-4736-ed11-9977df4b1e64"
   },
   "outputs": [
    {
     "ename": "SyntaxError",
     "evalue": "ignored",
     "output_type": "error",
     "traceback": [
      "\u001b[0;36m  File \u001b[0;32m\"<ipython-input-21-79e39b4c8fd3>\"\u001b[0;36m, line \u001b[0;32m1\u001b[0m\n\u001b[0;31m    Central Park: 40.785091, -73.968285\u001b[0m\n\u001b[0m               ^\u001b[0m\n\u001b[0;31mSyntaxError\u001b[0m\u001b[0;31m:\u001b[0m invalid syntax\n"
     ]
    }
   ],
   "source": [
    "Central Park: 40.785091, -73.968285\n",
    "Penn Station: 40.750580, -73.993584\n",
    "Grand central: 40.7527° ,- 73.9772\n",
    "La Gaurdia: 40.7769° ,- 73.8740\n",
    "JFK: 40.6413° , 73.7781° \n",
    "Newark Airport: 40.6895° N, 74.1745° W\n"
   ]
  },
  {
   "cell_type": "code",
   "execution_count": 0,
   "metadata": {
    "colab": {},
    "colab_type": "code",
    "id": "gQIx76utdq1g"
   },
   "outputs": [],
   "source": [
    "train_df[\"cp\"] = distanceE(train_df['pickup_latitude'].values,train_df['pickup_longitude'].values,nyc1[0],nyc1[1])\n",
    "train_df[\"ps\"] = distanceE(train_df['pickup_latitude'].values,train_df['pickup_longitude'].values,nyc2[0],nyc2[1])\n",
    "train_df[\"gc\"] = distanceE(train_df['pickup_latitude'].values,train_df['pickup_longitude'].values,nyc3[0],nyc3[1])\n",
    "train_df[\"lg\"] = distanceE(train_df['pickup_latitude'].values,train_df['pickup_longitude'].values,nyc4[0],nyc4[1])\n",
    "train_df[\"jf\"] = distanceE(train_df['pickup_latitude'].values,train_df['pickup_longitude'].values,nyc5[0],nyc5[1])\n",
    "train_df[\"nw\"] = distanceE(train_df['pickup_latitude'].values,train_df['pickup_longitude'].values,nyc6[0],nyc6[1])\n",
    "train_df[\"cp1\"] = distanceE(train_df['dropoff_latitude'].values,train_df['dropoff_longitude'].values,nyc1[0],nyc1[1])\n",
    "train_df[\"ps1\"] = distanceE(train_df['dropoff_latitude'].values,train_df['dropoff_longitude'].values,nyc2[0],nyc2[1])\n",
    "train_df[\"gc1\"] = distanceE(train_df['dropoff_latitude'].values,train_df['dropoff_longitude'].values,nyc3[0],nyc3[1])\n",
    "train_df[\"lg1\"] = distanceE(train_df['dropoff_latitude'].values,train_df['dropoff_longitude'].values,nyc4[0],nyc4[1])\n",
    "train_df[\"jf1\"] = distanceE(train_df['dropoff_latitude'].values,train_df['dropoff_longitude'].values,nyc5[0],nyc5[1])\n",
    "train_df[\"nw1\"] = distanceE(train_df['dropoff_latitude'].values,train_df['dropoff_longitude'].values,nyc6[0],nyc6[1])"
   ]
  },
  {
   "cell_type": "code",
   "execution_count": 0,
   "metadata": {
    "colab": {},
    "colab_type": "code",
    "id": "OE2pnpkRuelZ"
   },
   "outputs": [],
   "source": [
    "train_df = train_df.drop(\"pickup_datetime\", axis = 1)"
   ]
  },
  {
   "cell_type": "code",
   "execution_count": 24,
   "metadata": {
    "colab": {
     "base_uri": "https://localhost:8080/",
     "height": 289
    },
    "colab_type": "code",
    "id": "CKayKRUDdqzT",
    "outputId": "975902b8-6ca9-403f-bec4-ba96250f7962"
   },
   "outputs": [
    {
     "data": {
      "text/plain": [
       "fare_amount                      float32\n",
       "pickup_datetime      datetime64[ns, UTC]\n",
       "pickup_longitude                 float32\n",
       "pickup_latitude                  float32\n",
       "dropoff_longitude                float32\n",
       "dropoff_latitude                 float32\n",
       "passenger_count                    uint8\n",
       "year                               int64\n",
       "day                                int64\n",
       "hour                               int64\n",
       "time                              object\n",
       "month                              int64\n",
       "minutes                            int64\n",
       "distance_eucle                   float32\n",
       "distance_manh                    float32\n",
       "dtype: object"
      ]
     },
     "execution_count": 24,
     "metadata": {
      "tags": []
     },
     "output_type": "execute_result"
    }
   ],
   "source": [
    "train_df.dtypes"
   ]
  },
  {
   "cell_type": "code",
   "execution_count": 27,
   "metadata": {
    "colab": {
     "base_uri": "https://localhost:8080/",
     "height": 317
    },
    "colab_type": "code",
    "id": "E7Hgs-dgfmcG",
    "outputId": "59a644b8-3120-454c-b9a9-466ccac447ca"
   },
   "outputs": [
    {
     "data": {
      "text/html": [
       "<div>\n",
       "<style scoped>\n",
       "    .dataframe tbody tr th:only-of-type {\n",
       "        vertical-align: middle;\n",
       "    }\n",
       "\n",
       "    .dataframe tbody tr th {\n",
       "        vertical-align: top;\n",
       "    }\n",
       "\n",
       "    .dataframe thead th {\n",
       "        text-align: right;\n",
       "    }\n",
       "</style>\n",
       "<table border=\"1\" class=\"dataframe\">\n",
       "  <thead>\n",
       "    <tr style=\"text-align: right;\">\n",
       "      <th></th>\n",
       "      <th>fare_amount</th>\n",
       "      <th>pickup_longitude</th>\n",
       "      <th>pickup_latitude</th>\n",
       "      <th>dropoff_longitude</th>\n",
       "      <th>dropoff_latitude</th>\n",
       "      <th>passenger_count</th>\n",
       "      <th>distance_sp</th>\n",
       "      <th>distance_eucle</th>\n",
       "      <th>distance_manh</th>\n",
       "    </tr>\n",
       "  </thead>\n",
       "  <tbody>\n",
       "    <tr>\n",
       "      <th>count</th>\n",
       "      <td>5.337549e+07</td>\n",
       "      <td>5.337549e+07</td>\n",
       "      <td>5.337549e+07</td>\n",
       "      <td>5.337549e+07</td>\n",
       "      <td>5.337549e+07</td>\n",
       "      <td>5.337549e+07</td>\n",
       "      <td>5.337549e+07</td>\n",
       "      <td>5.337549e+07</td>\n",
       "      <td>5.337549e+07</td>\n",
       "    </tr>\n",
       "    <tr>\n",
       "      <th>mean</th>\n",
       "      <td>1.069499e+01</td>\n",
       "      <td>-7.397183e+01</td>\n",
       "      <td>4.075023e+01</td>\n",
       "      <td>-7.397065e+01</td>\n",
       "      <td>4.075037e+01</td>\n",
       "      <td>1.690683e+00</td>\n",
       "      <td>1.946789e+00</td>\n",
       "      <td>2.204092e+00</td>\n",
       "      <td>4.125143e-02</td>\n",
       "    </tr>\n",
       "    <tr>\n",
       "      <th>std</th>\n",
       "      <td>7.715761e+00</td>\n",
       "      <td>3.526749e-02</td>\n",
       "      <td>2.920402e-02</td>\n",
       "      <td>3.492744e-02</td>\n",
       "      <td>3.281778e-02</td>\n",
       "      <td>1.313596e+00</td>\n",
       "      <td>1.949486e+00</td>\n",
       "      <td>2.299361e+00</td>\n",
       "      <td>4.305605e-02</td>\n",
       "    </tr>\n",
       "    <tr>\n",
       "      <th>min</th>\n",
       "      <td>1.000000e-02</td>\n",
       "      <td>-7.499804e+01</td>\n",
       "      <td>3.903129e+01</td>\n",
       "      <td>-7.499828e+01</td>\n",
       "      <td>3.901662e+01</td>\n",
       "      <td>1.000000e+00</td>\n",
       "      <td>0.000000e+00</td>\n",
       "      <td>0.000000e+00</td>\n",
       "      <td>0.000000e+00</td>\n",
       "    </tr>\n",
       "    <tr>\n",
       "      <th>25%</th>\n",
       "      <td>6.000000e+00</td>\n",
       "      <td>-7.399233e+01</td>\n",
       "      <td>4.073690e+01</td>\n",
       "      <td>-7.399156e+01</td>\n",
       "      <td>4.073606e+01</td>\n",
       "      <td>1.000000e+00</td>\n",
       "      <td>7.746398e-01</td>\n",
       "      <td>8.786609e-01</td>\n",
       "      <td>1.626587e-02</td>\n",
       "    </tr>\n",
       "    <tr>\n",
       "      <th>50%</th>\n",
       "      <td>8.500000e+00</td>\n",
       "      <td>-7.398216e+01</td>\n",
       "      <td>4.075356e+01</td>\n",
       "      <td>-7.398064e+01</td>\n",
       "      <td>4.075404e+01</td>\n",
       "      <td>1.000000e+00</td>\n",
       "      <td>1.323486e+00</td>\n",
       "      <td>1.487754e+00</td>\n",
       "      <td>2.779770e-02</td>\n",
       "    </tr>\n",
       "    <tr>\n",
       "      <th>75%</th>\n",
       "      <td>1.250000e+01</td>\n",
       "      <td>-7.396863e+01</td>\n",
       "      <td>4.076767e+01</td>\n",
       "      <td>-7.396562e+01</td>\n",
       "      <td>4.076846e+01</td>\n",
       "      <td>2.000000e+00</td>\n",
       "      <td>2.371383e+00</td>\n",
       "      <td>2.605871e+00</td>\n",
       "      <td>4.954910e-02</td>\n",
       "    </tr>\n",
       "    <tr>\n",
       "      <th>max</th>\n",
       "      <td>5.000000e+01</td>\n",
       "      <td>-7.204471e+01</td>\n",
       "      <td>4.199717e+01</td>\n",
       "      <td>-7.201388e+01</td>\n",
       "      <td>4.199665e+01</td>\n",
       "      <td>2.080000e+02</td>\n",
       "      <td>6.005273e+01</td>\n",
       "      <td>5.998876e+01</td>\n",
       "      <td>1.227604e+00</td>\n",
       "    </tr>\n",
       "  </tbody>\n",
       "</table>\n",
       "</div>"
      ],
      "text/plain": [
       "        fare_amount  pickup_longitude  pickup_latitude  dropoff_longitude  \\\n",
       "count  5.337549e+07      5.337549e+07     5.337549e+07       5.337549e+07   \n",
       "mean   1.069499e+01     -7.397183e+01     4.075023e+01      -7.397065e+01   \n",
       "std    7.715761e+00      3.526749e-02     2.920402e-02       3.492744e-02   \n",
       "min    1.000000e-02     -7.499804e+01     3.903129e+01      -7.499828e+01   \n",
       "25%    6.000000e+00     -7.399233e+01     4.073690e+01      -7.399156e+01   \n",
       "50%    8.500000e+00     -7.398216e+01     4.075356e+01      -7.398064e+01   \n",
       "75%    1.250000e+01     -7.396863e+01     4.076767e+01      -7.396562e+01   \n",
       "max    5.000000e+01     -7.204471e+01     4.199717e+01      -7.201388e+01   \n",
       "\n",
       "       dropoff_latitude  passenger_count   distance_sp  distance_eucle  \\\n",
       "count      5.337549e+07     5.337549e+07  5.337549e+07    5.337549e+07   \n",
       "mean       4.075037e+01     1.690683e+00  1.946789e+00    2.204092e+00   \n",
       "std        3.281778e-02     1.313596e+00  1.949486e+00    2.299361e+00   \n",
       "min        3.901662e+01     1.000000e+00  0.000000e+00    0.000000e+00   \n",
       "25%        4.073606e+01     1.000000e+00  7.746398e-01    8.786609e-01   \n",
       "50%        4.075404e+01     1.000000e+00  1.323486e+00    1.487754e+00   \n",
       "75%        4.076846e+01     2.000000e+00  2.371383e+00    2.605871e+00   \n",
       "max        4.199665e+01     2.080000e+02  6.005273e+01    5.998876e+01   \n",
       "\n",
       "       distance_manh  \n",
       "count   5.337549e+07  \n",
       "mean    4.125143e-02  \n",
       "std     4.305605e-02  \n",
       "min     0.000000e+00  \n",
       "25%     1.626587e-02  \n",
       "50%     2.779770e-02  \n",
       "75%     4.954910e-02  \n",
       "max     1.227604e+00  "
      ]
     },
     "execution_count": 27,
     "metadata": {
      "tags": []
     },
     "output_type": "execute_result"
    }
   ],
   "source": []
  },
  {
   "cell_type": "code",
   "execution_count": 0,
   "metadata": {
    "colab": {},
    "colab_type": "code",
    "id": "0WqrJJFoc_6L"
   },
   "outputs": [],
   "source": []
  },
  {
   "cell_type": "markdown",
   "metadata": {
    "colab_type": "text",
    "id": "v9t19BRsbjQ4"
   },
   "source": [
    "# Pearson Correlation"
   ]
  },
  {
   "cell_type": "code",
   "execution_count": 0,
   "metadata": {
    "colab": {},
    "colab_type": "code",
    "id": "xVe9ZzIWcGc9"
   },
   "outputs": [],
   "source": [
    "train_df_small = train_df.iloc[0:300000,]"
   ]
  },
  {
   "cell_type": "code",
   "execution_count": 62,
   "metadata": {
    "colab": {
     "base_uri": "https://localhost:8080/",
     "height": 432
    },
    "colab_type": "code",
    "id": "gDyBkqgWNy__",
    "outputId": "97d81ddb-5a32-4d2e-f608-e6529c7f622e"
   },
   "outputs": [
    {
     "name": "stderr",
     "output_type": "stream",
     "text": [
      "/usr/local/lib/python3.6/dist-packages/seaborn/categorical.py:1428: FutureWarning: remove_na is deprecated and is a private function. Do not use.\n",
      "  stat_data = remove_na(group_data)\n"
     ]
    },
    {
     "data": {
      "text/plain": [
       "<matplotlib.axes._subplots.AxesSubplot at 0x7fa3a86a9940>"
      ]
     },
     "execution_count": 62,
     "metadata": {
      "tags": []
     },
     "output_type": "execute_result"
    },
    {
     "data": {
      "image/png": "[encoded data removed]",
      "text/plain": [
       "<matplotlib.figure.Figure at 0x7fa3a8ba3eb8>"
      ]
     },
     "metadata": {
      "tags": []
     },
     "output_type": "display_data"
    }
   ],
   "source": [
    "sns.barplot(x=\"minutes\",y=\"fare_amount\", data = train_df.iloc[0:30000],ci = None)"
   ]
  },
  {
   "cell_type": "code",
   "execution_count": 30,
   "metadata": {
    "colab": {
     "base_uri": "https://localhost:8080/",
     "height": 386
    },
    "colab_type": "code",
    "id": "uZYnwy4RPUnM",
    "outputId": "8e7ac1ff-5fba-4073-9415-32980de34bb2"
   },
   "outputs": [
    {
     "data": {
      "text/plain": [
       "<seaborn.axisgrid.FacetGrid at 0x7f9db82952e8>"
      ]
     },
     "execution_count": 30,
     "metadata": {
      "tags": []
     },
     "output_type": "execute_result"
    },
    {
     "data": {
      "image/png": "[encoded data removed]",
      "text/plain": [
       "<matplotlib.figure.Figure at 0x7f9db8306550>"
      ]
     },
     "metadata": {
      "tags": []
     },
     "output_type": "display_data"
    }
   ],
   "source": [
    "lm = sns.lmplot(x=\"hour\",y=\"fare_per_mile\", data = train_df.iloc[0:100000],ci = None)\n",
    "lm.set(ylim=(0, 40))"
   ]
  },
  {
   "cell_type": "code",
   "execution_count": 44,
   "metadata": {
    "colab": {
     "base_uri": "https://localhost:8080/",
     "height": 306
    },
    "colab_type": "code",
    "id": "PDUtGvt8cPRX",
    "outputId": "c7405ffb-b584-484c-ef4a-97211f189f42"
   },
   "outputs": [
    {
     "data": {
      "text/plain": [
       "fare_amount                      float32\n",
       "pickup_datetime      datetime64[ns, UTC]\n",
       "pickup_longitude                 float32\n",
       "pickup_latitude                  float32\n",
       "dropoff_longitude                float32\n",
       "dropoff_latitude                 float32\n",
       "passenger_count                    uint8\n",
       "year                               int64\n",
       "day                                int64\n",
       "hour                               int64\n",
       "time                              object\n",
       "month                              int64\n",
       "distance_eucle                   float32\n",
       "distance_manh                    float32\n",
       "fare_per_mile                    float32\n",
       "fpm                              float32\n",
       "dtype: object"
      ]
     },
     "execution_count": 44,
     "metadata": {
      "tags": []
     },
     "output_type": "execute_result"
    }
   ],
   "source": [
    "#ana\n",
    "train_df.dtypes"
   ]
  },
  {
   "cell_type": "code",
   "execution_count": 56,
   "metadata": {
    "colab": {
     "base_uri": "https://localhost:8080/",
     "height": 187
    },
    "colab_type": "code",
    "id": "jvA2JWnOcieA",
    "outputId": "cfce703f-78b5-4263-91eb-86c9d6617779"
   },
   "outputs": [
    {
     "data": {
      "text/plain": [
       "fare_amount          666\n",
       "pickup_datetime      666\n",
       "pickup_longitude     666\n",
       "pickup_latitude      666\n",
       "dropoff_longitude    666\n",
       "dropoff_latitude     666\n",
       "passenger_count      666\n",
       "distance_sp          666\n",
       "distance_eucle       666\n",
       "dtype: int64"
      ]
     },
     "execution_count": 56,
     "metadata": {
      "tags": []
     },
     "output_type": "execute_result"
    }
   ],
   "source": [
    "#ana\n",
    "train_df_small[train_df_small[\"fare_amount\"]>60].count()"
   ]
  },
  {
   "cell_type": "code",
   "execution_count": 0,
   "metadata": {
    "colab": {},
    "colab_type": "code",
    "id": "cVmH-EgScHeq"
   },
   "outputs": [],
   "source": [
    "#2 and 3"
   ]
  },
  {
   "cell_type": "code",
   "execution_count": 31,
   "metadata": {
    "colab": {
     "base_uri": "https://localhost:8080/",
     "height": 34
    },
    "colab_type": "code",
    "id": "MhepxiKnWnWO",
    "outputId": "c840d6cd-339b-4aeb-94b6-6708cb367d49"
   },
   "outputs": [
    {
     "data": {
      "text/plain": [
       "(0.87591195, 0.0)"
      ]
     },
     "execution_count": 31,
     "metadata": {
      "tags": []
     },
     "output_type": "execute_result"
    }
   ],
   "source": [
    "#Eucledian distance vs fare amount\n",
    "p_coef = sc.stats.pearsonr(train_df[\"distance_eucle\"].values,train_df[\"fare_amount\"].values)\n",
    "p_coef"
   ]
  },
  {
   "cell_type": "code",
   "execution_count": 35,
   "metadata": {
    "colab": {
     "base_uri": "https://localhost:8080/",
     "height": 386
    },
    "colab_type": "code",
    "id": "ar2gumEQZO50",
    "outputId": "b853aa38-37e1-49b2-bc3e-1953252cbadf"
   },
   "outputs": [
    {
     "data": {
      "text/plain": [
       "<seaborn.axisgrid.FacetGrid at 0x7f9db7fa4550>"
      ]
     },
     "execution_count": 35,
     "metadata": {
      "tags": []
     },
     "output_type": "execute_result"
    },
    {
     "data": {
      "image/png": "[encoded data removed]",
      "text/plain": [
       "<matplotlib.figure.Figure at 0x7f9db7fa45c0>"
      ]
     },
     "metadata": {
      "tags": []
     },
     "output_type": "display_data"
    }
   ],
   "source": [
    "#plt.scatter(train_df[\"fare_amount\"].values, train_df[\"distance_eucle\"].values )\n",
    "#plt.ylabel(\"distance\")\n",
    "#plt.xlabel(\"fare\")\n",
    "\n",
    "lm = sns.lmplot(x=\"fare_amount\",y=\"distance_eucle\", data = train_df.iloc[0:100000],ci = None)\n",
    "lm.set(ylim=(0, 70))"
   ]
  },
  {
   "cell_type": "markdown",
   "metadata": {
    "colab_type": "text",
    "id": "719X9WDggWCt"
   },
   "source": [
    "From this we can observe though pearson coeffiecnt is quite high that there are still few outliers in our data for example for eucldian distance of 60 fare is less than 10 and for in many cases eucldian distance of 10 fare is 50, so though it shows some strong relationship eucledian distance is not a great parameter. One thing I will try to dind out is as NYC has grid road system we should only find out distance between lattitude and logitude and not the eucledian distance."
   ]
  },
  {
   "cell_type": "code",
   "execution_count": 31,
   "metadata": {
    "colab": {
     "base_uri": "https://localhost:8080/",
     "height": 34
    },
    "colab_type": "code",
    "id": "t8fUePA9gN4y",
    "outputId": "285258d4-e035-4d3f-a979-b5f37d853fbd"
   },
   "outputs": [
    {
     "data": {
      "text/plain": [
       "(0.8584743, 0.0)"
      ]
     },
     "execution_count": 31,
     "metadata": {
      "tags": []
     },
     "output_type": "execute_result"
    }
   ],
   "source": [
    "#Manhattan Distance to fare_amount\n",
    "p_coef = sc.stats.pearsonr(train_df[\"distance_manh\"].values,train_df[\"fare_amount\"].values)\n",
    "p_coef"
   ]
  },
  {
   "cell_type": "code",
   "execution_count": 36,
   "metadata": {
    "colab": {
     "base_uri": "https://localhost:8080/",
     "height": 386
    },
    "colab_type": "code",
    "id": "jhqvVTKkjOnx",
    "outputId": "0f60697f-f180-4399-8eca-e424044d2d8c"
   },
   "outputs": [
    {
     "data": {
      "text/plain": [
       "<seaborn.axisgrid.FacetGrid at 0x7f9db758ab00>"
      ]
     },
     "execution_count": 36,
     "metadata": {
      "tags": []
     },
     "output_type": "execute_result"
    },
    {
     "data": {
      "image/png": "[encoded data removed]",
      "text/plain": [
       "<matplotlib.figure.Figure at 0x7f9db758ad30>"
      ]
     },
     "metadata": {
      "tags": []
     },
     "output_type": "display_data"
    }
   ],
   "source": [
    "#plt.scatter(train_df_small[\"fare_amount\"].values, train_df_small[\"distance_manh\"].values )\n",
    "lm = sns.lmplot(x=\"fare_amount\",y=\"distance_manh\", data = train_df.iloc[0:500000],ci = None)\n",
    "lm.set(ylim=(0, 70))"
   ]
  },
  {
   "cell_type": "markdown",
   "metadata": {
    "colab_type": "text",
    "id": "eVtGks91jaBe"
   },
   "source": [
    "This at least shows some similarity but somehow pearson coefficent is less! moving on I hust realised why manhattan distance is called Manhattan Distance."
   ]
  },
  {
   "cell_type": "code",
   "execution_count": 0,
   "metadata": {
    "colab": {},
    "colab_type": "code",
    "id": "3Siak22nWtkF"
   },
   "outputs": [],
   "source": [
    "#Spherical distance vs fare amount\n",
    "p_coef = sc.stats.pearsonr(train_df[\"distance_eucle\"].values,train_df[\"ho\"])\n",
    "p_coef"
   ]
  },
  {
   "cell_type": "code",
   "execution_count": 37,
   "metadata": {
    "colab": {
     "base_uri": "https://localhost:8080/",
     "height": 34
    },
    "colab_type": "code",
    "id": "QhCUugzGUK-i",
    "outputId": "f56f843a-292a-48b6-d797-7eb0e55ed9b7"
   },
   "outputs": [
    {
     "data": {
      "text/plain": [
       "(-0.01725520635048126, 7.317890417879327e-175)"
      ]
     },
     "execution_count": 37,
     "metadata": {
      "tags": []
     },
     "output_type": "execute_result"
    }
   ],
   "source": [
    "#time of day vs taxi fare\n",
    "p_coef = sc.stats.pearsonr(train_df[\"minutes\"],train_df[\"fare_amount\"].values)\n",
    "p_coef"
   ]
  },
  {
   "cell_type": "code",
   "execution_count": 39,
   "metadata": {
    "colab": {
     "base_uri": "https://localhost:8080/",
     "height": 432
    },
    "colab_type": "code",
    "id": "ESy5GMukjuZy",
    "outputId": "6225fa46-d3c9-4b21-ebba-19c4cee6530c"
   },
   "outputs": [
    {
     "name": "stderr",
     "output_type": "stream",
     "text": [
      "/usr/local/lib/python3.6/dist-packages/seaborn/categorical.py:1428: FutureWarning: remove_na is deprecated and is a private function. Do not use.\n",
      "  stat_data = remove_na(group_data)\n"
     ]
    },
    {
     "data": {
      "text/plain": [
       "<matplotlib.axes._subplots.AxesSubplot at 0x7f9db7e8dda0>"
      ]
     },
     "execution_count": 39,
     "metadata": {
      "tags": []
     },
     "output_type": "execute_result"
    },
    {
     "data": {
      "image/png": "[encoded data removed]",
      "text/plain": [
       "<matplotlib.figure.Figure at 0x7f9db5608a90>"
      ]
     },
     "metadata": {
      "tags": []
     },
     "output_type": "display_data"
    }
   ],
   "source": [
    "#sns.barplot(x=train_df[\"pickup_datetime\"].dt.hour.values,y=train_df[\"fare_amount\"].values)\n",
    "sns.barplot(x=\"minutes\",y=\"fare_amount\", data = train_df.iloc[0:100000],ci = None)\n"
   ]
  },
  {
   "cell_type": "code",
   "execution_count": 41,
   "metadata": {
    "colab": {
     "base_uri": "https://localhost:8080/",
     "height": 34
    },
    "colab_type": "code",
    "id": "Psm4BCo0VKv4",
    "outputId": "1988c78d-d979-4cf3-d4aa-4690182ec91e"
   },
   "outputs": [
    {
     "data": {
      "text/plain": [
       "(-0.03204795338850599, 0.0)"
      ]
     },
     "execution_count": 41,
     "metadata": {
      "tags": []
     },
     "output_type": "execute_result"
    }
   ],
   "source": [
    "#pickup datetime vs distance\n",
    "p_coef1 = sc.stats.pearsonr(train_df[\"minutes\"].values,train_df[\"distance_eucle\"].values)\n",
    "p_coef1"
   ]
  },
  {
   "cell_type": "code",
   "execution_count": 43,
   "metadata": {
    "colab": {
     "base_uri": "https://localhost:8080/",
     "height": 432
    },
    "colab_type": "code",
    "id": "DA46LImDkbeu",
    "outputId": "aab804c4-4674-4ebe-80e9-193365fbafc0"
   },
   "outputs": [
    {
     "name": "stderr",
     "output_type": "stream",
     "text": [
      "/usr/local/lib/python3.6/dist-packages/seaborn/categorical.py:1428: FutureWarning: remove_na is deprecated and is a private function. Do not use.\n",
      "  stat_data = remove_na(group_data)\n"
     ]
    },
    {
     "data": {
      "text/plain": [
       "<matplotlib.axes._subplots.AxesSubplot at 0x7f9db5d82908>"
      ]
     },
     "execution_count": 43,
     "metadata": {
      "tags": []
     },
     "output_type": "execute_result"
    },
    {
     "data": {
      "image/png": "[encoded data removed]",
      "text/plain": [
       "<matplotlib.figure.Figure at 0x7f9db58e4dd8>"
      ]
     },
     "metadata": {
      "tags": []
     },
     "output_type": "display_data"
    }
   ],
   "source": [
    "sns.barplot(x=\"minutes\",y=\"distance_eucle\",data = train_df.iloc[0:100000],ci = None)\n"
   ]
  },
  {
   "cell_type": "code",
   "execution_count": 80,
   "metadata": {
    "colab": {
     "base_uri": "https://localhost:8080/",
     "height": 380
    },
    "colab_type": "code",
    "id": "697pWvDkSvzJ",
    "outputId": "aeebfc30-7b02-4eb8-f677-77b120de6514"
   },
   "outputs": [
    {
     "data": {
      "text/plain": [
       "<matplotlib.axes._subplots.AxesSubplot at 0x7f9db2983470>"
      ]
     },
     "execution_count": 80,
     "metadata": {
      "tags": []
     },
     "output_type": "execute_result"
    },
    {
     "data": {
      "image/png": "[encoded data removed]",
      "text/plain": [
       "<matplotlib.figure.Figure at 0x7f9db29c4ef0>"
      ]
     },
     "metadata": {
      "tags": []
     },
     "output_type": "display_data"
    }
   ],
   "source": [
    "day_impact = train_df.pivot_table(index='month',columns = \"day\" ,values='fare_amount')\n",
    "sns.heatmap(data = day_impact)"
   ]
  },
  {
   "cell_type": "code",
   "execution_count": 45,
   "metadata": {
    "colab": {
     "base_uri": "https://localhost:8080/",
     "height": 378
    },
    "colab_type": "code",
    "id": "ui-L2TYP0eIP",
    "outputId": "30dc3a94-8b9c-4f62-e236-d63ced63d1d1"
   },
   "outputs": [
    {
     "data": {
      "text/plain": [
       "<matplotlib.axes._subplots.AxesSubplot at 0x7f9db4802438>"
      ]
     },
     "execution_count": 45,
     "metadata": {
      "tags": []
     },
     "output_type": "execute_result"
    },
    {
     "data": {
      "image/png": "[encoded data removed]",
      "text/plain": [
       "<matplotlib.figure.Figure at 0x7f9db2e67208>"
      ]
     },
     "metadata": {
      "tags": []
     },
     "output_type": "display_data"
    }
   ],
   "source": [
    "hour_impact = train_df.pivot_table(index='hour',columns = \"day\" ,values='fare_amount')\n",
    "sns.heatmap(data = hour_impact)"
   ]
  },
  {
   "cell_type": "code",
   "execution_count": 0,
   "metadata": {
    "colab": {},
    "colab_type": "code",
    "id": "nwe_AJed-aq5"
   },
   "outputs": [],
   "source": []
  },
  {
   "cell_type": "markdown",
   "metadata": {
    "colab_type": "text",
    "id": "UGFI_uKJU8iV"
   },
   "source": [
    "**Transforming Test Data**"
   ]
  },
  {
   "cell_type": "code",
   "execution_count": 0,
   "metadata": {
    "colab": {},
    "colab_type": "code",
    "id": "mDerYp89VKsx"
   },
   "outputs": [],
   "source": []
  },
  {
   "cell_type": "code",
   "execution_count": 0,
   "metadata": {
    "colab": {},
    "colab_type": "code",
    "id": "mZTzMp22WDfn"
   },
   "outputs": [],
   "source": [
    "test_df = pd.read_csv(\"/content/gdrive/My Drive/datasets/test.csv\")"
   ]
  },
  {
   "cell_type": "code",
   "execution_count": 0,
   "metadata": {
    "colab": {},
    "colab_type": "code",
    "id": "DSpsYWwJplZT"
   },
   "outputs": [],
   "source": [
    "test_df['pickup_datetime'] = pd.to_datetime(test_df['pickup_datetime'])"
   ]
  },
  {
   "cell_type": "code",
   "execution_count": 0,
   "metadata": {
    "colab": {},
    "colab_type": "code",
    "id": "IkS-rV5uPqDs"
   },
   "outputs": [],
   "source": [
    "test_df['year'] = test_df['pickup_datetime'].dt.year\n",
    "test_df[\"hour\"] = pd.Series(test_df[\"pickup_datetime\"].dt.hour.values,index = test_df.index)\n",
    "test_df['day'] = test_df['pickup_datetime'].dt.weekday\n",
    "test_df[\"time\"] = test_df['pickup_datetime'].dt.time\n",
    "test_df[\"month\"] = test_df['pickup_datetime'].dt.month\n",
    "test_df['minutes'] = test_df['pickup_datetime'].dt.minute + 60*test_df['pickup_datetime'].dt.hour"
   ]
  },
  {
   "cell_type": "code",
   "execution_count": 0,
   "metadata": {
    "colab": {},
    "colab_type": "code",
    "id": "7GGxcCu8J7jF"
   },
   "outputs": [],
   "source": [
    "test_df[\"cp\"] = distanceE(test_df['pickup_latitude'].values,test_df['pickup_longitude'].values,nyc1[0],nyc1[1])\n",
    "test_df[\"ps\"] = distanceE(test_df['pickup_latitude'].values,test_df['pickup_longitude'].values,nyc2[0],nyc2[1])\n",
    "test_df[\"gc\"] = distanceE(test_df['pickup_latitude'].values,test_df['pickup_longitude'].values,nyc3[0],nyc3[1])\n",
    "test_df[\"lg\"] = distanceE(test_df['pickup_latitude'].values,test_df['pickup_longitude'].values,nyc4[0],nyc4[1])\n",
    "test_df[\"jf\"] = distanceE(test_df['pickup_latitude'].values,test_df['pickup_longitude'].values,nyc5[0],nyc5[1])\n",
    "test_df[\"nw\"] = distanceE(test_df['pickup_latitude'].values,test_df['pickup_longitude'].values,nyc6[0],nyc6[1])\n",
    "test_df[\"cp1\"] = distanceE(test_df['dropoff_latitude'].values,test_df['dropoff_longitude'].values,nyc1[0],nyc1[1])\n",
    "test_df[\"ps1\"] = distanceE(test_df['dropoff_latitude'].values,test_df['dropoff_longitude'].values,nyc2[0],nyc2[1])\n",
    "test_df[\"gc1\"] = distanceE(test_df['dropoff_latitude'].values,test_df['dropoff_longitude'].values,nyc3[0],nyc3[1])\n",
    "test_df[\"lg1\"] = distanceE(test_df['dropoff_latitude'].values,test_df['dropoff_longitude'].values,nyc4[0],nyc4[1])\n",
    "test_df[\"jf1\"] = distanceE(test_df['dropoff_latitude'].values,test_df['dropoff_longitude'].values,nyc5[0],nyc5[1])\n",
    "test_df[\"nw1\"] = distanceE(test_df['dropoff_latitude'].values,test_df['dropoff_longitude'].values,nyc6[0],nyc6[1])"
   ]
  },
  {
   "cell_type": "code",
   "execution_count": 0,
   "metadata": {
    "colab": {},
    "colab_type": "code",
    "id": "yb-2B0vJqCsl"
   },
   "outputs": [],
   "source": [
    "dist2 = distanceM(test_df['pickup_latitude'].values,test_df['pickup_longitude'].values,test_df['dropoff_latitude'].values,test_df['dropoff_longitude'].values)\n",
    "dist2 = pd.Series(dist2,index = test_df.index)\n",
    "test_df['distance_manh'] = dist2"
   ]
  },
  {
   "cell_type": "code",
   "execution_count": 0,
   "metadata": {
    "colab": {},
    "colab_type": "code",
    "id": "kG9Gr5h2qCpe"
   },
   "outputs": [],
   "source": [
    "dist1 = distanceE(test_df['pickup_latitude'].values,test_df['pickup_longitude'].values,test_df['dropoff_latitude'].values,test_df['dropoff_longitude'].values)\n",
    "dist1 = pd.Series(dist1,index = test_df.index)\n",
    "test_df['distance_eucle'] = dist1"
   ]
  },
  {
   "cell_type": "code",
   "execution_count": 53,
   "metadata": {
    "colab": {
     "base_uri": "https://localhost:8080/",
     "height": 561
    },
    "colab_type": "code",
    "id": "e7AJpm47VLbi",
    "outputId": "2bb3ea4f-6a42-40a9-fe77-29b19071b5b4"
   },
   "outputs": [
    {
     "data": {
      "text/plain": [
       "(key                          object\n",
       " pickup_datetime      datetime64[ns]\n",
       " pickup_longitude            float64\n",
       " pickup_latitude             float64\n",
       " dropoff_longitude           float64\n",
       " dropoff_latitude            float64\n",
       " passenger_count               int64\n",
       " year                          int64\n",
       " hour                          int64\n",
       " day                           int64\n",
       " time                         object\n",
       " month                         int64\n",
       " minutes                       int64\n",
       " distance_manh               float64\n",
       " distance_eucle              float64\n",
       " dtype: object, fare_amount                      float32\n",
       " pickup_datetime      datetime64[ns, UTC]\n",
       " pickup_longitude                 float32\n",
       " pickup_latitude                  float32\n",
       " dropoff_longitude                float32\n",
       " dropoff_latitude                 float32\n",
       " passenger_count                    uint8\n",
       " year                               int64\n",
       " day                                int64\n",
       " hour                               int64\n",
       " time                              object\n",
       " month                              int64\n",
       " minutes                            int64\n",
       " distance_eucle                   float32\n",
       " distance_manh                    float32\n",
       " fare_per_mile                    float32\n",
       " dtype: object)"
      ]
     },
     "execution_count": 53,
     "metadata": {
      "tags": []
     },
     "output_type": "execute_result"
    }
   ],
   "source": [
    "test_df.dtypes,train_df.dtypes"
   ]
  },
  {
   "cell_type": "markdown",
   "metadata": {
    "colab_type": "text",
    "id": "y4b1LlzHVFPy"
   },
   "source": [
    "# Machine Learning Section"
   ]
  },
  {
   "cell_type": "markdown",
   "metadata": {
    "colab_type": "text",
    "id": "mlkkZ_qoV-Og"
   },
   "source": [
    "**Linear Regression**"
   ]
  },
  {
   "cell_type": "code",
   "execution_count": 0,
   "metadata": {
    "colab": {},
    "colab_type": "code",
    "id": "nUwIIzI7FHvy"
   },
   "outputs": [],
   "source": [
    "from sklearn.linear_model import LinearRegression\n",
    "from sklearn.model_selection import train_test_split\n",
    "from sklearn.metrics import mean_squared_error\n",
    "from sklearn.preprocessing import MinMaxScaler\n",
    "from sklearn.ensemble import RandomForestRegressor\n",
    "from sklearn.metrics import mean_squared_error\n",
    "from xgboost import XGBRegressor\n",
    "from sklearn.utils import shuffle"
   ]
  },
  {
   "cell_type": "code",
   "execution_count": 0,
   "metadata": {
    "colab": {},
    "colab_type": "code",
    "id": "ys0rSap4UIdF"
   },
   "outputs": [],
   "source": [
    "model=LinearRegression()\n"
   ]
  },
  {
   "cell_type": "code",
   "execution_count": 0,
   "metadata": {
    "colab": {},
    "colab_type": "code",
    "id": "WRMrvealxAh-"
   },
   "outputs": [],
   "source": [
    "train_df = shuffle(train_df)"
   ]
  },
  {
   "cell_type": "code",
   "execution_count": 0,
   "metadata": {
    "colab": {},
    "colab_type": "code",
    "id": "vygfZlJjXBsD"
   },
   "outputs": [],
   "source": [
    "param = ['distance_eucle','distance_manh','hour','year','pickup_latitude','pickup_longitude','dropoff_latitude','dropoff_longitude']"
   ]
  },
  {
   "cell_type": "code",
   "execution_count": 0,
   "metadata": {
    "colab": {},
    "colab_type": "code",
    "id": "SrGCasyQFcAc"
   },
   "outputs": [],
   "source": [
    "X_train, X_valid, y_train, y_valid = train_test_split(train_df[param], train_df['fare_amount'],test_size=0.2)"
   ]
  },
  {
   "cell_type": "code",
   "execution_count": 0,
   "metadata": {
    "colab": {},
    "colab_type": "code",
    "id": "2Lmzx3FNwrqp"
   },
   "outputs": [],
   "source": [
    "X_train,y_train = "
   ]
  },
  {
   "cell_type": "code",
   "execution_count": 60,
   "metadata": {
    "colab": {
     "base_uri": "https://localhost:8080/",
     "height": 34
    },
    "colab_type": "code",
    "id": "G98Gq12tUUxd",
    "outputId": "e48f6c58-4b45-4663-ad98-acaef10a0450"
   },
   "outputs": [
    {
     "data": {
      "text/plain": [
       "LinearRegression(copy_X=True, fit_intercept=True, n_jobs=1, normalize=False)"
      ]
     },
     "execution_count": 60,
     "metadata": {
      "tags": []
     },
     "output_type": "execute_result"
    }
   ],
   "source": [
    "model.fit(X_train,y_train)"
   ]
  },
  {
   "cell_type": "code",
   "execution_count": 0,
   "metadata": {
    "colab": {},
    "colab_type": "code",
    "id": "E2FTp2FHWNNz"
   },
   "outputs": [],
   "source": [
    "val_pred = model.predict(X_valid)"
   ]
  },
  {
   "cell_type": "code",
   "execution_count": 62,
   "metadata": {
    "colab": {
     "base_uri": "https://localhost:8080/",
     "height": 34
    },
    "colab_type": "code",
    "id": "6C51XGfNURyE",
    "outputId": "45e46277-6d7c-45d1-a70e-ebd58ee0bdc0"
   },
   "outputs": [
    {
     "data": {
      "text/plain": [
       "3.553424194049031"
      ]
     },
     "execution_count": 62,
     "metadata": {
      "tags": []
     },
     "output_type": "execute_result"
    }
   ],
   "source": [
    "loss = np.sqrt(mean_squared_error(y_valid,val_pred))\n",
    "loss"
   ]
  },
  {
   "cell_type": "code",
   "execution_count": 64,
   "metadata": {
    "colab": {
     "base_uri": "https://localhost:8080/",
     "height": 68
    },
    "colab_type": "code",
    "id": "5oTSn77-PzKn",
    "outputId": "e4580fad-aadb-4357-8f8f-2f275d98f4c0"
   },
   "outputs": [
    {
     "data": {
      "text/plain": [
       "array([  4.95139423,  -1.60473438,  -0.03209673,   0.01261813,\n",
       "         0.43518427,   3.83612049,   7.3151523 , -11.42807474,\n",
       "         1.43619096])"
      ]
     },
     "execution_count": 64,
     "metadata": {
      "tags": []
     },
     "output_type": "execute_result"
    }
   ],
   "source": [
    "importances = model.coef_\n",
    "importances"
   ]
  },
  {
   "cell_type": "code",
   "execution_count": 0,
   "metadata": {
    "colab": {},
    "colab_type": "code",
    "id": "EHj9ggY1WDZk"
   },
   "outputs": [],
   "source": [
    "pred = model.predict(test_df[param])"
   ]
  },
  {
   "cell_type": "code",
   "execution_count": 0,
   "metadata": {
    "colab": {},
    "colab_type": "code",
    "id": "lp1DihxxUk6p"
   },
   "outputs": [],
   "source": [
    "param = ['hour','distance_eucle','year','day','distance_manh']"
   ]
  },
  {
   "cell_type": "markdown",
   "metadata": {
    "colab_type": "text",
    "id": "LA2ZTLONT3yY"
   },
   "source": [
    "**Random Forest**"
   ]
  },
  {
   "cell_type": "code",
   "execution_count": 0,
   "metadata": {
    "colab": {},
    "colab_type": "code",
    "id": "V4_9QejDT2Tq"
   },
   "outputs": [],
   "source": [
    "rand_forest_regressor = RandomForestRegressor()\n"
   ]
  },
  {
   "cell_type": "code",
   "execution_count": 69,
   "metadata": {
    "colab": {
     "base_uri": "https://localhost:8080/",
     "height": 119
    },
    "colab_type": "code",
    "id": "cNTnK4cBcH1l",
    "outputId": "d0d99e09-d801-40ab-ab2d-5430825e33f4"
   },
   "outputs": [
    {
     "data": {
      "text/plain": [
       "RandomForestRegressor(bootstrap=True, criterion='mse', max_depth=None,\n",
       "           max_features='auto', max_leaf_nodes=None,\n",
       "           min_impurity_decrease=0.0, min_impurity_split=None,\n",
       "           min_samples_leaf=1, min_samples_split=2,\n",
       "           min_weight_fraction_leaf=0.0, n_estimators=10, n_jobs=1,\n",
       "           oob_score=False, random_state=None, verbose=0, warm_start=False)"
      ]
     },
     "execution_count": 69,
     "metadata": {
      "tags": []
     },
     "output_type": "execute_result"
    }
   ],
   "source": [
    "rand_forest_regressor.fit(X_train[0:1000000], y_train[0:1000000])"
   ]
  },
  {
   "cell_type": "code",
   "execution_count": 0,
   "metadata": {
    "colab": {},
    "colab_type": "code",
    "id": "2C8z-9eHT2LW"
   },
   "outputs": [],
   "source": [
    "val_pred = rand_forest_regressor.predict(X_valid)"
   ]
  },
  {
   "cell_type": "code",
   "execution_count": 71,
   "metadata": {
    "colab": {
     "base_uri": "https://localhost:8080/",
     "height": 34
    },
    "colab_type": "code",
    "id": "5DwD1tHiXuHB",
    "outputId": "0ec77245-9bb0-4f41-8613-41d3917dd870"
   },
   "outputs": [
    {
     "data": {
      "text/plain": [
       "3.097954669072087"
      ]
     },
     "execution_count": 71,
     "metadata": {
      "tags": []
     },
     "output_type": "execute_result"
    }
   ],
   "source": [
    "loss = np.sqrt(mean_squared_error(y_valid,val_pred))\n",
    "loss"
   ]
  },
  {
   "cell_type": "code",
   "execution_count": 0,
   "metadata": {
    "colab": {},
    "colab_type": "code",
    "id": "9LworUWZXwfa"
   },
   "outputs": [],
   "source": [
    "pred = rand_forest_regressor.predict(test_df[param])"
   ]
  },
  {
   "cell_type": "markdown",
   "metadata": {
    "colab_type": "text",
    "id": "czDQcP0HX-vg"
   },
   "source": [
    "**XGB boost**"
   ]
  },
  {
   "cell_type": "code",
   "execution_count": 93,
   "metadata": {
    "colab": {
     "base_uri": "https://localhost:8080/",
     "height": 119
    },
    "colab_type": "code",
    "id": "s29qhQg6YJ8L",
    "outputId": "44cefba0-2e1f-4d37-d30a-be0416b0189e"
   },
   "outputs": [
    {
     "data": {
      "text/plain": [
       "XGBRegressor(base_score=0.5, booster='gbtree', colsample_bylevel=1,\n",
       "       colsample_bytree=1, gamma=0, learning_rate=0.3, max_delta_step=0,\n",
       "       max_depth=6, min_child_weight=1, missing=None, n_estimators=500,\n",
       "       n_jobs=1, nthread=None, objective='reg:linear', random_state=0,\n",
       "       reg_alpha=0, reg_lambda=1, scale_pos_weight=1, seed=None,\n",
       "       silent=True, subsample=1)"
      ]
     },
     "execution_count": 93,
     "metadata": {
      "tags": []
     },
     "output_type": "execute_result"
    }
   ],
   "source": [
    "XGB_model = XGBRegressor(learning_rate=0.3, max_depth=6, n_estimators=500)\n",
    "XGB_model.fit(X_train[0:1500000], y_train[0:1500000])\n",
    "\n"
   ]
  },
  {
   "cell_type": "code",
   "execution_count": 94,
   "metadata": {
    "colab": {
     "base_uri": "https://localhost:8080/",
     "height": 34
    },
    "colab_type": "code",
    "id": "u2uCWo2Mj63P",
    "outputId": "3be20b6e-e48c-4f79-97ae-a97944d2878c"
   },
   "outputs": [
    {
     "data": {
      "text/plain": [
       "2.8626633"
      ]
     },
     "execution_count": 94,
     "metadata": {
      "tags": []
     },
     "output_type": "execute_result"
    }
   ],
   "source": [
    "y_XGB_predict = XGB_model.predict(X_valid)\n",
    "loss = np.sqrt(mean_squared_error(y_valid,y_XGB_predict))\n",
    "loss"
   ]
  },
  {
   "cell_type": "code",
   "execution_count": 0,
   "metadata": {
    "colab": {},
    "colab_type": "code",
    "id": "sQvOie0FmNjG"
   },
   "outputs": [],
   "source": [
    "pred3 = XGB_model.predict(test_df[param])"
   ]
  },
  {
   "cell_type": "markdown",
   "metadata": {
    "colab_type": "text",
    "id": "Ym8UDRRkWX08"
   },
   "source": [
    "# Convert to CSV"
   ]
  },
  {
   "cell_type": "code",
   "execution_count": 0,
   "metadata": {
    "colab": {},
    "colab_type": "code",
    "id": "dR8nT-7EsPWe"
   },
   "outputs": [],
   "source": [
    "sub1 = pd.DataFrame()"
   ]
  },
  {
   "cell_type": "code",
   "execution_count": 0,
   "metadata": {
    "colab": {},
    "colab_type": "code",
    "id": "C_vdxzB9RSbn"
   },
   "outputs": [],
   "source": [
    "sub['key'] = test_df['key']"
   ]
  },
  {
   "cell_type": "code",
   "execution_count": 0,
   "metadata": {
    "colab": {},
    "colab_type": "code",
    "id": "tZW5cPuYRX_8"
   },
   "outputs": [],
   "source": [
    "sub['fare_amount'] = pred"
   ]
  },
  {
   "cell_type": "code",
   "execution_count": 55,
   "metadata": {
    "colab": {
     "base_uri": "https://localhost:8080/",
     "height": 204
    },
    "colab_type": "code",
    "id": "RdMWa89dRej0",
    "outputId": "d3f504a0-f361-4911-a0c3-2c3728b7f696"
   },
   "outputs": [
    {
     "data": {
      "text/html": [
       "<div>\n",
       "<style scoped>\n",
       "    .dataframe tbody tr th:only-of-type {\n",
       "        vertical-align: middle;\n",
       "    }\n",
       "\n",
       "    .dataframe tbody tr th {\n",
       "        vertical-align: top;\n",
       "    }\n",
       "\n",
       "    .dataframe thead th {\n",
       "        text-align: right;\n",
       "    }\n",
       "</style>\n",
       "<table border=\"1\" class=\"dataframe\">\n",
       "  <thead>\n",
       "    <tr style=\"text-align: right;\">\n",
       "      <th></th>\n",
       "      <th>key</th>\n",
       "      <th>fare_amount</th>\n",
       "    </tr>\n",
       "  </thead>\n",
       "  <tbody>\n",
       "    <tr>\n",
       "      <th>9909</th>\n",
       "      <td>2015-05-10 12:37:51.0000002</td>\n",
       "      <td>9.477259</td>\n",
       "    </tr>\n",
       "    <tr>\n",
       "      <th>9910</th>\n",
       "      <td>2015-01-12 17:05:51.0000001</td>\n",
       "      <td>11.844451</td>\n",
       "    </tr>\n",
       "    <tr>\n",
       "      <th>9911</th>\n",
       "      <td>2015-04-19 20:44:15.0000001</td>\n",
       "      <td>49.370930</td>\n",
       "    </tr>\n",
       "    <tr>\n",
       "      <th>9912</th>\n",
       "      <td>2015-01-31 01:05:19.0000005</td>\n",
       "      <td>20.862108</td>\n",
       "    </tr>\n",
       "    <tr>\n",
       "      <th>9913</th>\n",
       "      <td>2015-01-18 14:06:23.0000006</td>\n",
       "      <td>8.219004</td>\n",
       "    </tr>\n",
       "  </tbody>\n",
       "</table>\n",
       "</div>"
      ],
      "text/plain": [
       "                              key  fare_amount\n",
       "9909  2015-05-10 12:37:51.0000002     9.477259\n",
       "9910  2015-01-12 17:05:51.0000001    11.844451\n",
       "9911  2015-04-19 20:44:15.0000001    49.370930\n",
       "9912  2015-01-31 01:05:19.0000005    20.862108\n",
       "9913  2015-01-18 14:06:23.0000006     8.219004"
      ]
     },
     "execution_count": 55,
     "metadata": {
      "tags": []
     },
     "output_type": "execute_result"
    }
   ],
   "source": [
    "sub.tail()"
   ]
  },
  {
   "cell_type": "code",
   "execution_count": 0,
   "metadata": {
    "colab": {},
    "colab_type": "code",
    "id": "K9brrOHVq1ws"
   },
   "outputs": [],
   "source": [
    "su5 = pd.DataFrame({\"key\": test_df['key'],\"fare_amount\": pred3},columns = ['key','fare_amount'])\n"
   ]
  },
  {
   "cell_type": "code",
   "execution_count": 0,
   "metadata": {
    "colab": {},
    "colab_type": "code",
    "id": "hs3446ONWDXK"
   },
   "outputs": [],
   "source": [
    "su5.to_csv(\"submission8.csv\", index = False)"
   ]
  }
 ],
 "metadata": {
  "colab": {
   "collapsed_sections": [],
   "name": "Untitled0.ipynb",
   "provenance": [],
   "toc_visible": true,
   "version": "0.3.2"
  },
  "kernelspec": {
   "display_name": "Python 3",
   "language": "python",
   "name": "python3"
  },
  "language_info": {
   "codemirror_mode": {
    "name": "ipython",
    "version": 3
   },
   "file_extension": ".py",
   "mimetype": "text/x-python",
   "name": "python",
   "nbconvert_exporter": "python",
   "pygments_lexer": "ipython3",
   "version": "3.5.2"
  }
 },
 "nbformat": 4,
 "nbformat_minor": 1
}

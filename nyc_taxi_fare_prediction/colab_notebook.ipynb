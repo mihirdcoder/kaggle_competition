{
 "cells": [
  {
   "cell_type": "code",
   "execution_count": 1,
   "metadata": {
    "colab": {},
    "colab_type": "code",
    "id": "yLOrBj_FPCQ4"
   },
   "outputs": [],
   "source": [
    "import pandas as pd\n",
    "import numpy as np\n",
    "import sklearn \n",
    "import matplotlib.pyplot as plt\n",
    "import seaborn as sns\n",
    "import math\n",
    "import scipy as sc"
   ]
  },
  {
   "cell_type": "markdown",
   "metadata": {
    "colab_type": "text",
    "id": "G3y_ei8cSN7O"
   },
   "source": []
  },
  {
   "cell_type": "code",
   "execution_count": 3,
   "metadata": {
    "colab": {
     "base_uri": "https://localhost:8080/",
     "height": 122
    },
    "colab_type": "code",
    "id": "taHmbiTJQezf",
    "outputId": "a9faa628-4502-4542-f1e6-e1820cbf1223"
   },
   "outputs": [
    {
     "name": "stdout",
     "output_type": "stream",
     "text": [
      "Go to this URL in a browser: https://accounts.google.com/o/oauth2/auth?client_id=947318989803-6bn6qk8qdgf4n4g3pfee6491hc0brc4i.apps.googleusercontent.com&redirect_uri=urn%3Aietf%3Awg%3Aoauth%3A2.0%3Aoob&scope=email%20https%3A%2F%2Fwww.googleapis.com%2Fauth%2Fdocs.test%20https%3A%2F%2Fwww.googleapis.com%2Fauth%2Fdrive%20https%3A%2F%2Fwww.googleapis.com%2Fauth%2Fdrive.photos.readonly%20https%3A%2F%2Fwww.googleapis.com%2Fauth%2Fpeopleapi.readonly&response_type=code\n",
      "\n",
      "Enter your authorization code:\n",
      "··········\n",
      "Mounted at /content/gdrive\n"
     ]
    }
   ],
   "source": [
    "from google.colab import drive\n",
    "drive.mount('/content/gdrive')"
   ]
  },
  {
   "cell_type": "code",
   "execution_count": 4,
   "metadata": {
    "colab": {
     "base_uri": "https://localhost:8080/",
     "height": 34
    },
    "colab_type": "code",
    "id": "ndXQEJuOQ5Qe",
    "outputId": "837c6ad1-4990-4046-e40b-cf14e6560439"
   },
   "outputs": [
    {
     "name": "stdout",
     "output_type": "stream",
     "text": [
      "test.csv  train.feather\n"
     ]
    }
   ],
   "source": [
    "!ls \"/content/gdrive/My Drive/datasets\""
   ]
  },
  {
   "cell_type": "code",
   "execution_count": 5,
   "metadata": {
    "colab": {
     "base_uri": "https://localhost:8080/",
     "height": 258
    },
    "colab_type": "code",
    "id": "ZIocAhV5RLe_",
    "outputId": "cac894a7-6084-4492-d603-c208c1b38533"
   },
   "outputs": [
    {
     "name": "stdout",
     "output_type": "stream",
     "text": [
      "Collecting feather-format\n",
      "  Downloading https://files.pythonhosted.org/packages/08/55/940b97cc6f19a19f5dab9efef2f68a0ce43a7632f858b272391f0b851a7e/feather-format-0.4.0.tar.gz\n",
      "Collecting pyarrow>=0.4.0 (from feather-format)\n",
      "\u001b[?25l  Downloading https://files.pythonhosted.org/packages/c9/b8/076ebd968f3c6d4e9b6e5de696f0b19964a3d4b7dc020fd32db4e868ad74/pyarrow-0.10.0-cp36-cp36m-manylinux1_x86_64.whl (11.6MB)\n",
      "\u001b[K    100% |████████████████████████████████| 11.6MB 2.9MB/s \n",
      "\u001b[?25hRequirement already satisfied: six>=1.0.0 in /usr/local/lib/python3.6/dist-packages (from pyarrow>=0.4.0->feather-format) (1.11.0)\n",
      "Requirement already satisfied: numpy>=1.10 in /usr/local/lib/python3.6/dist-packages (from pyarrow>=0.4.0->feather-format) (1.14.5)\n",
      "Building wheels for collected packages: feather-format\n",
      "  Running setup.py bdist_wheel for feather-format ... \u001b[?25l-\b \b\\\b \bdone\n",
      "\u001b[?25h  Stored in directory: /root/.cache/pip/wheels/85/7d/12/2dfa5c0195f921ac935f5e8f27deada74972edc0ae9988a9c1\n",
      "Successfully built feather-format\n",
      "Installing collected packages: pyarrow, feather-format\n",
      "Successfully installed feather-format-0.4.0 pyarrow-0.10.0\n"
     ]
    }
   ],
   "source": [
    "!pip install feather-format"
   ]
  },
  {
   "cell_type": "code",
   "execution_count": 5,
   "metadata": {
    "colab": {
     "base_uri": "https://localhost:8080/",
     "height": 71
    },
    "colab_type": "code",
    "id": "gnuLhs0WRRsx",
    "outputId": "463ded1b-fda9-41e5-9144-495af61ef3b6"
   },
   "outputs": [
    {
     "name": "stderr",
     "output_type": "stream",
     "text": [
      "/usr/local/lib/python3.6/dist-packages/pandas/io/feather_format.py:112: FutureWarning: `nthreads` argument is deprecated, pass `use_threads` instead\n",
      "  return feather.read_dataframe(path, nthreads=nthreads)\n"
     ]
    }
   ],
   "source": [
    "#train_df = pd.read_feather(\"/content/gdrive/My Drive/datasets/train.feather\")\n",
    "train_df = pd.read_csv(\"train.csv\")"
   ]
  },
  {
   "cell_type": "markdown",
   "metadata": {
    "colab_type": "text",
    "id": "vGHNIJm4b53W"
   },
   "source": [
    "# Data Preprocessing Section and Feature Engineering"
   ]
  },
  {
   "cell_type": "code",
   "execution_count": 0,
   "metadata": {
    "colab": {},
    "colab_type": "code",
    "id": "U2jXs0-kbpsU"
   },
   "outputs": [],
   "source": []
  },
  {
   "cell_type": "code",
   "execution_count": 18,
   "metadata": {
    "colab": {
     "base_uri": "https://localhost:8080/",
     "height": 297
    },
    "colab_type": "code",
    "id": "7zGOA41hS3MD",
    "outputId": "44895c43-6db3-43e4-a47f-7e0796094885"
   },
   "outputs": [
    {
     "data": {
      "text/html": [
       "<div>\n",
       "<style scoped>\n",
       "    .dataframe tbody tr th:only-of-type {\n",
       "        vertical-align: middle;\n",
       "    }\n",
       "\n",
       "    .dataframe tbody tr th {\n",
       "        vertical-align: top;\n",
       "    }\n",
       "\n",
       "    .dataframe thead th {\n",
       "        text-align: right;\n",
       "    }\n",
       "</style>\n",
       "<table border=\"1\" class=\"dataframe\">\n",
       "  <thead>\n",
       "    <tr style=\"text-align: right;\">\n",
       "      <th></th>\n",
       "      <th>fare_amount</th>\n",
       "      <th>pickup_longitude</th>\n",
       "      <th>pickup_latitude</th>\n",
       "      <th>dropoff_longitude</th>\n",
       "      <th>dropoff_latitude</th>\n",
       "      <th>passenger_count</th>\n",
       "    </tr>\n",
       "  </thead>\n",
       "  <tbody>\n",
       "    <tr>\n",
       "      <th>count</th>\n",
       "      <td>5.542386e+07</td>\n",
       "      <td>5.542386e+07</td>\n",
       "      <td>5.542386e+07</td>\n",
       "      <td>5.542348e+07</td>\n",
       "      <td>5.542348e+07</td>\n",
       "      <td>5.542386e+07</td>\n",
       "    </tr>\n",
       "    <tr>\n",
       "      <th>mean</th>\n",
       "      <td>1.134503e+01</td>\n",
       "      <td>-7.250972e+01</td>\n",
       "      <td>3.991985e+01</td>\n",
       "      <td>-7.251106e+01</td>\n",
       "      <td>3.992067e+01</td>\n",
       "      <td>1.685380e+00</td>\n",
       "    </tr>\n",
       "    <tr>\n",
       "      <th>std</th>\n",
       "      <td>2.071083e+01</td>\n",
       "      <td>1.284888e+01</td>\n",
       "      <td>9.642353e+00</td>\n",
       "      <td>1.278220e+01</td>\n",
       "      <td>9.633346e+00</td>\n",
       "      <td>1.327664e+00</td>\n",
       "    </tr>\n",
       "    <tr>\n",
       "      <th>min</th>\n",
       "      <td>-3.000000e+02</td>\n",
       "      <td>-3.442060e+03</td>\n",
       "      <td>-3.492264e+03</td>\n",
       "      <td>-3.442025e+03</td>\n",
       "      <td>-3.547887e+03</td>\n",
       "      <td>0.000000e+00</td>\n",
       "    </tr>\n",
       "    <tr>\n",
       "      <th>25%</th>\n",
       "      <td>6.000000e+00</td>\n",
       "      <td>-7.399207e+01</td>\n",
       "      <td>4.073493e+01</td>\n",
       "      <td>-7.399140e+01</td>\n",
       "      <td>4.073403e+01</td>\n",
       "      <td>1.000000e+00</td>\n",
       "    </tr>\n",
       "    <tr>\n",
       "      <th>50%</th>\n",
       "      <td>8.500000e+00</td>\n",
       "      <td>-7.398180e+01</td>\n",
       "      <td>4.075265e+01</td>\n",
       "      <td>-7.398015e+01</td>\n",
       "      <td>4.075316e+01</td>\n",
       "      <td>1.000000e+00</td>\n",
       "    </tr>\n",
       "    <tr>\n",
       "      <th>75%</th>\n",
       "      <td>1.250000e+01</td>\n",
       "      <td>-7.396708e+01</td>\n",
       "      <td>4.076713e+01</td>\n",
       "      <td>-7.396368e+01</td>\n",
       "      <td>4.076810e+01</td>\n",
       "      <td>2.000000e+00</td>\n",
       "    </tr>\n",
       "    <tr>\n",
       "      <th>max</th>\n",
       "      <td>9.396336e+04</td>\n",
       "      <td>3.457626e+03</td>\n",
       "      <td>3.408790e+03</td>\n",
       "      <td>3.457622e+03</td>\n",
       "      <td>3.537133e+03</td>\n",
       "      <td>2.080000e+02</td>\n",
       "    </tr>\n",
       "  </tbody>\n",
       "</table>\n",
       "</div>"
      ],
      "text/plain": [
       "        fare_amount  pickup_longitude  pickup_latitude  dropoff_longitude  \\\n",
       "count  5.542386e+07      5.542386e+07     5.542386e+07       5.542348e+07   \n",
       "mean   1.134503e+01     -7.250972e+01     3.991985e+01      -7.251106e+01   \n",
       "std    2.071083e+01      1.284888e+01     9.642353e+00       1.278220e+01   \n",
       "min   -3.000000e+02     -3.442060e+03    -3.492264e+03      -3.442025e+03   \n",
       "25%    6.000000e+00     -7.399207e+01     4.073493e+01      -7.399140e+01   \n",
       "50%    8.500000e+00     -7.398180e+01     4.075265e+01      -7.398015e+01   \n",
       "75%    1.250000e+01     -7.396708e+01     4.076713e+01      -7.396368e+01   \n",
       "max    9.396336e+04      3.457626e+03     3.408790e+03       3.457622e+03   \n",
       "\n",
       "       dropoff_latitude  passenger_count  \n",
       "count      5.542348e+07     5.542386e+07  \n",
       "mean       3.992067e+01     1.685380e+00  \n",
       "std        9.633346e+00     1.327664e+00  \n",
       "min       -3.547887e+03     0.000000e+00  \n",
       "25%        4.073403e+01     1.000000e+00  \n",
       "50%        4.075316e+01     1.000000e+00  \n",
       "75%        4.076810e+01     2.000000e+00  \n",
       "max        3.537133e+03     2.080000e+02  "
      ]
     },
     "execution_count": 18,
     "metadata": {
      "tags": []
     },
     "output_type": "execute_result"
    }
   ],
   "source": [
    "train_df.describe()"
   ]
  },
  {
   "cell_type": "code",
   "execution_count": 0,
   "metadata": {
    "colab": {},
    "colab_type": "code",
    "id": "UtAo6BNjTBNQ"
   },
   "outputs": [],
   "source": [
    "train_df = train_df[(train_df['fare_amount']>0)]\n",
    "train_df = train_df[(train_df['fare_amount']<=50)]"
   ]
  },
  {
   "cell_type": "code",
   "execution_count": 0,
   "metadata": {
    "colab": {},
    "colab_type": "code",
    "id": "dZ8G5wKlTBIp"
   },
   "outputs": [],
   "source": [
    "#train_df = train_df[(train_df['pickup_latitude']>0)]\n",
    "train_df = train_df[(train_df['pickup_latitude']>39)] #-->111 #there are only 20 <39 and 111 greater than 4 so removing them\n",
    "train_df = train_df[(train_df['pickup_latitude']<42)]"
   ]
  },
  {
   "cell_type": "code",
   "execution_count": 0,
   "metadata": {
    "colab": {},
    "colab_type": "code",
    "id": "hyNIHhHOTBEt"
   },
   "outputs": [],
   "source": [
    "train_df = train_df[(train_df['pickup_longitude']>-75)]\n",
    "train_df = train_df[(train_df['pickup_longitude']<-72)]"
   ]
  },
  {
   "cell_type": "code",
   "execution_count": 0,
   "metadata": {
    "colab": {},
    "colab_type": "code",
    "id": "JWkM9RpbTBCP"
   },
   "outputs": [],
   "source": [
    "train_df = train_df[(train_df['dropoff_longitude']>-75)]\n",
    "train_df = train_df[(train_df['dropoff_longitude']<-72)]"
   ]
  },
  {
   "cell_type": "code",
   "execution_count": 0,
   "metadata": {
    "colab": {},
    "colab_type": "code",
    "id": "eUUtY1B2TA-K"
   },
   "outputs": [],
   "source": [
    "train_df = train_df[(train_df['dropoff_latitude']>39)] #-->111 #there are only 20 <39 and 111 greater than 4 so removing them\n",
    "train_df = train_df[(train_df['dropoff_latitude']<42)]"
   ]
  },
  {
   "cell_type": "code",
   "execution_count": 0,
   "metadata": {
    "colab": {},
    "colab_type": "code",
    "id": "hQ0Acdg6TA8K"
   },
   "outputs": [],
   "source": [
    "train_df = train_df[(train_df['passenger_count']>0)]"
   ]
  },
  {
   "cell_type": "code",
   "execution_count": 0,
   "metadata": {
    "colab": {},
    "colab_type": "code",
    "id": "f0NCdKI7Y8hi"
   },
   "outputs": [],
   "source": [
    "#Adding features based on date time parameter"
   ]
  },
  {
   "cell_type": "code",
   "execution_count": 0,
   "metadata": {
    "colab": {},
    "colab_type": "code",
    "id": "lf5a0ZzmYZRT"
   },
   "outputs": [],
   "source": [
    "train_df['pickup_datetime'] = pd.to_datetime(train_df['pickup_datetime'])"
   ]
  },
  {
   "cell_type": "code",
   "execution_count": 0,
   "metadata": {
    "colab": {},
    "colab_type": "code",
    "id": "CgRU7G6oYaVy"
   },
   "outputs": [],
   "source": [
    "train_df['year'] = train_df['pickup_datetime'].dt.year"
   ]
  },
  {
   "cell_type": "code",
   "execution_count": 0,
   "metadata": {
    "colab": {},
    "colab_type": "code",
    "id": "MvaxgRR0Yg8c"
   },
   "outputs": [],
   "source": [
    "train_df['day'] = train_df['pickup_datetime'].dt.weekday"
   ]
  },
  {
   "cell_type": "code",
   "execution_count": 0,
   "metadata": {
    "colab": {},
    "colab_type": "code",
    "id": "uW9YFXMXYrio"
   },
   "outputs": [],
   "source": [
    "train_df[\"hour\"] = pd.Series(train_df[\"pickup_datetime\"].dt.hour.values,index = train_df.index)"
   ]
  },
  {
   "cell_type": "markdown",
   "metadata": {
    "colab_type": "text",
    "id": "qUmv4DaiYiaP"
   },
   "source": [
    "**Spherical, Eucledian, Manhattan distance,location based features**"
   ]
  },
  {
   "cell_type": "code",
   "execution_count": 0,
   "metadata": {
    "colab": {},
    "colab_type": "code",
    "id": "m_LvRhBGYh-3"
   },
   "outputs": [],
   "source": []
  },
  {
   "cell_type": "code",
   "execution_count": 0,
   "metadata": {
    "colab": {},
    "colab_type": "code",
    "id": "RUFuEr-xULNU"
   },
   "outputs": [],
   "source": [
    "def distanceH(pickup1,pickup2,destination1,destination2):   #spherical distance  \n",
    "    lat1, lon1 = pickup1,pickup2\n",
    "    lat2, lon2 = destination1,destination2\n",
    "    radius = 3959 # miles\n",
    "\n",
    "    dlat = np.radians(lat2-lat1)\n",
    "    dlon = np.radians(lon2-lon1)\n",
    "    a = np.sin(dlat/2) * np.sin(dlat/2) + np.cos(np.radians(lat1)) * np.cos(np.radians(lat2)) * np.sin(dlon/2) * np.sin(dlon/2)\n",
    "    c = 2 * np.arctan2(np.sqrt(a), np.sqrt(1-a))\n",
    "    d = radius * c\n",
    "    d = pd.Series(d,index = train_df.index)\n",
    "\n",
    "    return d"
   ]
  },
  {
   "cell_type": "code",
   "execution_count": 0,
   "metadata": {
    "colab": {},
    "colab_type": "code",
    "id": "QIC2V5U7ULKM"
   },
   "outputs": [],
   "source": [
    "def distanceE(pickup1,pickup2,destination1,destination2):  #Eucledian\n",
    "    a = (destination1 - pickup1)*69\n",
    "    b = (destination2 - pickup2)*69\n",
    "    d = a**2+b**2\n",
    "    c = np.sqrt(d)\n",
    "    c = pd.Series(c,index = train_df.index)\n",
    "    return c"
   ]
  },
  {
   "cell_type": "code",
   "execution_count": 0,
   "metadata": {
    "colab": {},
    "colab_type": "code",
    "id": "nn2E_XFuhgMo"
   },
   "outputs": [],
   "source": [
    "def distanceM(pickup1,pickup2,destination1,destination2):\n",
    "  c = np.abs((pickup1 - destination1)*69) + np.abs((pickup2 - destination2) * 69)\n",
    "  c = pd.Series(c,index = train_df.index)\n",
    "  return c\n",
    "  \n",
    "  "
   ]
  },
  {
   "cell_type": "code",
   "execution_count": 0,
   "metadata": {
    "colab": {},
    "colab_type": "code",
    "id": "1y6mxWjxULGa"
   },
   "outputs": [],
   "source": [
    "a = train_df['pickup_latitude'].values\n",
    "b = train_df['pickup_longitude'].values\n",
    "c = train_df['dropoff_latitude'].values\n",
    "d = train_df['dropoff_longitude'].values"
   ]
  },
  {
   "cell_type": "code",
   "execution_count": 0,
   "metadata": {
    "colab": {},
    "colab_type": "code",
    "id": "vYYKJ36jULEc"
   },
   "outputs": [],
   "source": [
    "dist = distanceH(train_df['pickup_latitude'].values,train_df['pickup_longitude'].values,train_df['dropoff_latitude'].values,train_df['dropoff_longitude'].values)\n",
    "#dist = pd.Series(dist,index = train_df.index)\n",
    "train_df['distance_sp'] = dist"
   ]
  },
  {
   "cell_type": "code",
   "execution_count": 0,
   "metadata": {
    "colab": {},
    "colab_type": "code",
    "id": "XdUR6C8IULAd"
   },
   "outputs": [],
   "source": [
    "dist1 = distanceE(train_df['pickup_latitude'].values,train_df['pickup_longitude'].values,train_df['dropoff_latitude'].values,train_df['dropoff_longitude'].values)\n",
    "#dist1 = pd.Series(dist1,index = train_df.index)\n",
    "train_df['distance_eucle'] = dist1\n"
   ]
  },
  {
   "cell_type": "code",
   "execution_count": 0,
   "metadata": {
    "colab": {},
    "colab_type": "code",
    "id": "XciV6Wv7iHZR"
   },
   "outputs": [],
   "source": [
    "dist2 = distanceM(train_df['pickup_latitude'].values,train_df['pickup_longitude'].values,train_df['dropoff_latitude'].values,train_df['dropoff_longitude'].values)\n",
    "#dist2 = pd.Series(dist2,index = train_df.index)\n",
    "train_df['distance_manh'] = dist2"
   ]
  },
  {
   "cell_type": "code",
   "execution_count": 0,
   "metadata": {
    "colab": {},
    "colab_type": "code",
    "id": "lCuwS6yTbWXI"
   },
   "outputs": [],
   "source": [
    "train_df = train_df[(train_df['distance_eucle']<40)]"
   ]
  },
  {
   "cell_type": "markdown",
   "metadata": {
    "colab_type": "text",
    "id": "54eP8ZPxfGHD"
   },
   "source": [
    "**Feature Engineering based on Location**\n",
    "\n",
    "Central Park: 40.785091, -73.968285\n",
    "Penn Station: 40.750580, -73.993584\n",
    "Grand central: 40.7527° ,- 73.9772\n",
    "La Gaurdia: 40.7769° ,- 73.8740\n",
    "JFK: 40.6413° , 73.7781° \n",
    "Newark Airport: 40.6895° N, 74.1745° W\n",
    "\n",
    "\n",
    "\n",
    "\n",
    "\n"
   ]
  },
  {
   "cell_type": "code",
   "execution_count": 0,
   "metadata": {
    "colab": {},
    "colab_type": "code",
    "id": "x6JwQpN2fFAu"
   },
   "outputs": [],
   "source": [
    "nyc1 = [40.785091, -73.968285]\n",
    "nyc2 = [40.750580, -73.993584]\n",
    "nyc3 = [40.7527 ,-73.9772]\n",
    "nyc4 = [0.7769 ,-73.8740]\n",
    "nyc5 = [40.6413 ,-73.7781 ]\n",
    "nyc6 = [40.6895,-74.1745]\n"
   ]
  },
  {
   "cell_type": "code",
   "execution_count": 0,
   "metadata": {
    "colab": {},
    "colab_type": "code",
    "id": "gmwb76qa1kvw"
   },
   "outputs": [],
   "source": [
    "Central Park: 40.785091, -73.968285\n",
    "Penn Station: 40.750580, -73.993584\n",
    "Grand central: 40.7527° ,- 73.9772\n",
    "La Gaurdia: 40.7769° ,- 73.8740\n",
    "JFK: 40.6413° , 73.7781° \n",
    "Newark Airport: 40.6895° N, 74.1745° W\n"
   ]
  },
  {
   "cell_type": "code",
   "execution_count": 0,
   "metadata": {
    "colab": {},
    "colab_type": "code",
    "id": "gQIx76utdq1g"
   },
   "outputs": [],
   "source": [
    "train_df[\"cp\"] = distanceE(train_df['pickup_latitude'].values,train_df['pickup_longitude'].values,nyc1[0],nyc1[1])\n",
    "train_df[\"ps\"] = distanceE(train_df['pickup_latitude'].values,train_df['pickup_longitude'].values,nyc2[0],nyc2[1])\n",
    "train_df[\"gc\"] = distanceE(train_df['pickup_latitude'].values,train_df['pickup_longitude'].values,nyc3[0],nyc3[1])\n",
    "train_df[\"lg\"] = distanceE(train_df['pickup_latitude'].values,train_df['pickup_longitude'].values,nyc4[0],nyc4[1])\n",
    "train_df[\"jf\"] = distanceE(train_df['pickup_latitude'].values,train_df['pickup_longitude'].values,nyc5[0],nyc5[1])\n",
    "train_df[\"nw\"] = distanceE(train_df['pickup_latitude'].values,train_df['pickup_longitude'].values,nyc6[0],nyc6[1])\n",
    "train_df[\"cp1\"] = distanceE(train_df['dropoff_latitude'].values,train_df['dropoff_longitude'].values,nyc1[0],nyc1[1])\n",
    "train_df[\"ps1\"] = distanceE(train_df['dropoff_latitude'].values,train_df['dropoff_longitude'].values,nyc2[0],nyc2[1])\n",
    "train_df[\"gc1\"] = distanceE(train_df['dropoff_latitude'].values,train_df['dropoff_longitude'].values,nyc3[0],nyc3[1])\n",
    "train_df[\"lg1\"] = distanceE(train_df['dropoff_latitude'].values,train_df['dropoff_longitude'].values,nyc4[0],nyc4[1])\n",
    "train_df[\"jf1\"] = distanceE(train_df['dropoff_latitude'].values,train_df['dropoff_longitude'].values,nyc5[0],nyc5[1])\n",
    "train_df[\"nw1\"] = distanceE(train_df['dropoff_latitude'].values,train_df['dropoff_longitude'].values,nyc6[0],nyc6[1])"
   ]
  },
  {
   "cell_type": "code",
   "execution_count": 1,
   "metadata": {
    "colab": {
     "base_uri": "https://localhost:8080/",
     "height": 778
    },
    "colab_type": "code",
    "id": "CKayKRUDdqzT",
    "outputId": "e1f063bf-671e-44d7-9aea-4f00268f3315"
   },
   "outputs": [],
   "source": [
    "train_df.to_csv('train1.feather')"
   ]
  },
  {
   "cell_type": "code",
   "execution_count": 27,
   "metadata": {
    "colab": {
     "base_uri": "https://localhost:8080/",
     "height": 317
    },
    "colab_type": "code",
    "id": "E7Hgs-dgfmcG",
    "outputId": "59a644b8-3120-454c-b9a9-466ccac447ca"
   },
   "outputs": [
    {
     "data": {
      "text/html": [
       "<div>\n",
       "<style scoped>\n",
       "    .dataframe tbody tr th:only-of-type {\n",
       "        vertical-align: middle;\n",
       "    }\n",
       "\n",
       "    .dataframe tbody tr th {\n",
       "        vertical-align: top;\n",
       "    }\n",
       "\n",
       "    .dataframe thead th {\n",
       "        text-align: right;\n",
       "    }\n",
       "</style>\n",
       "<table border=\"1\" class=\"dataframe\">\n",
       "  <thead>\n",
       "    <tr style=\"text-align: right;\">\n",
       "      <th></th>\n",
       "      <th>fare_amount</th>\n",
       "      <th>pickup_longitude</th>\n",
       "      <th>pickup_latitude</th>\n",
       "      <th>dropoff_longitude</th>\n",
       "      <th>dropoff_latitude</th>\n",
       "      <th>passenger_count</th>\n",
       "      <th>distance_sp</th>\n",
       "      <th>distance_eucle</th>\n",
       "      <th>distance_manh</th>\n",
       "    </tr>\n",
       "  </thead>\n",
       "  <tbody>\n",
       "    <tr>\n",
       "      <th>count</th>\n",
       "      <td>5.337549e+07</td>\n",
       "      <td>5.337549e+07</td>\n",
       "      <td>5.337549e+07</td>\n",
       "      <td>5.337549e+07</td>\n",
       "      <td>5.337549e+07</td>\n",
       "      <td>5.337549e+07</td>\n",
       "      <td>5.337549e+07</td>\n",
       "      <td>5.337549e+07</td>\n",
       "      <td>5.337549e+07</td>\n",
       "    </tr>\n",
       "    <tr>\n",
       "      <th>mean</th>\n",
       "      <td>1.069499e+01</td>\n",
       "      <td>-7.397183e+01</td>\n",
       "      <td>4.075023e+01</td>\n",
       "      <td>-7.397065e+01</td>\n",
       "      <td>4.075037e+01</td>\n",
       "      <td>1.690683e+00</td>\n",
       "      <td>1.946789e+00</td>\n",
       "      <td>2.204092e+00</td>\n",
       "      <td>4.125143e-02</td>\n",
       "    </tr>\n",
       "    <tr>\n",
       "      <th>std</th>\n",
       "      <td>7.715761e+00</td>\n",
       "      <td>3.526749e-02</td>\n",
       "      <td>2.920402e-02</td>\n",
       "      <td>3.492744e-02</td>\n",
       "      <td>3.281778e-02</td>\n",
       "      <td>1.313596e+00</td>\n",
       "      <td>1.949486e+00</td>\n",
       "      <td>2.299361e+00</td>\n",
       "      <td>4.305605e-02</td>\n",
       "    </tr>\n",
       "    <tr>\n",
       "      <th>min</th>\n",
       "      <td>1.000000e-02</td>\n",
       "      <td>-7.499804e+01</td>\n",
       "      <td>3.903129e+01</td>\n",
       "      <td>-7.499828e+01</td>\n",
       "      <td>3.901662e+01</td>\n",
       "      <td>1.000000e+00</td>\n",
       "      <td>0.000000e+00</td>\n",
       "      <td>0.000000e+00</td>\n",
       "      <td>0.000000e+00</td>\n",
       "    </tr>\n",
       "    <tr>\n",
       "      <th>25%</th>\n",
       "      <td>6.000000e+00</td>\n",
       "      <td>-7.399233e+01</td>\n",
       "      <td>4.073690e+01</td>\n",
       "      <td>-7.399156e+01</td>\n",
       "      <td>4.073606e+01</td>\n",
       "      <td>1.000000e+00</td>\n",
       "      <td>7.746398e-01</td>\n",
       "      <td>8.786609e-01</td>\n",
       "      <td>1.626587e-02</td>\n",
       "    </tr>\n",
       "    <tr>\n",
       "      <th>50%</th>\n",
       "      <td>8.500000e+00</td>\n",
       "      <td>-7.398216e+01</td>\n",
       "      <td>4.075356e+01</td>\n",
       "      <td>-7.398064e+01</td>\n",
       "      <td>4.075404e+01</td>\n",
       "      <td>1.000000e+00</td>\n",
       "      <td>1.323486e+00</td>\n",
       "      <td>1.487754e+00</td>\n",
       "      <td>2.779770e-02</td>\n",
       "    </tr>\n",
       "    <tr>\n",
       "      <th>75%</th>\n",
       "      <td>1.250000e+01</td>\n",
       "      <td>-7.396863e+01</td>\n",
       "      <td>4.076767e+01</td>\n",
       "      <td>-7.396562e+01</td>\n",
       "      <td>4.076846e+01</td>\n",
       "      <td>2.000000e+00</td>\n",
       "      <td>2.371383e+00</td>\n",
       "      <td>2.605871e+00</td>\n",
       "      <td>4.954910e-02</td>\n",
       "    </tr>\n",
       "    <tr>\n",
       "      <th>max</th>\n",
       "      <td>5.000000e+01</td>\n",
       "      <td>-7.204471e+01</td>\n",
       "      <td>4.199717e+01</td>\n",
       "      <td>-7.201388e+01</td>\n",
       "      <td>4.199665e+01</td>\n",
       "      <td>2.080000e+02</td>\n",
       "      <td>6.005273e+01</td>\n",
       "      <td>5.998876e+01</td>\n",
       "      <td>1.227604e+00</td>\n",
       "    </tr>\n",
       "  </tbody>\n",
       "</table>\n",
       "</div>"
      ],
      "text/plain": [
       "        fare_amount  pickup_longitude  pickup_latitude  dropoff_longitude  \\\n",
       "count  5.337549e+07      5.337549e+07     5.337549e+07       5.337549e+07   \n",
       "mean   1.069499e+01     -7.397183e+01     4.075023e+01      -7.397065e+01   \n",
       "std    7.715761e+00      3.526749e-02     2.920402e-02       3.492744e-02   \n",
       "min    1.000000e-02     -7.499804e+01     3.903129e+01      -7.499828e+01   \n",
       "25%    6.000000e+00     -7.399233e+01     4.073690e+01      -7.399156e+01   \n",
       "50%    8.500000e+00     -7.398216e+01     4.075356e+01      -7.398064e+01   \n",
       "75%    1.250000e+01     -7.396863e+01     4.076767e+01      -7.396562e+01   \n",
       "max    5.000000e+01     -7.204471e+01     4.199717e+01      -7.201388e+01   \n",
       "\n",
       "       dropoff_latitude  passenger_count   distance_sp  distance_eucle  \\\n",
       "count      5.337549e+07     5.337549e+07  5.337549e+07    5.337549e+07   \n",
       "mean       4.075037e+01     1.690683e+00  1.946789e+00    2.204092e+00   \n",
       "std        3.281778e-02     1.313596e+00  1.949486e+00    2.299361e+00   \n",
       "min        3.901662e+01     1.000000e+00  0.000000e+00    0.000000e+00   \n",
       "25%        4.073606e+01     1.000000e+00  7.746398e-01    8.786609e-01   \n",
       "50%        4.075404e+01     1.000000e+00  1.323486e+00    1.487754e+00   \n",
       "75%        4.076846e+01     2.000000e+00  2.371383e+00    2.605871e+00   \n",
       "max        4.199665e+01     2.080000e+02  6.005273e+01    5.998876e+01   \n",
       "\n",
       "       distance_manh  \n",
       "count   5.337549e+07  \n",
       "mean    4.125143e-02  \n",
       "std     4.305605e-02  \n",
       "min     0.000000e+00  \n",
       "25%     1.626587e-02  \n",
       "50%     2.779770e-02  \n",
       "75%     4.954910e-02  \n",
       "max     1.227604e+00  "
      ]
     },
     "execution_count": 27,
     "metadata": {
      "tags": []
     },
     "output_type": "execute_result"
    }
   ],
   "source": []
  },
  {
   "cell_type": "code",
   "execution_count": 0,
   "metadata": {
    "colab": {},
    "colab_type": "code",
    "id": "0WqrJJFoc_6L"
   },
   "outputs": [],
   "source": []
  },
  {
   "cell_type": "markdown",
   "metadata": {
    "colab_type": "text",
    "id": "v9t19BRsbjQ4"
   },
   "source": [
    "# Pearson Coefficent"
   ]
  },
  {
   "cell_type": "code",
   "execution_count": 0,
   "metadata": {
    "colab": {},
    "colab_type": "code",
    "id": "zhjKhKlubigX"
   },
   "outputs": [],
   "source": []
  },
  {
   "cell_type": "code",
   "execution_count": 0,
   "metadata": {
    "colab": {},
    "colab_type": "code",
    "id": "xVe9ZzIWcGc9"
   },
   "outputs": [],
   "source": [
    "train_df_small = train_df.iloc[0:300000,]"
   ]
  },
  {
   "cell_type": "code",
   "execution_count": 29,
   "metadata": {
    "colab": {
     "base_uri": "https://localhost:8080/",
     "height": 317
    },
    "colab_type": "code",
    "id": "PDUtGvt8cPRX",
    "outputId": "877a08ae-bf5a-462c-b48d-5fa1a52f66a4"
   },
   "outputs": [
    {
     "data": {
      "text/html": [
       "<div>\n",
       "<style scoped>\n",
       "    .dataframe tbody tr th:only-of-type {\n",
       "        vertical-align: middle;\n",
       "    }\n",
       "\n",
       "    .dataframe tbody tr th {\n",
       "        vertical-align: top;\n",
       "    }\n",
       "\n",
       "    .dataframe thead th {\n",
       "        text-align: right;\n",
       "    }\n",
       "</style>\n",
       "<table border=\"1\" class=\"dataframe\">\n",
       "  <thead>\n",
       "    <tr style=\"text-align: right;\">\n",
       "      <th></th>\n",
       "      <th>fare_amount</th>\n",
       "      <th>pickup_longitude</th>\n",
       "      <th>pickup_latitude</th>\n",
       "      <th>dropoff_longitude</th>\n",
       "      <th>dropoff_latitude</th>\n",
       "      <th>passenger_count</th>\n",
       "      <th>distance_sp</th>\n",
       "      <th>distance_eucle</th>\n",
       "      <th>distance_manh</th>\n",
       "    </tr>\n",
       "  </thead>\n",
       "  <tbody>\n",
       "    <tr>\n",
       "      <th>count</th>\n",
       "      <td>300000.000000</td>\n",
       "      <td>300000.000000</td>\n",
       "      <td>300000.000000</td>\n",
       "      <td>300000.000000</td>\n",
       "      <td>300000.000000</td>\n",
       "      <td>300000.000000</td>\n",
       "      <td>300000.000000</td>\n",
       "      <td>300000.000000</td>\n",
       "      <td>300000.000000</td>\n",
       "    </tr>\n",
       "    <tr>\n",
       "      <th>mean</th>\n",
       "      <td>10.714894</td>\n",
       "      <td>-73.976303</td>\n",
       "      <td>40.751472</td>\n",
       "      <td>-73.974617</td>\n",
       "      <td>40.751759</td>\n",
       "      <td>1.690723</td>\n",
       "      <td>1.951299</td>\n",
       "      <td>2.210012</td>\n",
       "      <td>0.041353</td>\n",
       "    </tr>\n",
       "    <tr>\n",
       "      <th>std</th>\n",
       "      <td>7.738379</td>\n",
       "      <td>0.035167</td>\n",
       "      <td>0.029479</td>\n",
       "      <td>0.035101</td>\n",
       "      <td>0.033186</td>\n",
       "      <td>1.307768</td>\n",
       "      <td>1.949647</td>\n",
       "      <td>2.299893</td>\n",
       "      <td>0.043002</td>\n",
       "    </tr>\n",
       "    <tr>\n",
       "      <th>min</th>\n",
       "      <td>0.010000</td>\n",
       "      <td>-74.968140</td>\n",
       "      <td>39.449402</td>\n",
       "      <td>-74.960022</td>\n",
       "      <td>39.449402</td>\n",
       "      <td>1.000000</td>\n",
       "      <td>0.000000</td>\n",
       "      <td>0.000000</td>\n",
       "      <td>0.000000</td>\n",
       "    </tr>\n",
       "    <tr>\n",
       "      <th>25%</th>\n",
       "      <td>6.000000</td>\n",
       "      <td>-73.992317</td>\n",
       "      <td>40.736938</td>\n",
       "      <td>-73.991508</td>\n",
       "      <td>40.736069</td>\n",
       "      <td>1.000000</td>\n",
       "      <td>0.776348</td>\n",
       "      <td>0.880396</td>\n",
       "      <td>0.016304</td>\n",
       "    </tr>\n",
       "    <tr>\n",
       "      <th>50%</th>\n",
       "      <td>8.500000</td>\n",
       "      <td>-73.982117</td>\n",
       "      <td>40.753662</td>\n",
       "      <td>-73.980598</td>\n",
       "      <td>40.754074</td>\n",
       "      <td>1.000000</td>\n",
       "      <td>1.325815</td>\n",
       "      <td>1.492152</td>\n",
       "      <td>0.027882</td>\n",
       "    </tr>\n",
       "    <tr>\n",
       "      <th>75%</th>\n",
       "      <td>12.500000</td>\n",
       "      <td>-73.968651</td>\n",
       "      <td>40.767632</td>\n",
       "      <td>-73.965515</td>\n",
       "      <td>40.768444</td>\n",
       "      <td>2.000000</td>\n",
       "      <td>2.379210</td>\n",
       "      <td>2.614583</td>\n",
       "      <td>0.049703</td>\n",
       "    </tr>\n",
       "    <tr>\n",
       "      <th>max</th>\n",
       "      <td>50.000000</td>\n",
       "      <td>-72.702873</td>\n",
       "      <td>41.800251</td>\n",
       "      <td>-72.694839</td>\n",
       "      <td>41.923820</td>\n",
       "      <td>6.000000</td>\n",
       "      <td>60.052727</td>\n",
       "      <td>59.974251</td>\n",
       "      <td>1.049328</td>\n",
       "    </tr>\n",
       "  </tbody>\n",
       "</table>\n",
       "</div>"
      ],
      "text/plain": [
       "         fare_amount  pickup_longitude  pickup_latitude  dropoff_longitude  \\\n",
       "count  300000.000000     300000.000000    300000.000000      300000.000000   \n",
       "mean       10.714894        -73.976303        40.751472         -73.974617   \n",
       "std         7.738379          0.035167         0.029479           0.035101   \n",
       "min         0.010000        -74.968140        39.449402         -74.960022   \n",
       "25%         6.000000        -73.992317        40.736938         -73.991508   \n",
       "50%         8.500000        -73.982117        40.753662         -73.980598   \n",
       "75%        12.500000        -73.968651        40.767632         -73.965515   \n",
       "max        50.000000        -72.702873        41.800251         -72.694839   \n",
       "\n",
       "       dropoff_latitude  passenger_count    distance_sp  distance_eucle  \\\n",
       "count     300000.000000    300000.000000  300000.000000   300000.000000   \n",
       "mean          40.751759         1.690723       1.951299        2.210012   \n",
       "std            0.033186         1.307768       1.949647        2.299893   \n",
       "min           39.449402         1.000000       0.000000        0.000000   \n",
       "25%           40.736069         1.000000       0.776348        0.880396   \n",
       "50%           40.754074         1.000000       1.325815        1.492152   \n",
       "75%           40.768444         2.000000       2.379210        2.614583   \n",
       "max           41.923820         6.000000      60.052727       59.974251   \n",
       "\n",
       "       distance_manh  \n",
       "count  300000.000000  \n",
       "mean        0.041353  \n",
       "std         0.043002  \n",
       "min         0.000000  \n",
       "25%         0.016304  \n",
       "50%         0.027882  \n",
       "75%         0.049703  \n",
       "max         1.049328  "
      ]
     },
     "execution_count": 29,
     "metadata": {
      "tags": []
     },
     "output_type": "execute_result"
    }
   ],
   "source": [
    "#ana\n",
    "train_df_small.describe()"
   ]
  },
  {
   "cell_type": "code",
   "execution_count": 56,
   "metadata": {
    "colab": {
     "base_uri": "https://localhost:8080/",
     "height": 187
    },
    "colab_type": "code",
    "id": "jvA2JWnOcieA",
    "outputId": "cfce703f-78b5-4263-91eb-86c9d6617779"
   },
   "outputs": [
    {
     "data": {
      "text/plain": [
       "fare_amount          666\n",
       "pickup_datetime      666\n",
       "pickup_longitude     666\n",
       "pickup_latitude      666\n",
       "dropoff_longitude    666\n",
       "dropoff_latitude     666\n",
       "passenger_count      666\n",
       "distance_sp          666\n",
       "distance_eucle       666\n",
       "dtype: int64"
      ]
     },
     "execution_count": 56,
     "metadata": {
      "tags": []
     },
     "output_type": "execute_result"
    }
   ],
   "source": [
    "#ana\n",
    "train_df_small[train_df_small[\"fare_amount\"]>60].count()"
   ]
  },
  {
   "cell_type": "code",
   "execution_count": 0,
   "metadata": {
    "colab": {},
    "colab_type": "code",
    "id": "cVmH-EgScHeq"
   },
   "outputs": [],
   "source": [
    "#2 and 3"
   ]
  },
  {
   "cell_type": "code",
   "execution_count": 22,
   "metadata": {
    "colab": {
     "base_uri": "https://localhost:8080/",
     "height": 34
    },
    "colab_type": "code",
    "id": "MhepxiKnWnWO",
    "outputId": "c3334049-a81b-44e6-8856-709eb7c6eba5"
   },
   "outputs": [
    {
     "data": {
      "text/plain": [
       "(0.87588155, 0.0)"
      ]
     },
     "execution_count": 22,
     "metadata": {
      "tags": []
     },
     "output_type": "execute_result"
    }
   ],
   "source": [
    "#Eucledian distance vs fare amount\n",
    "p_coef = sc.stats.pearsonr(train_df[\"distance_eucle\"].values,train_df[\"fare_amount\"].values)\n",
    "p_coef"
   ]
  },
  {
   "cell_type": "code",
   "execution_count": 23,
   "metadata": {
    "colab": {
     "base_uri": "https://localhost:8080/",
     "height": 364
    },
    "colab_type": "code",
    "id": "ar2gumEQZO50",
    "outputId": "44f2ac3f-a779-4d14-d65d-4d2bca21fcde"
   },
   "outputs": [
    {
     "data": {
      "text/plain": [
       "<matplotlib.collections.PathCollection at 0x7f76ef75f3c8>"
      ]
     },
     "execution_count": 23,
     "metadata": {
      "tags": []
     },
     "output_type": "execute_result"
    },
    {
     "data": {
      "image/png": "[encoded data removed]",
      "text/plain": [
       "<matplotlib.figure.Figure at 0x7f76ef7ce470>"
      ]
     },
     "metadata": {
      "tags": []
     },
     "output_type": "display_data"
    }
   ],
   "source": [
    "plt.scatter(train_df_small[\"fare_amount\"].values, train_df_small[\"distance_eucle\"].values )"
   ]
  },
  {
   "cell_type": "markdown",
   "metadata": {
    "colab_type": "text",
    "id": "719X9WDggWCt"
   },
   "source": [
    "From this we can observe though pearson coeffiecnt is quite high that there are still few outliers in our data for example for eucldian distance of 60 fare is less than 10 and for in many cases eucldian distance of 10 fare is 50, so though it shows some strong relationship eucledian distance is not a great parameter. One thing I will try to dind out is as NYC has grid road system we should only find out distance between lattitude and logitude and not the eucledian distance."
   ]
  },
  {
   "cell_type": "code",
   "execution_count": 31,
   "metadata": {
    "colab": {
     "base_uri": "https://localhost:8080/",
     "height": 34
    },
    "colab_type": "code",
    "id": "t8fUePA9gN4y",
    "outputId": "285258d4-e035-4d3f-a979-b5f37d853fbd"
   },
   "outputs": [
    {
     "data": {
      "text/plain": [
       "(0.8584743, 0.0)"
      ]
     },
     "execution_count": 31,
     "metadata": {
      "tags": []
     },
     "output_type": "execute_result"
    }
   ],
   "source": [
    "#Manhattan Distance to fare_amount\n",
    "p_coef = sc.stats.pearsonr(train_df[\"distance_manh\"].values,train_df[\"fare_amount\"].values)\n",
    "p_coef"
   ]
  },
  {
   "cell_type": "code",
   "execution_count": 32,
   "metadata": {
    "colab": {
     "base_uri": "https://localhost:8080/",
     "height": 364
    },
    "colab_type": "code",
    "id": "jhqvVTKkjOnx",
    "outputId": "b2563680-04b5-48eb-b82d-612ba5643a37"
   },
   "outputs": [
    {
     "data": {
      "text/plain": [
       "<matplotlib.collections.PathCollection at 0x7f76ecd257b8>"
      ]
     },
     "execution_count": 32,
     "metadata": {
      "tags": []
     },
     "output_type": "execute_result"
    },
    {
     "data": {
      "image/png": "[encoded data removed]",
      "text/plain": [
       "<matplotlib.figure.Figure at 0x7f76ecee3dd8>"
      ]
     },
     "metadata": {
      "tags": []
     },
     "output_type": "display_data"
    }
   ],
   "source": [
    "plt.scatter(train_df_small[\"fare_amount\"].values, train_df_small[\"distance_manh\"].values )"
   ]
  },
  {
   "cell_type": "markdown",
   "metadata": {
    "colab_type": "text",
    "id": "eVtGks91jaBe"
   },
   "source": [
    "This at least shows some similarity but somehow pearson coefficent is less! moving on I hust realised why manhattan distance is called Manhattan Distance."
   ]
  },
  {
   "cell_type": "code",
   "execution_count": 37,
   "metadata": {
    "colab": {
     "base_uri": "https://localhost:8080/",
     "height": 34
    },
    "colab_type": "code",
    "id": "3Siak22nWtkF",
    "outputId": "9b23c165-6651-435a-ee2b-f0226570059f"
   },
   "outputs": [
    {
     "data": {
      "text/plain": [
       "(0.8684897, 0.0)"
      ]
     },
     "execution_count": 37,
     "metadata": {
      "tags": []
     },
     "output_type": "execute_result"
    }
   ],
   "source": [
    "#Spherical distance vs fare amount\n",
    "p_coef = sc.stats.pearsonr(train_df[\"distance_sp\"].values,train_df[\"fare_amount\"].values)\n",
    "p_coef"
   ]
  },
  {
   "cell_type": "code",
   "execution_count": 42,
   "metadata": {
    "colab": {
     "base_uri": "https://localhost:8080/",
     "height": 34
    },
    "colab_type": "code",
    "id": "QhCUugzGUK-i",
    "outputId": "394e007d-6d0f-42bb-cc64-fca8471288ac"
   },
   "outputs": [
    {
     "data": {
      "text/plain": [
       "(-0.017511104531376453, 0.0)"
      ]
     },
     "execution_count": 42,
     "metadata": {
      "tags": []
     },
     "output_type": "execute_result"
    }
   ],
   "source": [
    "#time of day vs taxi fare\n",
    "p_coef = sc.stats.pearsonr(train_df[\"pickup_datetime\"].dt.hour.values,train_df[\"fare_amount\"].values)\n",
    "p_coef"
   ]
  },
  {
   "cell_type": "code",
   "execution_count": 36,
   "metadata": {
    "colab": {
     "base_uri": "https://localhost:8080/",
     "height": 418
    },
    "colab_type": "code",
    "id": "ESy5GMukjuZy",
    "outputId": "297fd64f-0dbc-449e-fcb8-9a03dded1ae7"
   },
   "outputs": [
    {
     "name": "stderr",
     "output_type": "stream",
     "text": [
      "/usr/local/lib/python3.6/dist-packages/seaborn/categorical.py:1428: FutureWarning: remove_na is deprecated and is a private function. Do not use.\n",
      "  stat_data = remove_na(group_data)\n"
     ]
    },
    {
     "data": {
      "text/plain": [
       "<matplotlib.axes._subplots.AxesSubplot at 0x7f76ecba3a58>"
      ]
     },
     "execution_count": 36,
     "metadata": {
      "tags": []
     },
     "output_type": "execute_result"
    },
    {
     "data": {
      "image/png": "[encoded data removed]",
      "text/plain": [
       "<matplotlib.figure.Figure at 0x7f76ecbdf320>"
      ]
     },
     "metadata": {
      "tags": []
     },
     "output_type": "display_data"
    }
   ],
   "source": [
    "sns.barplot(x=train_df_small[\"pickup_datetime\"].dt.hour.values,y=train_df_small[\"fare_amount\"].values)"
   ]
  },
  {
   "cell_type": "code",
   "execution_count": 41,
   "metadata": {
    "colab": {
     "base_uri": "https://localhost:8080/",
     "height": 34
    },
    "colab_type": "code",
    "id": "Psm4BCo0VKv4",
    "outputId": "8a22cefe-c0b9-4a5e-bdab-0e6e89b73d70"
   },
   "outputs": [
    {
     "data": {
      "text/plain": [
       "(-0.02661902126030445, 0.0)"
      ]
     },
     "execution_count": 41,
     "metadata": {
      "tags": []
     },
     "output_type": "execute_result"
    }
   ],
   "source": [
    "#pickup datetime vs distance\n",
    "p_coef1 = sc.stats.pearsonr(train_df[\"pickup_datetime\"].dt.hour.values,train_df[\"distance_eucle\"].values)\n",
    "p_coef1"
   ]
  },
  {
   "cell_type": "code",
   "execution_count": 40,
   "metadata": {
    "colab": {
     "base_uri": "https://localhost:8080/",
     "height": 418
    },
    "colab_type": "code",
    "id": "DA46LImDkbeu",
    "outputId": "cb89da1a-6800-4ece-cf34-e3097c891eb6"
   },
   "outputs": [
    {
     "name": "stderr",
     "output_type": "stream",
     "text": [
      "/usr/local/lib/python3.6/dist-packages/seaborn/categorical.py:1428: FutureWarning: remove_na is deprecated and is a private function. Do not use.\n",
      "  stat_data = remove_na(group_data)\n"
     ]
    },
    {
     "data": {
      "text/plain": [
       "<matplotlib.axes._subplots.AxesSubplot at 0x7f76ecaa60f0>"
      ]
     },
     "execution_count": 40,
     "metadata": {
      "tags": []
     },
     "output_type": "execute_result"
    },
    {
     "data": {
      "image/png": "[encoded data removed]",
      "text/plain": [
       "<matplotlib.figure.Figure at 0x7f76eca51a90>"
      ]
     },
     "metadata": {
      "tags": []
     },
     "output_type": "display_data"
    }
   ],
   "source": [
    "sns.barplot(x=train_df_small[\"pickup_datetime\"].dt.hour.values,y=train_df_small[\"distance_eucle\"].values)"
   ]
  },
  {
   "cell_type": "markdown",
   "metadata": {
    "colab_type": "text",
    "id": "DMVgMn_KlXID"
   },
   "source": [
    "# **Machine Learning Section**"
   ]
  },
  {
   "cell_type": "code",
   "execution_count": 0,
   "metadata": {
    "colab": {},
    "colab_type": "code",
    "id": "mDerYp89VKsx"
   },
   "outputs": [],
   "source": [
    "from sklearn.linear_model import LinearRegression\n",
    "from sklearn.model_selection import train_test_split\n",
    "from sklearn.metrics import mean_squared_error\n",
    "from sklearn.preprocessing import MinMaxScaler\n"
   ]
  },
  {
   "cell_type": "code",
   "execution_count": 28,
   "metadata": {
    "colab": {
     "base_uri": "https://localhost:8080/",
     "height": 459
    },
    "colab_type": "code",
    "id": "B9hRH2Z8VKiN",
    "outputId": "c01c9ff5-c7b2-4e55-db2a-2bc780ee6e8c"
   },
   "outputs": [
    {
     "data": {
      "text/plain": [
       "fare_amount                      float32\n",
       "pickup_datetime      datetime64[ns, UTC]\n",
       "pickup_longitude                 float32\n",
       "pickup_latitude                  float32\n",
       "dropoff_longitude                float32\n",
       "dropoff_latitude                 float32\n",
       "passenger_count                    uint8\n",
       "year                               int64\n",
       "day                                int64\n",
       "hour                               int64\n",
       "distance_sp                      float32\n",
       "distance_eucle                   float32\n",
       "distance_manh                    float32\n",
       "cp                               float32\n",
       "ps                               float32\n",
       "gc                               float32\n",
       "lg                               float32\n",
       "jf                               float32\n",
       "nw                               float32\n",
       "cp1                              float32\n",
       "ps1                              float32\n",
       "gc1                              float32\n",
       "lg1                              float32\n",
       "jf1                              float32\n",
       "nw1                              float32\n",
       "dtype: object"
      ]
     },
     "execution_count": 28,
     "metadata": {
      "tags": []
     },
     "output_type": "execute_result"
    }
   ],
   "source": [
    "train_df.dtypes"
   ]
  },
  {
   "cell_type": "code",
   "execution_count": 0,
   "metadata": {
    "colab": {},
    "colab_type": "code",
    "id": "GNyGOnfmVKd4"
   },
   "outputs": [],
   "source": [
    "param = ['hour','distance_eucle','year','day']"
   ]
  },
  {
   "cell_type": "code",
   "execution_count": 0,
   "metadata": {
    "colab": {},
    "colab_type": "code",
    "id": "2FI6an_0rlml"
   },
   "outputs": [],
   "source": [
    "X = train_df.drop('fare_amount',axis=1)\n",
    "y = train_df[['fare_amount']]\n"
   ]
  },
  {
   "cell_type": "code",
   "execution_count": 0,
   "metadata": {
    "colab": {},
    "colab_type": "code",
    "id": "f6wtcLRHWDpy"
   },
   "outputs": [],
   "source": [
    "X_train, X_valid, y_train, y_valid = train_test_split(X, y,test_size=0.2)\n",
    "                                                     \n"
   ]
  },
  {
   "cell_type": "code",
   "execution_count": 0,
   "metadata": {
    "colab": {},
    "colab_type": "code",
    "id": "aCWzWpvMo1b7"
   },
   "outputs": [],
   "source": [
    "model=LinearRegression()"
   ]
  },
  {
   "cell_type": "code",
   "execution_count": 21,
   "metadata": {
    "colab": {
     "base_uri": "https://localhost:8080/",
     "height": 34
    },
    "colab_type": "code",
    "id": "8mi-Rq5BWDlu",
    "outputId": "34b83d7a-20dd-4598-8804-9a3587177df7"
   },
   "outputs": [
    {
     "data": {
      "text/plain": [
       "LinearRegression(copy_X=True, fit_intercept=True, n_jobs=1, normalize=False)"
      ]
     },
     "execution_count": 21,
     "metadata": {
      "tags": []
     },
     "output_type": "execute_result"
    }
   ],
   "source": [
    "model.fit(X_train,y_train)"
   ]
  },
  {
   "cell_type": "code",
   "execution_count": 0,
   "metadata": {
    "colab": {},
    "colab_type": "code",
    "id": "j8o4hQRyo4UR"
   },
   "outputs": [],
   "source": [
    "pred = model.predict(X_valid)"
   ]
  },
  {
   "cell_type": "code",
   "execution_count": 23,
   "metadata": {
    "colab": {
     "base_uri": "https://localhost:8080/",
     "height": 34
    },
    "colab_type": "code",
    "id": "MdoSF8hIWDjZ",
    "outputId": "dc0a99b4-4a54-41e8-abc1-21a307f40164"
   },
   "outputs": [
    {
     "data": {
      "text/plain": [
       "4.695406882931351"
      ]
     },
     "execution_count": 23,
     "metadata": {
      "tags": []
     },
     "output_type": "execute_result"
    }
   ],
   "source": [
    "loss = np.sqrt(mean_squared_error(y_valid,pred))\n",
    "loss"
   ]
  },
  {
   "cell_type": "code",
   "execution_count": 24,
   "metadata": {
    "colab": {
     "base_uri": "https://localhost:8080/",
     "height": 376
    },
    "colab_type": "code",
    "id": "uGB2W2wR6ktk",
    "outputId": "cb7d4e24-ca38-4dc1-bb3f-d5553138f921"
   },
   "outputs": [
    {
     "data": {
      "image/png": "[encoded data removed]",
      "text/plain": [
       "<matplotlib.figure.Figure at 0x7fe4c8876860>"
      ]
     },
     "metadata": {
      "tags": []
     },
     "output_type": "display_data"
    }
   ],
   "source": [
    "#ana\n",
    "features = X_train.columns[:X_train.shape[1]]\n",
    "importances = model.coef_\n",
    "indices = np.argsort(importances)\n",
    "\n",
    "plt.title('Feature Importances')\n",
    "plt.barh(range(len(indices)), importances[indices], color='b', align='center')\n",
    "plt.yticks(range(len(indices)), [features[i] for i in indices])\n",
    "plt.xlabel('Relative Importance')\n",
    "plt.show()"
   ]
  },
  {
   "cell_type": "code",
   "execution_count": 0,
   "metadata": {
    "colab": {},
    "colab_type": "code",
    "id": "mZTzMp22WDfn"
   },
   "outputs": [],
   "source": [
    "test_df = pd.read_csv(\"/content/gdrive/My Drive/datasets/test.csv\")"
   ]
  },
  {
   "cell_type": "code",
   "execution_count": 0,
   "metadata": {
    "colab": {},
    "colab_type": "code",
    "id": "DSpsYWwJplZT"
   },
   "outputs": [],
   "source": [
    "test_df['pickup_datetime'] = pd.to_datetime(test_df['pickup_datetime'])"
   ]
  },
  {
   "cell_type": "code",
   "execution_count": 0,
   "metadata": {
    "colab": {},
    "colab_type": "code",
    "id": "t7r5vz0xWDdN"
   },
   "outputs": [],
   "source": [
    "test_df[\"hour\"] = pd.Series(test_df[\"pickup_datetime\"].dt.hour.values,index = test_df.index)"
   ]
  },
  {
   "cell_type": "code",
   "execution_count": 28,
   "metadata": {
    "colab": {
     "base_uri": "https://localhost:8080/",
     "height": 217
    },
    "colab_type": "code",
    "id": "yb-2B0vJqCsl",
    "outputId": "dfa7f05b-4296-406e-a9a3-36737daed8a3"
   },
   "outputs": [
    {
     "ename": "NameError",
     "evalue": "ignored",
     "output_type": "error",
     "traceback": [
      "\u001b[0;31m---------------------------------------------------------------------------\u001b[0m",
      "\u001b[0;31mNameError\u001b[0m                                 Traceback (most recent call last)",
      "\u001b[0;32m<ipython-input-28-8e97370a2228>\u001b[0m in \u001b[0;36m<module>\u001b[0;34m()\u001b[0m\n\u001b[0;32m----> 1\u001b[0;31m \u001b[0mdist2\u001b[0m \u001b[0;34m=\u001b[0m \u001b[0mdistanceM\u001b[0m\u001b[0;34m(\u001b[0m\u001b[0mtest_df\u001b[0m\u001b[0;34m[\u001b[0m\u001b[0;34m'pickup_latitude'\u001b[0m\u001b[0;34m]\u001b[0m\u001b[0;34m.\u001b[0m\u001b[0mvalues\u001b[0m\u001b[0;34m,\u001b[0m\u001b[0mtest_df\u001b[0m\u001b[0;34m[\u001b[0m\u001b[0;34m'pickup_longitude'\u001b[0m\u001b[0;34m]\u001b[0m\u001b[0;34m.\u001b[0m\u001b[0mvalues\u001b[0m\u001b[0;34m,\u001b[0m\u001b[0mtest_df\u001b[0m\u001b[0;34m[\u001b[0m\u001b[0;34m'dropoff_latitude'\u001b[0m\u001b[0;34m]\u001b[0m\u001b[0;34m.\u001b[0m\u001b[0mvalues\u001b[0m\u001b[0;34m,\u001b[0m\u001b[0mtest_df\u001b[0m\u001b[0;34m[\u001b[0m\u001b[0;34m'dropoff_longitude'\u001b[0m\u001b[0;34m]\u001b[0m\u001b[0;34m.\u001b[0m\u001b[0mvalues\u001b[0m\u001b[0;34m)\u001b[0m\u001b[0;34m\u001b[0m\u001b[0m\n\u001b[0m\u001b[1;32m      2\u001b[0m \u001b[0mdist2\u001b[0m \u001b[0;34m=\u001b[0m \u001b[0mpd\u001b[0m\u001b[0;34m.\u001b[0m\u001b[0mSeries\u001b[0m\u001b[0;34m(\u001b[0m\u001b[0mdist2\u001b[0m\u001b[0;34m,\u001b[0m\u001b[0mindex\u001b[0m \u001b[0;34m=\u001b[0m \u001b[0mtest_df\u001b[0m\u001b[0;34m.\u001b[0m\u001b[0mindex\u001b[0m\u001b[0;34m)\u001b[0m\u001b[0;34m\u001b[0m\u001b[0m\n\u001b[1;32m      3\u001b[0m \u001b[0mtest_df\u001b[0m\u001b[0;34m[\u001b[0m\u001b[0;34m'distance_manh'\u001b[0m\u001b[0;34m]\u001b[0m \u001b[0;34m=\u001b[0m \u001b[0mdist2\u001b[0m\u001b[0;34m\u001b[0m\u001b[0m\n",
      "\u001b[0;31mNameError\u001b[0m: name 'distanceM' is not defined"
     ]
    }
   ],
   "source": [
    "dist2 = distanceM(test_df['pickup_latitude'].values,test_df['pickup_longitude'].values,test_df['dropoff_latitude'].values,test_df['dropoff_longitude'].values)\n",
    "dist2 = pd.Series(dist2,index = test_df.index)\n",
    "test_df['distance_manh'] = dist2"
   ]
  },
  {
   "cell_type": "code",
   "execution_count": 0,
   "metadata": {
    "colab": {},
    "colab_type": "code",
    "id": "kG9Gr5h2qCpe"
   },
   "outputs": [],
   "source": [
    "dist1 = distance1(test_df['pickup_latitude'].values,test_df['pickup_longitude'].values,test_df['dropoff_latitude'].values,test_df['dropoff_longitude'].values)\n",
    "dist1 = pd.Series(dist1,index = test_df.index)\n",
    "test_df['distance_eucle'] = dist1"
   ]
  },
  {
   "cell_type": "code",
   "execution_count": 0,
   "metadata": {
    "colab": {},
    "colab_type": "code",
    "id": "nUwIIzI7FHvy"
   },
   "outputs": [],
   "source": [
    "test_df['year'] = test_df['pickup_datetime'].dt.year"
   ]
  },
  {
   "cell_type": "code",
   "execution_count": 0,
   "metadata": {
    "colab": {},
    "colab_type": "code",
    "id": "SrGCasyQFcAc"
   },
   "outputs": [],
   "source": [
    "test_df['day'] = test_df['pickup_datetime'].dt.weekday"
   ]
  },
  {
   "cell_type": "code",
   "execution_count": 0,
   "metadata": {
    "colab": {},
    "colab_type": "code",
    "id": "EHj9ggY1WDZk"
   },
   "outputs": [],
   "source": [
    "pred = model.predict(test_df[param])"
   ]
  },
  {
   "cell_type": "code",
   "execution_count": 65,
   "metadata": {
    "colab": {
     "base_uri": "https://localhost:8080/",
     "height": 364
    },
    "colab_type": "code",
    "id": "dR8nT-7EsPWe",
    "outputId": "a5491b42-ff97-447b-a1b9-b5d6249ef593"
   },
   "outputs": [
    {
     "data": {
      "text/plain": [
       "[<matplotlib.lines.Line2D at 0x7f84dbb2d0b8>]"
      ]
     },
     "execution_count": 65,
     "metadata": {
      "tags": []
     },
     "output_type": "execute_result"
    },
    {
     "data": {
      "image/png": "[encoded data removed]",
      "text/plain": [
       "<matplotlib.figure.Figure at 0x7f84dbbb1f60>"
      ]
     },
     "metadata": {
      "tags": []
     },
     "output_type": "display_data"
    }
   ],
   "source": [
    "plt.plot(dist1)"
   ]
  },
  {
   "cell_type": "code",
   "execution_count": 35,
   "metadata": {
    "colab": {
     "base_uri": "https://localhost:8080/",
     "height": 204
    },
    "colab_type": "code",
    "id": "K9brrOHVq1ws",
    "outputId": "33020829-fe4f-4bf4-efc4-fb4783dcc8f8"
   },
   "outputs": [
    {
     "data": {
      "text/html": [
       "<div>\n",
       "<style scoped>\n",
       "    .dataframe tbody tr th:only-of-type {\n",
       "        vertical-align: middle;\n",
       "    }\n",
       "\n",
       "    .dataframe tbody tr th {\n",
       "        vertical-align: top;\n",
       "    }\n",
       "\n",
       "    .dataframe thead th {\n",
       "        text-align: right;\n",
       "    }\n",
       "</style>\n",
       "<table border=\"1\" class=\"dataframe\">\n",
       "  <thead>\n",
       "    <tr style=\"text-align: right;\">\n",
       "      <th></th>\n",
       "      <th>key</th>\n",
       "      <th>fare_amount</th>\n",
       "    </tr>\n",
       "  </thead>\n",
       "  <tbody>\n",
       "    <tr>\n",
       "      <th>9909</th>\n",
       "      <td>2015-05-10 12:37:51.0000002</td>\n",
       "      <td>10.208090</td>\n",
       "    </tr>\n",
       "    <tr>\n",
       "      <th>9910</th>\n",
       "      <td>2015-01-12 17:05:51.0000001</td>\n",
       "      <td>12.037926</td>\n",
       "    </tr>\n",
       "    <tr>\n",
       "      <th>9911</th>\n",
       "      <td>2015-04-19 20:44:15.0000001</td>\n",
       "      <td>42.087456</td>\n",
       "    </tr>\n",
       "    <tr>\n",
       "      <th>9912</th>\n",
       "      <td>2015-01-31 01:05:19.0000005</td>\n",
       "      <td>19.940935</td>\n",
       "    </tr>\n",
       "    <tr>\n",
       "      <th>9913</th>\n",
       "      <td>2015-01-18 14:06:23.0000006</td>\n",
       "      <td>9.004183</td>\n",
       "    </tr>\n",
       "  </tbody>\n",
       "</table>\n",
       "</div>"
      ],
      "text/plain": [
       "                              key  fare_amount\n",
       "9909  2015-05-10 12:37:51.0000002    10.208090\n",
       "9910  2015-01-12 17:05:51.0000001    12.037926\n",
       "9911  2015-04-19 20:44:15.0000001    42.087456\n",
       "9912  2015-01-31 01:05:19.0000005    19.940935\n",
       "9913  2015-01-18 14:06:23.0000006     9.004183"
      ]
     },
     "execution_count": 35,
     "metadata": {
      "tags": []
     },
     "output_type": "execute_result"
    }
   ],
   "source": [
    "submission2 = pd.DataFrame({\"key\": test_df['key'],\"fare_amount\": pred},columns = ['key','fare_amount'])\n",
    "submission2.tail()"
   ]
  },
  {
   "cell_type": "code",
   "execution_count": 0,
   "metadata": {
    "colab": {},
    "colab_type": "code",
    "id": "hs3446ONWDXK"
   },
   "outputs": [],
   "source": [
    "submission2.to_csv(\"submission2.csv\", index = False)"
   ]
  }
 ],
 "metadata": {
  "accelerator": "GPU",
  "colab": {
   "collapsed_sections": [],
   "name": "Untitled0.ipynb",
   "provenance": [],
   "toc_visible": true,
   "version": "0.3.2"
  },
  "kernelspec": {
   "display_name": "Python 3",
   "language": "python",
   "name": "python3"
  },
  "language_info": {
   "codemirror_mode": {
    "name": "ipython",
    "version": 3
   },
   "file_extension": ".py",
   "mimetype": "text/x-python",
   "name": "python",
   "nbconvert_exporter": "python",
   "pygments_lexer": "ipython3",
   "version": "3.5.2"
  }
 },
 "nbformat": 4,
 "nbformat_minor": 1
}
